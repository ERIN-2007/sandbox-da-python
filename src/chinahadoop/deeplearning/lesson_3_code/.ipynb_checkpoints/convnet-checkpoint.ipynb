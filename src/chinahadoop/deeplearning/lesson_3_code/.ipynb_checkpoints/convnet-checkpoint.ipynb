{
 "cells": [
  {
   "cell_type": "markdown",
   "metadata": {},
   "source": [
    "# 用卷积神经网络做图像识别\n",
    "这个ipython notebook会搭建一个2层的卷积神经网络，然后在CIFAR-10是上测验效果。\n",
    "\n",
    "我们在文件`nn/classifiers/convnet.py`中实现了`two_layer_convnet`函数，可以对2层的卷积神经网络计算损失和梯度。需要稍微注意一下的是，这里用的是`nn/layer_utils.py`文件中定义的\"sandwich\"层(即把卷积层，激励层，全连接层合在一个层里了)。"
   ]
  },
  {
   "cell_type": "code",
   "execution_count": 1,
   "metadata": {
    "collapsed": false
   },
   "outputs": [],
   "source": [
    "# 准备工作\n",
    "\n",
    "import numpy as np\n",
    "import matplotlib.pyplot as plt\n",
    "from nn.classifier_trainer import ClassifierTrainer\n",
    "from nn.gradient_check import eval_numerical_gradient\n",
    "from nn.classifiers.convnet import *\n",
    "\n",
    "%matplotlib inline\n",
    "plt.rcParams['figure.figsize'] = (10.0, 8.0) # set default size of plots\n",
    "plt.rcParams['image.interpolation'] = 'nearest'\n",
    "plt.rcParams['image.cmap'] = 'gray'\n",
    "\n",
    "# for auto-reloading external modules\n",
    "# see http://stackoverflow.com/questions/1907993/autoreload-of-modules-in-ipython\n",
    "%load_ext autoreload\n",
    "%autoreload 2\n",
    "\n",
    "def rel_error(x, y):\n",
    "    \"\"\" returns relative error \"\"\"\n",
    "    return np.max(np.abs(x - y) / (np.maximum(1e-18, np.abs(x) + np.abs(y))))\n"
   ]
  },
  {
   "cell_type": "code",
   "execution_count": 3,
   "metadata": {
    "collapsed": false
   },
   "outputs": [
    {
     "name": "stdout",
     "output_type": "stream",
     "text": [
      "Train data shape:  (49000, 3, 32, 32)\n",
      "Train labels shape:  (49000,)\n",
      "Validation data shape:  (1000, 3, 32, 32)\n",
      "Validation labels shape:  (1000,)\n",
      "Test data shape:  (1000, 32, 32, 3)\n",
      "Test labels shape:  (1000,)\n"
     ]
    }
   ],
   "source": [
    "from nn.data_utils import load_CIFAR10\n",
    "\n",
    "def get_CIFAR10_data(num_training=49000, num_validation=1000, num_test=1000):\n",
    "    \"\"\"\n",
    "    载入CIFAR-10数据集并做预处理 \n",
    "    \"\"\"\n",
    "    # Load the raw CIFAR-10 data\n",
    "    cifar10_dir = 'nn/datasets/cifar-10-batches-py'\n",
    "    X_train, y_train, X_test, y_test = load_CIFAR10(cifar10_dir)\n",
    "        \n",
    "    # Subsample the data\n",
    "    mask = range(num_training, num_training + num_validation)\n",
    "    X_val = X_train[mask]\n",
    "    y_val = y_train[mask]\n",
    "    mask = range(num_training)\n",
    "    X_train = X_train[mask]\n",
    "    y_train = y_train[mask]\n",
    "    mask = range(num_test)\n",
    "    X_test = X_test[mask]\n",
    "    y_test = y_test[mask]\n",
    "\n",
    "    # Normalize the data: subtract the mean image\n",
    "    mean_image = np.mean(X_train, axis=0)\n",
    "    X_train -= mean_image\n",
    "    X_val -= mean_image\n",
    "    X_test -= mean_image\n",
    "    \n",
    "    # Transpose so that channels come first\n",
    "    X_train = X_train.transpose(0, 3, 1, 2).copy()\n",
    "    X_val = X_val.transpose(0, 3, 1, 2).copy()\n",
    "    x_test = X_test.transpose(0, 3, 1, 2).copy()\n",
    "\n",
    "    return X_train, y_train, X_val, y_val, X_test, y_test\n",
    "\n",
    "\n",
    "# Invoke the above function to get our data.\n",
    "X_train, y_train, X_val, y_val, X_test, y_test = get_CIFAR10_data()\n",
    "print 'Train data shape: ', X_train.shape\n",
    "print 'Train labels shape: ', y_train.shape\n",
    "print 'Validation data shape: ', X_val.shape\n",
    "print 'Validation labels shape: ', y_val.shape\n",
    "print 'Test data shape: ', X_test.shape\n",
    "print 'Test labels shape: ', y_test.shape"
   ]
  },
  {
   "cell_type": "markdown",
   "metadata": {},
   "source": [
    "# 查看一下损失函数计算准确度\n",
    "搭建完一个神经网络之后，非常重要的一件事情是，我们需要检查一下我们的损失loss是否计算正确。简单的一个办法就是如果我们做分类，最后用的softmax分类，那我们给定随机权重值的时候对应C个类别的分类，loss应该差不多是log(C)，当然加了正则化项之后这个值会变大一点。 "
   ]
  },
  {
   "cell_type": "code",
   "execution_count": 12,
   "metadata": {
    "collapsed": false
   },
   "outputs": [
    {
     "name": "stdout",
     "output_type": "stream",
     "text": [
      "Sanity check loss (no regularization):  2.30264679361\n",
      "Sanity check loss (with regularization):  2.34471165979\n"
     ]
    }
   ],
   "source": [
    "# 记得pip安装一下Cpython，然后在nn目录下执行python setup.py build_ext --inplace\n",
    "model = init_two_layer_convnet()\n",
    "\n",
    "X = np.random.randn(100, 3, 32, 32)\n",
    "y = np.random.randint(10, size=100)\n",
    "\n",
    "loss, _ = two_layer_convnet(X, model, y, reg=0)\n",
    "\n",
    "# Sanity check: Loss should be about log(10) = 2.3026\n",
    "print 'Sanity check loss (no regularization): ', loss\n",
    "\n",
    "# Sanity check: Loss should go up when you add regularization\n",
    "loss, _ = two_layer_convnet(X, model, y, reg=1)\n",
    "print 'Sanity check loss (with regularization): ', loss"
   ]
  },
  {
   "cell_type": "markdown",
   "metadata": {},
   "source": [
    "# 梯度检验\n",
    "需要验证一下我们对于梯度的实现是否正确，这一步至关重要，不然BP算法很可能会拿到错误的梯度，那迭代就进行不下去啦。"
   ]
  },
  {
   "cell_type": "code",
   "execution_count": 13,
   "metadata": {
    "collapsed": false
   },
   "outputs": [
    {
     "name": "stdout",
     "output_type": "stream",
     "text": [
      "W1 max relative error: 9.121148e-02\n",
      "W2 max relative error: 3.740758e-06\n",
      "b1 max relative error: 3.634198e-08\n",
      "b2 max relative error: 8.522420e-10\n"
     ]
    }
   ],
   "source": [
    "num_inputs = 2\n",
    "input_shape = (3, 16, 16)\n",
    "reg = 0.0\n",
    "num_classes = 10\n",
    "X = np.random.randn(num_inputs, *input_shape)\n",
    "y = np.random.randint(num_classes, size=num_inputs)\n",
    "\n",
    "model = init_two_layer_convnet(num_filters=3, filter_size=3, input_shape=input_shape)\n",
    "loss, grads = two_layer_convnet(X, model, y)\n",
    "for param_name in sorted(grads):\n",
    "    f = lambda _: two_layer_convnet(X, model, y)[0]\n",
    "    param_grad_num = eval_numerical_gradient(f, model[param_name], verbose=False, h=1e-6)\n",
    "    e = rel_error(param_grad_num, grads[param_name])\n",
    "    print '%s max relative error: %e' % (param_name, rel_error(param_grad_num, grads[param_name]))"
   ]
  },
  {
   "cell_type": "markdown",
   "metadata": {},
   "source": [
    "# 先看看小样本集上是否可以完全拟合\n",
    "要看看自己实现是否正确，一个小技巧是先看看在小样本集上是否可以完全拟合，当然，因为是在训练集上完全拟合，测试集上的准确率可能会低一截。"
   ]
  },
  {
   "cell_type": "code",
   "execution_count": 14,
   "metadata": {
    "collapsed": false
   },
   "outputs": [
    {
     "name": "stdout",
     "output_type": "stream",
     "text": [
      "starting iteration  0\n",
      "Finished epoch 0 / 10: cost 2.301550, train: 0.160000, val 0.123000, lr 1.000000e-04\n",
      "Finished epoch 1 / 10: cost 2.266975, train: 0.280000, val 0.141000, lr 9.500000e-05\n",
      "Finished epoch 2 / 10: cost 1.886672, train: 0.280000, val 0.146000, lr 9.025000e-05\n",
      "Finished epoch 3 / 10: cost 1.621464, train: 0.500000, val 0.186000, lr 8.573750e-05\n",
      "Finished epoch 4 / 10: cost 1.891602, train: 0.540000, val 0.201000, lr 8.145062e-05\n",
      "Finished epoch 5 / 10: cost 1.860925, train: 0.440000, val 0.149000, lr 7.737809e-05\n",
      "Finished epoch 6 / 10: cost 1.036989, train: 0.740000, val 0.171000, lr 7.350919e-05\n",
      "Finished epoch 7 / 10: cost 0.975366, train: 0.760000, val 0.181000, lr 6.983373e-05\n",
      "Finished epoch 8 / 10: cost 0.790765, train: 0.780000, val 0.173000, lr 6.634204e-05\n",
      "Finished epoch 9 / 10: cost 0.294475, train: 0.860000, val 0.164000, lr 6.302494e-05\n",
      "Finished epoch 10 / 10: cost 0.249152, train: 0.860000, val 0.151000, lr 5.987369e-05\n",
      "finished optimization. best validation accuracy: 0.201000\n"
     ]
    }
   ],
   "source": [
    "# 用2层的卷积神经网络在50个样本上训练\n",
    "\n",
    "model = init_two_layer_convnet()\n",
    "trainer = ClassifierTrainer()\n",
    "best_model, loss_history, train_acc_history, val_acc_history = trainer.train(\n",
    "          X_train[:50], y_train[:50], X_val, y_val, model, two_layer_convnet,\n",
    "          reg=0.001, momentum=0.9, learning_rate=0.0001, batch_size=10, num_epochs=10,\n",
    "          verbose=True)"
   ]
  },
  {
   "cell_type": "markdown",
   "metadata": {},
   "source": [
    "咱们把上面过程的loss，以及训练集和交叉验证集上的准确率画出来，应该可以看到“过拟合”的情况"
   ]
  },
  {
   "cell_type": "code",
   "execution_count": 15,
   "metadata": {
    "collapsed": false
   },
   "outputs": [
    {
     "data": {
      "image/png": "[encoded data removed]",
      "text/plain": [
       "<matplotlib.figure.Figure at 0x1133a5290>"
      ]
     },
     "metadata": {},
     "output_type": "display_data"
    }
   ],
   "source": [
    "plt.subplot(2, 1, 1)\n",
    "plt.plot(loss_history)\n",
    "plt.xlabel('iteration')\n",
    "plt.ylabel('loss')\n",
    "\n",
    "plt.subplot(2, 1, 2)\n",
    "plt.plot(train_acc_history)\n",
    "plt.plot(val_acc_history)\n",
    "plt.legend(['train', 'val'], loc='upper left')\n",
    "plt.xlabel('epoch')\n",
    "plt.ylabel('accuracy')\n",
    "plt.show()"
   ]
  },
  {
   "cell_type": "markdown",
   "metadata": {},
   "source": [
    "# 开始训练吧\n",
    "既然之前都已经完成整个卷积神经网络的过程，那大家就调用一下实现了的卷积神经网络，在CIFAR-10数据集上试验一把吧，按理来说你应该可以拿到50%+的准确率。"
   ]
  },
  {
   "cell_type": "code",
   "execution_count": 16,
   "metadata": {
    "collapsed": false
   },
   "outputs": [
    {
     "name": "stdout",
     "output_type": "stream",
     "text": [
      "starting iteration  0\n",
      "Finished epoch 0 / 1: cost 2.309007, train: 0.092000, val 0.092000, lr 1.000000e-04\n",
      "Finished epoch 0 / 1: cost 1.835443, train: 0.282000, val 0.317000, lr 1.000000e-04\n",
      "Finished epoch 0 / 1: cost 1.859416, train: 0.374000, val 0.396000, lr 1.000000e-04\n",
      "Finished epoch 0 / 1: cost 1.682609, train: 0.436000, val 0.433000, lr 1.000000e-04\n",
      "Finished epoch 0 / 1: cost 1.790532, train: 0.393000, val 0.402000, lr 1.000000e-04\n",
      "Finished epoch 0 / 1: cost 1.556617, train: 0.423000, val 0.438000, lr 1.000000e-04\n",
      "Finished epoch 0 / 1: cost 1.876593, train: 0.391000, val 0.401000, lr 1.000000e-04\n",
      "Finished epoch 0 / 1: cost 1.659644, train: 0.467000, val 0.433000, lr 1.000000e-04\n",
      "Finished epoch 0 / 1: cost 1.821347, train: 0.426000, val 0.454000, lr 1.000000e-04\n",
      "Finished epoch 0 / 1: cost 2.003791, train: 0.468000, val 0.489000, lr 1.000000e-04\n",
      "starting iteration  500\n",
      "Finished epoch 0 / 1: cost 1.912581, train: 0.471000, val 0.432000, lr 1.000000e-04\n",
      "Finished epoch 0 / 1: cost 1.837869, train: 0.483000, val 0.481000, lr 1.000000e-04\n",
      "Finished epoch 0 / 1: cost 1.762528, train: 0.461000, val 0.423000, lr 1.000000e-04\n",
      "Finished epoch 0 / 1: cost 1.468218, train: 0.475000, val 0.455000, lr 1.000000e-04\n",
      "Finished epoch 0 / 1: cost 1.990751, train: 0.497000, val 0.483000, lr 1.000000e-04\n",
      "Finished epoch 0 / 1: cost 1.200235, train: 0.478000, val 0.501000, lr 1.000000e-04\n",
      "Finished epoch 0 / 1: cost 1.054466, train: 0.480000, val 0.467000, lr 1.000000e-04\n",
      "Finished epoch 0 / 1: cost 1.536348, train: 0.432000, val 0.432000, lr 1.000000e-04\n",
      "Finished epoch 0 / 1: cost 1.641137, train: 0.511000, val 0.520000, lr 1.000000e-04\n",
      "Finished epoch 0 / 1: cost 1.804483, train: 0.460000, val 0.439000, lr 1.000000e-04\n",
      "Finished epoch 1 / 1: cost 1.819357, train: 0.485000, val 0.482000, lr 9.500000e-05\n",
      "finished optimization. best validation accuracy: 0.520000\n"
     ]
    }
   ],
   "source": [
    "model = init_two_layer_convnet(filter_size=7)\n",
    "trainer = ClassifierTrainer()\n",
    "best_model, loss_history, train_acc_history, val_acc_history = trainer.train(\n",
    "          X_train, y_train, X_val, y_val, model, two_layer_convnet,\n",
    "          reg=0.001, momentum=0.9, learning_rate=0.0001, batch_size=50, num_epochs=1,\n",
    "          acc_frequency=50, verbose=True)"
   ]
  },
  {
   "cell_type": "markdown",
   "metadata": {},
   "source": [
    "# 可视化权重值\n",
    "我们可以把第一个卷积层拿到的权重，拿出来可视化一下。如果是训练一切正常，那你应该能看到不同颜色和方向、边缘的图案。"
   ]
  },
  {
   "cell_type": "code",
   "execution_count": 17,
   "metadata": {
    "collapsed": false
   },
   "outputs": [
    {
     "data": {
      "text/plain": [
       "<matplotlib.image.AxesImage at 0x118b198d0>"
      ]
     },
     "execution_count": 17,
     "metadata": {},
     "output_type": "execute_result"
    },
    {
     "data": {
      "image/png": "[encoded data removed]",
      "text/plain": [
       "<matplotlib.figure.Figure at 0x110506a90>"
      ]
     },
     "metadata": {},
     "output_type": "display_data"
    }
   ],
   "source": [
    "from nn.vis_utils import visualize_grid\n",
    "\n",
    "grid = visualize_grid(best_model['W1'].transpose(0, 2, 3, 1))\n",
    "plt.imshow(grid.astype('uint8'))"
   ]
  }
 ],
 "metadata": {
  "kernelspec": {
   "display_name": "Python 2",
   "language": "python",
   "name": "python2"
  },
  "language_info": {
   "codemirror_mode": {
    "name": "ipython",
    "version": 2
   },
   "file_extension": ".py",
   "mimetype": "text/x-python",
   "name": "python",
   "nbconvert_exporter": "python",
   "pygments_lexer": "ipython2",
   "version": "2.7.10"
  }
 },
 "nbformat": 4,
 "nbformat_minor": 0
}
