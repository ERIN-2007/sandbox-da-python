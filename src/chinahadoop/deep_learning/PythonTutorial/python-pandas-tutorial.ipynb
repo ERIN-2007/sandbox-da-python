{
 "cells": [
  {
   "cell_type": "markdown",
   "metadata": {},
   "source": [
    "# Python主要数据探索函数"
   ]
  },
  {
   "cell_type": "markdown",
   "metadata": {},
   "source": [
    "基本统计特征函数"
   ]
  },
  {
   "cell_type": "code",
   "execution_count": 1,
   "metadata": {
    "collapsed": true
   },
   "outputs": [],
   "source": [
    "import numpy as np\n",
    "import pandas as pd"
   ]
  },
  {
   "cell_type": "code",
   "execution_count": 2,
   "metadata": {
    "collapsed": false
   },
   "outputs": [
    {
     "name": "stdout",
     "output_type": "stream",
     "text": [
      "0     6\n",
      "1     9\n",
      "2    12\n",
      "3    15\n",
      "4    18\n",
      "5    21\n",
      "6    24\n",
      "dtype: int64\n"
     ]
    }
   ],
   "source": [
    "D = pd.DataFrame([range(1, 8), range(2, 9), range(3, 10)])  #生成样本D，一行为1~7， 一行为2~8\n",
    "print D.sum()  #数据样本总和（按列计算）"
   ]
  },
  {
   "cell_type": "code",
   "execution_count": 3,
   "metadata": {
    "collapsed": false
   },
   "outputs": [
    {
     "name": "stdout",
     "output_type": "stream",
     "text": [
      "0    2.0\n",
      "1    3.0\n",
      "2    4.0\n",
      "3    5.0\n",
      "4    6.0\n",
      "5    7.0\n",
      "6    8.0\n",
      "dtype: float64\n"
     ]
    }
   ],
   "source": [
    "print D.mean()  #数据样本的算术平均数"
   ]
  },
  {
   "cell_type": "code",
   "execution_count": 4,
   "metadata": {
    "collapsed": false
   },
   "outputs": [
    {
     "name": "stdout",
     "output_type": "stream",
     "text": [
      "0    1.0\n",
      "1    1.0\n",
      "2    1.0\n",
      "3    1.0\n",
      "4    1.0\n",
      "5    1.0\n",
      "6    1.0\n",
      "dtype: float64\n"
     ]
    }
   ],
   "source": [
    "print D.var()  #数据样本的方差"
   ]
  },
  {
   "cell_type": "code",
   "execution_count": 5,
   "metadata": {
    "collapsed": false
   },
   "outputs": [
    {
     "name": "stdout",
     "output_type": "stream",
     "text": [
      "0    1.0\n",
      "1    1.0\n",
      "2    1.0\n",
      "3    1.0\n",
      "4    1.0\n",
      "5    1.0\n",
      "6    1.0\n",
      "dtype: float64\n"
     ]
    }
   ],
   "source": [
    "print D.std()  #数据样本的标准差"
   ]
  },
  {
   "cell_type": "code",
   "execution_count": 6,
   "metadata": {
    "collapsed": false
   },
   "outputs": [
    {
     "name": "stdout",
     "output_type": "stream",
     "text": [
      "     0    1    2    3    4    5    6\n",
      "0  1.0  1.0  1.0  1.0  1.0  1.0  1.0\n",
      "1  1.0  1.0  1.0  1.0  1.0  1.0  1.0\n",
      "2  1.0  1.0  1.0  1.0  1.0  1.0  1.0\n",
      "3  1.0  1.0  1.0  1.0  1.0  1.0  1.0\n",
      "4  1.0  1.0  1.0  1.0  1.0  1.0  1.0\n",
      "5  1.0  1.0  1.0  1.0  1.0  1.0  1.0\n",
      "6  1.0  1.0  1.0  1.0  1.0  1.0  1.0\n",
      "1.0\n"
     ]
    }
   ],
   "source": [
    "D = pd.DataFrame([range(1, 8), range(2, 9)])  #生成样本D，一行为1~7， 一行为2~8\n",
    "print D.corr(method = 'pearson')  #相关系数矩阵\n",
    "s1 = D.loc[0]\n",
    "s2 = D.loc[1]\n",
    "print s1.corr(s2, method = 'pearson')  #s1 s2的相关系数"
   ]
  },
  {
   "cell_type": "code",
   "execution_count": 7,
   "metadata": {
    "collapsed": false
   },
   "outputs": [
    {
     "name": "stdout",
     "output_type": "stream",
     "text": [
      "          0         1         2         3         4\n",
      "0  1.767066 -1.030695 -1.037904  0.639847  0.260247\n",
      "1 -1.030695  0.790179  0.557948 -0.513254 -0.174332\n",
      "2 -1.037904  0.557948  2.708772  1.168716 -0.177859\n",
      "3  0.639847 -0.513254  1.168716  1.459186 -0.017827\n",
      "4  0.260247 -0.174332 -0.177859 -0.017827  0.398453\n",
      "-1.03069546438\n"
     ]
    }
   ],
   "source": [
    "D = pd.DataFrame(np.random.randn(6, 5))  #产生6X5随机矩阵\n",
    "print D.cov()  #协方差矩阵\n",
    "print D[0].cov(D[1])  #第一列和第二列的协方差"
   ]
  },
  {
   "cell_type": "code",
   "execution_count": 8,
   "metadata": {
    "collapsed": false
   },
   "outputs": [
    {
     "name": "stdout",
     "output_type": "stream",
     "text": [
      "0    0.396875\n",
      "1   -0.721789\n",
      "2    0.617388\n",
      "3   -0.463139\n",
      "4   -1.570194\n",
      "dtype: float64\n",
      "0   -1.220904\n",
      "1   -0.670769\n",
      "2   -2.124581\n",
      "3    0.069116\n",
      "4    3.777184\n",
      "dtype: float64\n"
     ]
    }
   ],
   "source": [
    "print D.skew()  #数据样本的偏度（三阶矩）\n",
    "print D.kurt()  #数据样本的峰度(四阶矩)"
   ]
  },
  {
   "cell_type": "code",
   "execution_count": 9,
   "metadata": {
    "collapsed": false
   },
   "outputs": [
    {
     "name": "stdout",
     "output_type": "stream",
     "text": [
      "              0         1         2         3         4\n",
      "count  6.000000  6.000000  6.000000  6.000000  6.000000\n",
      "mean  -0.511057 -0.115763  0.345971  0.040856 -0.167319\n",
      "std    1.329310  0.888920  1.645835  1.207968  0.631231\n",
      "min   -2.017369 -1.492469 -1.132987 -1.834532 -1.358423\n",
      "25%   -1.532805 -0.610652 -0.935089 -0.562181 -0.088270\n",
      "50%   -0.604441  0.080319 -0.284302  0.266608 -0.055040\n",
      "75%    0.264093  0.510648  1.812842  0.638405 -0.000860\n",
      "max    1.448565  0.824139  2.417546  1.622558  0.546735\n"
     ]
    }
   ],
   "source": [
    "print D.describe()  #输出样本数据的基本统计量，包括均值 标准差 最大值 最小值 分位数等"
   ]
  },
  {
   "cell_type": "markdown",
   "metadata": {},
   "source": [
    "拓展统计特征函数"
   ]
  },
  {
   "cell_type": "markdown",
   "metadata": {},
   "source": [
    "                    pandas累积统计特征函数\n",
    "\n",
    "cumsum()    依次给出前1、2、3...、n个数的和         pandas\n",
    "\n",
    "cumprod()   依次给出前1、2、3...、n个数的积         pandas\n",
    "\n",
    "cummax()    依次给出前1、2、3...、n个数的最大值      pandas\n",
    "\n",
    "cummin()    依次给出前1、2、3...、n个数的最小值      pandas"
   ]
  },
  {
   "cell_type": "markdown",
   "metadata": {},
   "source": [
    "                    pandas累积统计特征函数\n",
    "                    \n",
    "rolling_sum()  计算数据样本的总和(按列计算)      pandas\n",
    "\n",
    "rolling_mean() 数据样本的算术平均数             pandas\n",
    "\n",
    "rolling_var()  计算数据样本的方差               pandas\n",
    "\n",
    "rolling_std()  计算数据样本的标准差             pandas\n",
    "\n",
    "rolling_corr() 计算数据样本的Spearson(pearson)相关系数矩阵   pandas\n",
    "\n",
    "rolling_cov()  计算数据样本的协方差矩阵          pandas\n",
    "\n",
    "rolling_skew() 样本值的偏度（三阶矩）             pandas\n",
    "\n",
    "rolling_kurt() 样本值的峰度(四阶矩)             pandas"
   ]
  },
  {
   "cell_type": "code",
   "execution_count": 10,
   "metadata": {
    "collapsed": false
   },
   "outputs": [
    {
     "name": "stdout",
     "output_type": "stream",
     "text": [
      "0       0\n",
      "1       1\n",
      "2       3\n",
      "3       6\n",
      "4      10\n",
      "5      15\n",
      "6      21\n",
      "7      28\n",
      "8      36\n",
      "9      45\n",
      "10     55\n",
      "11     66\n",
      "12     78\n",
      "13     91\n",
      "14    105\n",
      "15    120\n",
      "16    136\n",
      "17    153\n",
      "18    171\n",
      "19    190\n",
      "dtype: int64\n"
     ]
    }
   ],
   "source": [
    "D = pd.Series(range(0, 20))  #构造Series, 内容为0~19\n",
    "print D.cumsum()  #给出前n项和"
   ]
  },
  {
   "cell_type": "code",
   "execution_count": 11,
   "metadata": {
    "collapsed": false
   },
   "outputs": [
    {
     "name": "stdout",
     "output_type": "stream",
     "text": [
      "0      NaN\n",
      "1      1.0\n",
      "2      3.0\n",
      "3      5.0\n",
      "4      7.0\n",
      "5      9.0\n",
      "6     11.0\n",
      "7     13.0\n",
      "8     15.0\n",
      "9     17.0\n",
      "10    19.0\n",
      "11    21.0\n",
      "12    23.0\n",
      "13    25.0\n",
      "14    27.0\n",
      "15    29.0\n",
      "16    31.0\n",
      "17    33.0\n",
      "18    35.0\n",
      "19    37.0\n",
      "dtype: float64\n"
     ]
    },
    {
     "name": "stderr",
     "output_type": "stream",
     "text": [
      "/home/yzw/anaconda2/lib/python2.7/site-packages/ipykernel/__main__.py:1: FutureWarning: pd.rolling_sum is deprecated for Series and will be removed in a future version, replace with \n",
      "\tSeries.rolling(window=2,center=False).sum()\n",
      "  if __name__ == '__main__':\n"
     ]
    }
   ],
   "source": [
    "print pd.rolling_sum(D, 2)  #依次对相邻两项求和"
   ]
  },
  {
   "cell_type": "markdown",
   "metadata": {},
   "source": [
    "# 统计作图函数"
   ]
  },
  {
   "cell_type": "markdown",
   "metadata": {
    "collapsed": true
   },
   "source": [
    "             python主要统计作图函数\n",
    "             \n",
    "plot()        绘制线性二维图，折线图\n",
    "\n",
    "pie()         绘制饼形图\n",
    "\n",
    "hist()        绘制二维条形直方图，可显示数据的分配情形\n",
    "\n",
    "boxplot()     绘制样本数据的箱型图\n",
    "\n",
    "plot(logy = True)  绘制y轴的对数图\n",
    "\n",
    "plot(yerr = error) 绘制误差条形图"
   ]
  },
  {
   "cell_type": "code",
   "execution_count": 12,
   "metadata": {
    "collapsed": false
   },
   "outputs": [],
   "source": [
    "#绘制图之前，通常要加载以下代码\n",
    "\n",
    "import matplotlib.pyplot as plt   #导入作图库\n",
    "plt.rcParams['font.sans-serif'] = ['SimHei']  #用来正常显示中文标签\n",
    "plt.rcParams['axes.unicode_minus'] = False   #用来正常显示负号\n",
    "plt.figure(figsize = (7, 5))   #创建图像区域，指定比例\n",
    "\n",
    "%matplotlib inline\n",
    "#作图完成后，一般通过plt.show()显示结果"
   ]
  },
  {
   "cell_type": "markdown",
   "metadata": {},
   "source": [
    "（1）plot\n",
    "\n",
    "功能：绘制线性二维图、折线图;\n",
    "\n",
    "使用格式： plt.plot(x, y, S);\n",
    "\n",
    "绘制y对于x（即以x为横轴的二维图形），字符串参数S指定绘制时图形的类型、样式、颜色，常用的选型有：'b'为蓝色，’r'为红色，‘g'为绿色，’o'为圆圈，‘+’为加号标记，‘-’为实线，‘--’为虚线。当x、y均为实数同维向量时，则描出点（x（i）， y（i）），然后用直线依次相连。\n",
    "\n",
    "D.plot(kind = 'box'),这里使用的是DataFrame或Series对象内置的方法作图，默认以Index为横坐标，每列数据为纵坐标自动作图，通过kind参数指定作图类型，支持line(线）、bar（条形）、barh、hist（直方图）、box（箱线图）、kde（密度图）和area、pie（饼图）等，同时也能接受plt.plot（）中接受的参数。"
   ]
  },
  {
   "cell_type": "code",
   "execution_count": 13,
   "metadata": {
    "collapsed": false
   },
   "outputs": [
    {
     "name": "stderr",
     "output_type": "stream",
     "text": [
      "/home/yzw/anaconda2/lib/python2.7/site-packages/matplotlib/font_manager.py:1288: UserWarning: findfont: Font family [u'sans-serif'] not found. Falling back to Bitstream Vera Sans\n",
      "  (prop.get_family(), self.defaultFamily[fontext]))\n"
     ]
    },
    {
     "data": {
      "image/png": "[encoded data removed]",
      "text/plain": [
       "<matplotlib.figure.Figure at 0x7f72200f8990>"
      ]
     },
     "metadata": {},
     "output_type": "display_data"
    }
   ],
   "source": [
    "import numpy as np\n",
    "x = np.linspace(0, 2 * np.pi, 50)  #x坐标输入\n",
    "y = np.sin(x)  #计算x对应的正弦值\n",
    "plt.plot(x, y, 'bp--')  #控制图形格式为蓝色带型虚线，显示正弦曲线\n",
    "plt.show()"
   ]
  },
  {
   "cell_type": "markdown",
   "metadata": {},
   "source": [
    "(2)pie\n",
    "\n",
    "功能：绘制饼型图\n",
    "\n",
    "使用格式：plt.pie(size)\n",
    "\n",
    "使用Matplotlib绘制饼型图，其中size是一个列表，记录各个扇形的比例。"
   ]
  },
  {
   "cell_type": "code",
   "execution_count": 14,
   "metadata": {
    "collapsed": false
   },
   "outputs": [
    {
     "data": {
      "image/png": "[encoded data removed]",
      "text/plain": [
       "<matplotlib.figure.Figure at 0x7f7220059e10>"
      ]
     },
     "metadata": {},
     "output_type": "display_data"
    }
   ],
   "source": [
    "import matplotlib.pyplot as plt\n",
    "\n",
    "labels = 'Frogs', 'Hogs', 'Dogs', 'Logs' #定义标签\n",
    "sizes = [15, 30, 45, 10]  #每一块的比例\n",
    "colors = ['yellowgreen', 'gold', 'lightskyblue', 'lightcoral']  #每一块的颜色\n",
    "explode = (0, 0.1, 0, 0)  #突出显示，这里仅仅突出显示第二块（即'Hogs'）\n",
    "\n",
    "plt.pie(sizes, explode = explode, labels = labels, colors = colors, autopct = '%1.1f%%', shadow = True, startangle = 90)\n",
    "plt.axis('equal')  #显示为圆\n",
    "plt.show()"
   ]
  },
  {
   "cell_type": "markdown",
   "metadata": {},
   "source": [
    "(3)hist\n",
    "\n",
    "功能：绘制二维条形直方图，可显示数据的分布情况\n",
    "\n",
    "使用格式：plt.hist(x, y)\n",
    "\n",
    "x是待绘制直方图的一维数组，y可以是整数，表示均匀分布为n组；也可以是列表，列表各个数字为分组的边界点。"
   ]
  },
  {
   "cell_type": "code",
   "execution_count": 15,
   "metadata": {
    "collapsed": false
   },
   "outputs": [
    {
     "data": {
      "image/png": "[encoded data removed]",
      "text/plain": [
       "<matplotlib.figure.Figure at 0x7f7220070a50>"
      ]
     },
     "metadata": {},
     "output_type": "display_data"
    }
   ],
   "source": [
    "x = np.random.randn(1000)  #1000个服从正态分布的随机数\n",
    "plt.hist(x, 10)  #分成十组进行绘制直方图\n",
    "plt.show()"
   ]
  },
  {
   "cell_type": "markdown",
   "metadata": {},
   "source": [
    "(4)boxplot\n",
    "\n",
    "功能：绘制样本数据的箱型图\n",
    "\n",
    "使用格式： D.boxplot() / D.plot(kind = 'box')\n",
    "\n",
    "其中，盒子的上、下四分位数和中值处有一条线段。箱型末端延伸出去的直线称为须，表示盒外数据的长度。如果须外没有数据，则在须底有一点，点的颜色与须的颜色相同。"
   ]
  },
  {
   "cell_type": "code",
   "execution_count": 16,
   "metadata": {
    "collapsed": false
   },
   "outputs": [
    {
     "data": {
      "image/png": "[encoded data removed]",
      "text/plain": [
       "<matplotlib.figure.Figure at 0x7f721845ee10>"
      ]
     },
     "metadata": {},
     "output_type": "display_data"
    }
   ],
   "source": [
    "import pandas as pd\n",
    "x = np.random.randn(1000)  #1000个服从正态分布的随机数\n",
    "D = pd.DataFrame([x, x + 1]).T   #构造两列的DataFrame\n",
    "D.plot(kind = 'box')  #调用Series内置的作图方法画图，用kind参数指定箱型图box\n",
    "plt.show()"
   ]
  },
  {
   "cell_type": "markdown",
   "metadata": {},
   "source": [
    "(5)plot(logx = True) / plot(logy = True)\n",
    "\n",
    "功能：绘制x或y轴的对数图形\n",
    "\n",
    "使用格式： D.plot(logx = True) / plot(logy = True)\n",
    "\n",
    "对x轴（y轴）使用对数刻度（以10为底），y轴（x轴）使用线性刻度，进行plot函数绘制，D为pandas的DataFrame或者Series。"
   ]
  },
  {
   "cell_type": "code",
   "execution_count": 17,
   "metadata": {
    "collapsed": false
   },
   "outputs": [
    {
     "data": {
      "image/png": "[encoded data removed]",
      "text/plain": [
       "<matplotlib.figure.Figure at 0x7f72200e6d90>"
      ]
     },
     "metadata": {},
     "output_type": "display_data"
    },
    {
     "data": {
      "image/png": "[encoded data removed]",
      "text/plain": [
       "<matplotlib.figure.Figure at 0x7f72181a47d0>"
      ]
     },
     "metadata": {},
     "output_type": "display_data"
    }
   ],
   "source": [
    "plt.rcParams['font.sans-serif'] = ['SimHei']  #用来正常显示中文标签\n",
    "plt.rcParams['axes.unicode_minus'] = False  #用来正常显示负号\n",
    "\n",
    "x = pd.Series(np.exp(np.arange(20)))  #原始数据\n",
    "x.plot(label = u'原始数据图', legend = True)\n",
    "plt.show()\n",
    "x.plot(logy = True, label = u'对数数据图', legend = True)\n",
    "plt.show()"
   ]
  },
  {
   "cell_type": "markdown",
   "metadata": {},
   "source": [
    "(6)plot(yerr = error)\n",
    "\n",
    "功能：绘制误差条形图\n",
    "\n",
    "使用格式：  D.plot(yerr = error)\n",
    "\n",
    "D为pandas的DataFrame或Series，代表着均值数据列，而error则是误差列，此命令在y轴方向画出误差棒图；如果设置参数xerr = error, 则在x轴方向画出误差棒图。"
   ]
  },
  {
   "cell_type": "code",
   "execution_count": 18,
   "metadata": {
    "collapsed": false
   },
   "outputs": [
    {
     "data": {
      "image/png": "[encoded data removed]",
      "text/plain": [
       "<matplotlib.figure.Figure at 0x7f721163aa10>"
      ]
     },
     "metadata": {},
     "output_type": "display_data"
    }
   ],
   "source": [
    "plt.rcParams['font.sans-serif'] = ['SimHei']  #用来正常显示中文标签\n",
    "plt.rcParams['axes.unicode_minus'] = False  #用来正常显示负号\n",
    "\n",
    "error = np.random.randn(10)  #定义误差列\n",
    "y = pd.Series(np.sin(np.arange(10)))  #均值数据列\n",
    "y.plot(yerr = error)  #绘制误差图\n",
    "plt.show()"
   ]
  },
  {
   "cell_type": "code",
   "execution_count": null,
   "metadata": {
    "collapsed": true
   },
   "outputs": [],
   "source": []
  }
 ],
 "metadata": {
  "kernelspec": {
   "display_name": "Python [Root]",
   "language": "python",
   "name": "Python [Root]"
  },
  "language_info": {
   "codemirror_mode": {
    "name": "ipython",
    "version": 2
   },
   "file_extension": ".py",
   "mimetype": "text/x-python",
   "name": "python",
   "nbconvert_exporter": "python",
   "pygments_lexer": "ipython2",
   "version": "2.7.12"
  }
 },
 "nbformat": 4,
 "nbformat_minor": 0
}
