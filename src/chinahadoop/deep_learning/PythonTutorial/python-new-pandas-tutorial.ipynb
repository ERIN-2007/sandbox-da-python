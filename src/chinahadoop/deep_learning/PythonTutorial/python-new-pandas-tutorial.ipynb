{
 "cells": [
  {
   "cell_type": "markdown",
   "metadata": {},
   "source": [
    "# pandas 库总体说明\n",
    "Pandas 基于 NumPy、SciPy 补充了大量数据操作功能,能实现统计、分组、排序、透视表,可以代替 Excel 的绝大部分功能。\n",
    "\n",
    "Pandas 主要有 2 种重要数据类型:Series、DataFrame(一维序列、二维表)。数据类型的转换需要用到 pd.Series/DataFrame."
   ]
  },
  {
   "cell_type": "markdown",
   "metadata": {},
   "source": [
    "## 1)Series"
   ]
  },
  {
   "cell_type": "markdown",
   "metadata": {},
   "source": [
    "可以是一个样本的所有观测值或一组样本的某一属性的观测值。\n",
    "\n",
    "如利用 NumPy 生成一个正态分布的随机数列,共含 4 个值。\n",
    "\n",
    "Series1 = pd.Series(np.random.randn(4))\n",
    "\n",
    "结果就自动添加了行索引 index。\n",
    "0   -1.344609\n",
    "\n",
    "1   0.177173\n",
    "\n",
    "2   0.554958\n",
    "\n",
    "3   -0.576237\n",
    "\n",
    "过滤 Series 的方法是:print Series1 < 0 或 print Series1[Series1 < 0]。前者给出 Boolean 类\n",
    "型的输出,后者给出具体的数值,仅仅输出 Series 中小于 0 的数值。"
   ]
  },
  {
   "cell_type": "markdown",
   "metadata": {},
   "source": [
    "可以使用 Key-Value 的方式存储数据:\n",
    "\n",
    "Series2 = pd.Series(Series1.values, index = [\"row_\" + unicode(i) for i in range(4)])\n",
    "\n",
    "同样,Python 的基础数据结构字典也可以转化为 Series。\n",
    "\n",
    "Series3 = pd.Series({\"China\": \"Beijing\", \"England\": \"GB\", \"Japan\": \"Tokyo\"})\n",
    "\n",
    "输出结果依旧是一个序列, 但是因为字典本身是无序的, 所有有可能会打乱原字典的顺序。如果需要顺便不变,可以使用下面的方法明确指定这种秩序:\n",
    "\n",
    "Series4_IndexList = [\"China\", \"Japan\", \"England\"]\n",
    "\n",
    "Series4 = pd.Series(Series3, index = Series4_IndexList)\n",
    "\n",
    "某些时候,Index 列表没有相应的对应值,这样会默认填补为空值,可以使用 isnull(0,notnull()来返回 Boolean 结果。\n",
    "\n",
    "Series5_IndexList = [\"A\", \"B\", \"C\", \"C\"]\n",
    "\n",
    "Series5 = pd.Series(Series1.values, index = Series5_IndexList)\n",
    "\n",
    "index 允许重复,但是这样容易导致错误。"
   ]
  },
  {
   "cell_type": "markdown",
   "metadata": {},
   "source": [
    "## 2)DataFrame"
   ]
  },
  {
   "cell_type": "markdown",
   "metadata": {},
   "source": [
    "DataFrame 可以视作 Series 的有序集合, 可以从数据库、NumPy 二维数组、JSON 中定义数据框。\n",
    "\n",
    "NumPy 二维数组:\n",
    "\n",
    "DF1 = pd.DataFrame(np.asarray([(\"Japan\", \"Tokyo\", 4000), (\"S.Korea\", \"Seoul\", 1000),(\"China\", \"Beijing\", 9000)]),\n",
    "columns = [\"nation\", \"capital\", \"GDP\"])\n",
    "\n",
    "JSON:\n",
    "\n",
    "DF2 = pd.DataFrame({\"nation\": [\"Japan\", \"S.Korea\", \"China\"], \"capital\": [\"Tokyo\", \"Seoul\",\"Beijing\"], \n",
    "\"GDP\": [4000, 1000, 9000]})\n",
    "\n",
    "但是字典的 key 是无序的,所以我们又要用到刚才 Series 中的类似方法加以解决:\n",
    "\n",
    "DF3 = pd.DataFrame(DF2, columns = [\"nation\", \"capital\", \"GDP\"])\n",
    "\n",
    "对应地,还可以人为指定行标秩序。\n",
    "\n",
    "DF4 = pd.DataFrame(DF2, columns = [\"nation\", \"capital\", \"GDP\"], index = [2, 0, 1])\n",
    "\n",
    "在 DataFrame 中切片:\n",
    "\n",
    "取列:推荐使用 DF4[\"GDP\"],最好别用 DF4.GDP,容易与一些关键字(保留字)冲突\n",
    "\n",
    "取行:DF4[0: 1]或者 DF4.ix[0]\n",
    "\n",
    "区别在于前者取了第一行,后者取了 index(行标)为 0 的第一行。\n",
    "\n",
    "此外,如果要在数据框动态增加列,不能用.的方式,而要用[]\n",
    "\n",
    "DF4[\"region\"] = \"East Asian\""
   ]
  },
  {
   "cell_type": "markdown",
   "metadata": {},
   "source": [
    "# 代表性函数的使用介绍"
   ]
  },
  {
   "cell_type": "code",
   "execution_count": 1,
   "metadata": {
    "collapsed": true
   },
   "outputs": [],
   "source": [
    "import pandas as pd\n",
    "import numpy as np\n",
    "import matplotlib.pyplot as plt"
   ]
  },
  {
   "cell_type": "markdown",
   "metadata": {},
   "source": [
    "## 一、创建对象\n",
    "1、可以通过传递一个 list 对象来创建一个 Series"
   ]
  },
  {
   "cell_type": "code",
   "execution_count": 2,
   "metadata": {
    "collapsed": false
   },
   "outputs": [
    {
     "name": "stdout",
     "output_type": "stream",
     "text": [
      "0    1.0\n",
      "1    3.0\n",
      "2    5.0\n",
      "3    NaN\n",
      "4    6.0\n",
      "5    8.0\n",
      "dtype: float64\n"
     ]
    }
   ],
   "source": [
    "s = pd.Series([1,3,5,np.nan,6,8])\n",
    "print s"
   ]
  },
  {
   "cell_type": "markdown",
   "metadata": {},
   "source": [
    "2、通过传递一个 numpy array,时间索引以及列标签来创建一个 DataFrame:"
   ]
  },
  {
   "cell_type": "code",
   "execution_count": 3,
   "metadata": {
    "collapsed": false
   },
   "outputs": [
    {
     "name": "stdout",
     "output_type": "stream",
     "text": [
      "DatetimeIndex(['2013-01-01', '2013-01-02', '2013-01-03', '2013-01-04',\n",
      "               '2013-01-05', '2013-01-06'],\n",
      "              dtype='datetime64[ns]', freq='D')\n"
     ]
    }
   ],
   "source": [
    "dates = pd.date_range('20130101', periods = 6)\n",
    "print dates"
   ]
  },
  {
   "cell_type": "code",
   "execution_count": 4,
   "metadata": {
    "collapsed": false
   },
   "outputs": [
    {
     "name": "stdout",
     "output_type": "stream",
     "text": [
      "                   A         B         C         D\n",
      "2013-01-01  0.026535 -0.907195  0.249514 -1.079940\n",
      "2013-01-02 -1.252509 -0.664995 -0.261090 -0.815005\n",
      "2013-01-03  1.380034 -0.118999 -0.897727  0.185313\n",
      "2013-01-04 -0.514970 -0.187767 -0.443209  1.035802\n",
      "2013-01-05 -1.086688  1.220295 -0.618035  0.639486\n",
      "2013-01-06  0.615427  0.510758 -0.285427 -1.277933\n"
     ]
    }
   ],
   "source": [
    "df = pd.DataFrame(np.random.randn(6,4), index = dates, columns = list('ABCD'))\n",
    "print df"
   ]
  },
  {
   "cell_type": "markdown",
   "metadata": {},
   "source": [
    "3、通过传递一个能够被转换成类似序列结构的字典对象来创建一个 DataFrame:"
   ]
  },
  {
   "cell_type": "code",
   "execution_count": 5,
   "metadata": {
    "collapsed": false
   },
   "outputs": [
    {
     "name": "stdout",
     "output_type": "stream",
     "text": [
      "     A          B    C  D      E    F\n",
      "0  1.0 2013-01-02  1.0  3   test  foo\n",
      "1  1.0 2013-01-02  1.0  3  train  foo\n",
      "2  1.0 2013-01-02  1.0  3   test  foo\n",
      "3  1.0 2013-01-02  1.0  3  train  foo\n"
     ]
    }
   ],
   "source": [
    "df2 = pd.DataFrame({ 'A' : 1.,\n",
    "....:                'B' : pd.Timestamp('20130102'),\n",
    "....:                'C' : pd.Series(1,index=list(range(4)),dtype='float32'),\n",
    "....:                'D' : np.array([3] * 4,dtype='int32'),\n",
    "....:                'E' : pd.Categorical([\"test\",\"train\",\"test\",\"train\"]),\n",
    "....:                'F' : 'foo' })\n",
    "\n",
    "print df2"
   ]
  },
  {
   "cell_type": "markdown",
   "metadata": {},
   "source": [
    "4、查看不同列的数据类型:"
   ]
  },
  {
   "cell_type": "code",
   "execution_count": 6,
   "metadata": {
    "collapsed": false
   },
   "outputs": [
    {
     "name": "stdout",
     "output_type": "stream",
     "text": [
      "A           float64\n",
      "B    datetime64[ns]\n",
      "C           float32\n",
      "D             int32\n",
      "E          category\n",
      "F            object\n",
      "dtype: object\n"
     ]
    }
   ],
   "source": [
    "print df2.dtypes"
   ]
  },
  {
   "cell_type": "markdown",
   "metadata": {},
   "source": [
    "## 二、查看数据\n",
    "1、 查看 frame 中头部和尾部的行:"
   ]
  },
  {
   "cell_type": "code",
   "execution_count": 7,
   "metadata": {
    "collapsed": false
   },
   "outputs": [
    {
     "name": "stdout",
     "output_type": "stream",
     "text": [
      "                   A         B         C         D\n",
      "2013-01-01  0.026535 -0.907195  0.249514 -1.079940\n",
      "2013-01-02 -1.252509 -0.664995 -0.261090 -0.815005\n",
      "2013-01-03  1.380034 -0.118999 -0.897727  0.185313\n",
      "2013-01-04 -0.514970 -0.187767 -0.443209  1.035802\n",
      "2013-01-05 -1.086688  1.220295 -0.618035  0.639486\n"
     ]
    }
   ],
   "source": [
    "print df.head()"
   ]
  },
  {
   "cell_type": "code",
   "execution_count": 8,
   "metadata": {
    "collapsed": false
   },
   "outputs": [
    {
     "name": "stdout",
     "output_type": "stream",
     "text": [
      "                   A         B         C         D\n",
      "2013-01-04 -0.514970 -0.187767 -0.443209  1.035802\n",
      "2013-01-05 -1.086688  1.220295 -0.618035  0.639486\n",
      "2013-01-06  0.615427  0.510758 -0.285427 -1.277933\n"
     ]
    }
   ],
   "source": [
    "print df.tail(3)"
   ]
  },
  {
   "cell_type": "markdown",
   "metadata": {},
   "source": [
    "2、 显示索引、列和底层的 numpy 数据:"
   ]
  },
  {
   "cell_type": "code",
   "execution_count": 9,
   "metadata": {
    "collapsed": false
   },
   "outputs": [
    {
     "name": "stdout",
     "output_type": "stream",
     "text": [
      "DatetimeIndex(['2013-01-01', '2013-01-02', '2013-01-03', '2013-01-04',\n",
      "               '2013-01-05', '2013-01-06'],\n",
      "              dtype='datetime64[ns]', freq='D')\n"
     ]
    }
   ],
   "source": [
    "print df.index"
   ]
  },
  {
   "cell_type": "code",
   "execution_count": 10,
   "metadata": {
    "collapsed": false
   },
   "outputs": [
    {
     "name": "stdout",
     "output_type": "stream",
     "text": [
      "Index([u'A', u'B', u'C', u'D'], dtype='object')\n"
     ]
    }
   ],
   "source": [
    "print df.columns"
   ]
  },
  {
   "cell_type": "code",
   "execution_count": 11,
   "metadata": {
    "collapsed": false
   },
   "outputs": [
    {
     "name": "stdout",
     "output_type": "stream",
     "text": [
      "[[ 0.02653459 -0.90719464  0.24951423 -1.07994048]\n",
      " [-1.25250851 -0.66499466 -0.26108965 -0.81500487]\n",
      " [ 1.38003356 -0.11899932 -0.89772703  0.18531335]\n",
      " [-0.51497049 -0.18776652 -0.44320899  1.03580206]\n",
      " [-1.08668828  1.2202953  -0.61803527  0.63948616]\n",
      " [ 0.61542686  0.51075821 -0.28542684 -1.27793326]]\n"
     ]
    }
   ],
   "source": [
    "print df.values"
   ]
  },
  {
   "cell_type": "markdown",
   "metadata": {},
   "source": [
    "3、 describe()函数对于数据的快速统计汇总:"
   ]
  },
  {
   "cell_type": "code",
   "execution_count": 12,
   "metadata": {
    "collapsed": false
   },
   "outputs": [
    {
     "name": "stdout",
     "output_type": "stream",
     "text": [
      "              A         B         C         D\n",
      "count  6.000000  6.000000  6.000000  6.000000\n",
      "mean  -0.138695 -0.024650 -0.375996 -0.218713\n",
      "std    1.018174  0.782430  0.386775  0.968791\n",
      "min   -1.252509 -0.907195 -0.897727 -1.277933\n",
      "25%   -0.943759 -0.545688 -0.574329 -1.013707\n",
      "50%   -0.244218 -0.153383 -0.364318 -0.314846\n",
      "75%    0.468204  0.353319 -0.267174  0.525943\n",
      "max    1.380034  1.220295  0.249514  1.035802\n"
     ]
    }
   ],
   "source": [
    "print df.describe()"
   ]
  },
  {
   "cell_type": "markdown",
   "metadata": {},
   "source": [
    "4、 对数据的转置:"
   ]
  },
  {
   "cell_type": "code",
   "execution_count": 13,
   "metadata": {
    "collapsed": false
   },
   "outputs": [
    {
     "name": "stdout",
     "output_type": "stream",
     "text": [
      "   2013-01-01  2013-01-02  2013-01-03  2013-01-04  2013-01-05  2013-01-06\n",
      "A    0.026535   -1.252509    1.380034   -0.514970   -1.086688    0.615427\n",
      "B   -0.907195   -0.664995   -0.118999   -0.187767    1.220295    0.510758\n",
      "C    0.249514   -0.261090   -0.897727   -0.443209   -0.618035   -0.285427\n",
      "D   -1.079940   -0.815005    0.185313    1.035802    0.639486   -1.277933\n"
     ]
    }
   ],
   "source": [
    "print df.T"
   ]
  },
  {
   "cell_type": "markdown",
   "metadata": {},
   "source": [
    "5、 按轴进行排序"
   ]
  },
  {
   "cell_type": "code",
   "execution_count": 14,
   "metadata": {
    "collapsed": false
   },
   "outputs": [
    {
     "name": "stdout",
     "output_type": "stream",
     "text": [
      "                   D         C         B         A\n",
      "2013-01-01 -1.079940  0.249514 -0.907195  0.026535\n",
      "2013-01-02 -0.815005 -0.261090 -0.664995 -1.252509\n",
      "2013-01-03  0.185313 -0.897727 -0.118999  1.380034\n",
      "2013-01-04  1.035802 -0.443209 -0.187767 -0.514970\n",
      "2013-01-05  0.639486 -0.618035  1.220295 -1.086688\n",
      "2013-01-06 -1.277933 -0.285427  0.510758  0.615427\n"
     ]
    }
   ],
   "source": [
    "print df.sort_index(axis = 1, ascending = False)"
   ]
  },
  {
   "cell_type": "markdown",
   "metadata": {},
   "source": [
    "6、 按值进行排序"
   ]
  },
  {
   "cell_type": "code",
   "execution_count": 15,
   "metadata": {
    "collapsed": false
   },
   "outputs": [
    {
     "name": "stdout",
     "output_type": "stream",
     "text": [
      "                   A         B         C         D\n",
      "2013-01-01  0.026535 -0.907195  0.249514 -1.079940\n",
      "2013-01-02 -1.252509 -0.664995 -0.261090 -0.815005\n",
      "2013-01-04 -0.514970 -0.187767 -0.443209  1.035802\n",
      "2013-01-03  1.380034 -0.118999 -0.897727  0.185313\n",
      "2013-01-06  0.615427  0.510758 -0.285427 -1.277933\n",
      "2013-01-05 -1.086688  1.220295 -0.618035  0.639486\n"
     ]
    }
   ],
   "source": [
    "print df.sort_values(by='B')"
   ]
  },
  {
   "cell_type": "markdown",
   "metadata": {},
   "source": [
    "## 三、选择\n",
    "虽然标准的 Python/Numpy 的选择和设置表达式都能够直接派上用场,但是作为工程\n",
    "使用的代码,推荐使用经过优化的 pandas 数据访问方式: .at, .iat, .loc, .iloc 和 .ix。"
   ]
  },
  {
   "cell_type": "markdown",
   "metadata": {},
   "source": [
    "### 获取\n",
    "1、 选择一个单独的列,这将会返回一个 Series,等同于 df.A:"
   ]
  },
  {
   "cell_type": "code",
   "execution_count": 16,
   "metadata": {
    "collapsed": false
   },
   "outputs": [
    {
     "name": "stdout",
     "output_type": "stream",
     "text": [
      "2013-01-01    0.026535\n",
      "2013-01-02   -1.252509\n",
      "2013-01-03    1.380034\n",
      "2013-01-04   -0.514970\n",
      "2013-01-05   -1.086688\n",
      "2013-01-06    0.615427\n",
      "Freq: D, Name: A, dtype: float64\n"
     ]
    }
   ],
   "source": [
    "print df['A']"
   ]
  },
  {
   "cell_type": "markdown",
   "metadata": {},
   "source": [
    "2、 通过[]进行选择,这将会对行进行切片"
   ]
  },
  {
   "cell_type": "code",
   "execution_count": 17,
   "metadata": {
    "collapsed": false
   },
   "outputs": [
    {
     "name": "stdout",
     "output_type": "stream",
     "text": [
      "                   A         B         C         D\n",
      "2013-01-01  0.026535 -0.907195  0.249514 -1.079940\n",
      "2013-01-02 -1.252509 -0.664995 -0.261090 -0.815005\n",
      "2013-01-03  1.380034 -0.118999 -0.897727  0.185313\n"
     ]
    }
   ],
   "source": [
    "print df[0:3]"
   ]
  },
  {
   "cell_type": "code",
   "execution_count": 18,
   "metadata": {
    "collapsed": false
   },
   "outputs": [
    {
     "name": "stdout",
     "output_type": "stream",
     "text": [
      "                   A         B         C         D\n",
      "2013-01-02 -1.252509 -0.664995 -0.261090 -0.815005\n",
      "2013-01-03  1.380034 -0.118999 -0.897727  0.185313\n",
      "2013-01-04 -0.514970 -0.187767 -0.443209  1.035802\n"
     ]
    }
   ],
   "source": [
    "print df['20130102':'20130104']"
   ]
  },
  {
   "cell_type": "markdown",
   "metadata": {},
   "source": [
    "### 通过标签选择\n",
    "1、 使用标签来获取一个交叉的区域"
   ]
  },
  {
   "cell_type": "code",
   "execution_count": 19,
   "metadata": {
    "collapsed": false
   },
   "outputs": [
    {
     "name": "stdout",
     "output_type": "stream",
     "text": [
      "A    0.026535\n",
      "B   -0.907195\n",
      "C    0.249514\n",
      "D   -1.079940\n",
      "Name: 2013-01-01 00:00:00, dtype: float64\n"
     ]
    }
   ],
   "source": [
    "print df.loc[dates[0]]"
   ]
  },
  {
   "cell_type": "markdown",
   "metadata": {},
   "source": [
    "2、 通过标签来在多个轴上进行选择"
   ]
  },
  {
   "cell_type": "code",
   "execution_count": 20,
   "metadata": {
    "collapsed": false
   },
   "outputs": [
    {
     "name": "stdout",
     "output_type": "stream",
     "text": [
      "                   A         B\n",
      "2013-01-01  0.026535 -0.907195\n",
      "2013-01-02 -1.252509 -0.664995\n",
      "2013-01-03  1.380034 -0.118999\n",
      "2013-01-04 -0.514970 -0.187767\n",
      "2013-01-05 -1.086688  1.220295\n",
      "2013-01-06  0.615427  0.510758\n"
     ]
    }
   ],
   "source": [
    "print df.loc[:,['A','B']]"
   ]
  },
  {
   "cell_type": "markdown",
   "metadata": {},
   "source": [
    "3、 标签切片"
   ]
  },
  {
   "cell_type": "code",
   "execution_count": 21,
   "metadata": {
    "collapsed": false
   },
   "outputs": [
    {
     "name": "stdout",
     "output_type": "stream",
     "text": [
      "                   A         B\n",
      "2013-01-02 -1.252509 -0.664995\n",
      "2013-01-03  1.380034 -0.118999\n",
      "2013-01-04 -0.514970 -0.187767\n"
     ]
    }
   ],
   "source": [
    "print df.loc['20130102':'20130104',['A','B']]"
   ]
  },
  {
   "cell_type": "markdown",
   "metadata": {},
   "source": [
    "4、 对于返回的对象进行维度缩减"
   ]
  },
  {
   "cell_type": "code",
   "execution_count": 22,
   "metadata": {
    "collapsed": false
   },
   "outputs": [
    {
     "name": "stdout",
     "output_type": "stream",
     "text": [
      "A   -1.252509\n",
      "B   -0.664995\n",
      "Name: 2013-01-02 00:00:00, dtype: float64\n"
     ]
    }
   ],
   "source": [
    "print df.loc['20130102',['A','B']]"
   ]
  },
  {
   "cell_type": "markdown",
   "metadata": {},
   "source": [
    "5、 获取一个标量"
   ]
  },
  {
   "cell_type": "code",
   "execution_count": 23,
   "metadata": {
    "collapsed": false
   },
   "outputs": [
    {
     "name": "stdout",
     "output_type": "stream",
     "text": [
      "0.0265345851963\n"
     ]
    }
   ],
   "source": [
    "print df.loc[dates[0],'A']"
   ]
  },
  {
   "cell_type": "markdown",
   "metadata": {},
   "source": [
    "6、 快速访问一个标量(与上一个方法等价)"
   ]
  },
  {
   "cell_type": "code",
   "execution_count": 24,
   "metadata": {
    "collapsed": false
   },
   "outputs": [
    {
     "name": "stdout",
     "output_type": "stream",
     "text": [
      "0.0265345851963\n"
     ]
    }
   ],
   "source": [
    "print df.at[dates[0],'A']"
   ]
  },
  {
   "cell_type": "markdown",
   "metadata": {},
   "source": [
    "### 通过位置选择\n",
    "1、 通过传递数值进行位置选择(选择的是行)"
   ]
  },
  {
   "cell_type": "code",
   "execution_count": 25,
   "metadata": {
    "collapsed": false
   },
   "outputs": [
    {
     "name": "stdout",
     "output_type": "stream",
     "text": [
      "A   -0.514970\n",
      "B   -0.187767\n",
      "C   -0.443209\n",
      "D    1.035802\n",
      "Name: 2013-01-04 00:00:00, dtype: float64\n"
     ]
    }
   ],
   "source": [
    "print df.iloc[3]"
   ]
  },
  {
   "cell_type": "markdown",
   "metadata": {},
   "source": [
    "2、 通过数值进行切片,与 numpy/python 中的情况类似"
   ]
  },
  {
   "cell_type": "code",
   "execution_count": 26,
   "metadata": {
    "collapsed": false
   },
   "outputs": [
    {
     "name": "stdout",
     "output_type": "stream",
     "text": [
      "                   A         B\n",
      "2013-01-04 -0.514970 -0.187767\n",
      "2013-01-05 -1.086688  1.220295\n"
     ]
    }
   ],
   "source": [
    "print df.iloc[3:5,0:2]"
   ]
  },
  {
   "cell_type": "markdown",
   "metadata": {},
   "source": [
    "3、 通过指定一个位置的列表,与 numpy/python 中的情况类似"
   ]
  },
  {
   "cell_type": "code",
   "execution_count": 27,
   "metadata": {
    "collapsed": false
   },
   "outputs": [
    {
     "name": "stdout",
     "output_type": "stream",
     "text": [
      "                   A         C\n",
      "2013-01-02 -1.252509 -0.261090\n",
      "2013-01-03  1.380034 -0.897727\n",
      "2013-01-05 -1.086688 -0.618035\n"
     ]
    }
   ],
   "source": [
    "print df.iloc[[1,2,4],[0,2]]"
   ]
  },
  {
   "cell_type": "markdown",
   "metadata": {},
   "source": [
    "4、对行进行切片"
   ]
  },
  {
   "cell_type": "code",
   "execution_count": 28,
   "metadata": {
    "collapsed": false
   },
   "outputs": [
    {
     "name": "stdout",
     "output_type": "stream",
     "text": [
      "                   B         C\n",
      "2013-01-01 -0.907195  0.249514\n",
      "2013-01-02 -0.664995 -0.261090\n",
      "2013-01-03 -0.118999 -0.897727\n",
      "2013-01-04 -0.187767 -0.443209\n",
      "2013-01-05  1.220295 -0.618035\n",
      "2013-01-06  0.510758 -0.285427\n"
     ]
    }
   ],
   "source": [
    "print df.iloc[:,1:3]"
   ]
  },
  {
   "cell_type": "markdown",
   "metadata": {},
   "source": [
    "5、 对列进行切片"
   ]
  },
  {
   "cell_type": "code",
   "execution_count": 29,
   "metadata": {
    "collapsed": false
   },
   "outputs": [
    {
     "name": "stdout",
     "output_type": "stream",
     "text": [
      "                   B         C\n",
      "2013-01-01 -0.907195  0.249514\n",
      "2013-01-02 -0.664995 -0.261090\n",
      "2013-01-03 -0.118999 -0.897727\n",
      "2013-01-04 -0.187767 -0.443209\n",
      "2013-01-05  1.220295 -0.618035\n",
      "2013-01-06  0.510758 -0.285427\n"
     ]
    }
   ],
   "source": [
    "print df.iloc[:,1:3]"
   ]
  },
  {
   "cell_type": "markdown",
   "metadata": {},
   "source": [
    "6、 获取特定的值"
   ]
  },
  {
   "cell_type": "code",
   "execution_count": 30,
   "metadata": {
    "collapsed": false
   },
   "outputs": [
    {
     "name": "stdout",
     "output_type": "stream",
     "text": [
      "-0.664994663668\n"
     ]
    }
   ],
   "source": [
    "print df.iloc[1,1]"
   ]
  },
  {
   "cell_type": "code",
   "execution_count": 31,
   "metadata": {
    "collapsed": false
   },
   "outputs": [
    {
     "name": "stdout",
     "output_type": "stream",
     "text": [
      "-0.664994663668\n"
     ]
    }
   ],
   "source": [
    "print df.iat[1,1]"
   ]
  },
  {
   "cell_type": "markdown",
   "metadata": {},
   "source": [
    "### 布尔索引\n",
    "1、 使用一个单独列的值来选择数据:"
   ]
  },
  {
   "cell_type": "code",
   "execution_count": 32,
   "metadata": {
    "collapsed": false
   },
   "outputs": [
    {
     "name": "stdout",
     "output_type": "stream",
     "text": [
      "                   A         B         C         D\n",
      "2013-01-01  0.026535 -0.907195  0.249514 -1.079940\n",
      "2013-01-03  1.380034 -0.118999 -0.897727  0.185313\n",
      "2013-01-06  0.615427  0.510758 -0.285427 -1.277933\n"
     ]
    }
   ],
   "source": [
    "print df[df.A > 0]"
   ]
  },
  {
   "cell_type": "markdown",
   "metadata": {},
   "source": [
    "2、选择数据:"
   ]
  },
  {
   "cell_type": "code",
   "execution_count": 33,
   "metadata": {
    "collapsed": false
   },
   "outputs": [
    {
     "name": "stdout",
     "output_type": "stream",
     "text": [
      "                   A         B         C         D\n",
      "2013-01-01  0.026535       NaN  0.249514       NaN\n",
      "2013-01-02       NaN       NaN       NaN       NaN\n",
      "2013-01-03  1.380034       NaN       NaN  0.185313\n",
      "2013-01-04       NaN       NaN       NaN  1.035802\n",
      "2013-01-05       NaN  1.220295       NaN  0.639486\n",
      "2013-01-06  0.615427  0.510758       NaN       NaN\n"
     ]
    }
   ],
   "source": [
    "print df[df > 0]"
   ]
  },
  {
   "cell_type": "markdown",
   "metadata": {},
   "source": [
    "3、 使用 isin()方法来过滤:"
   ]
  },
  {
   "cell_type": "code",
   "execution_count": 34,
   "metadata": {
    "collapsed": false
   },
   "outputs": [
    {
     "name": "stdout",
     "output_type": "stream",
     "text": [
      "                   A         B         C         D      E\n",
      "2013-01-01  0.026535 -0.907195  0.249514 -1.079940    one\n",
      "2013-01-02 -1.252509 -0.664995 -0.261090 -0.815005    one\n",
      "2013-01-03  1.380034 -0.118999 -0.897727  0.185313    two\n",
      "2013-01-04 -0.514970 -0.187767 -0.443209  1.035802  three\n",
      "2013-01-05 -1.086688  1.220295 -0.618035  0.639486   four\n",
      "2013-01-06  0.615427  0.510758 -0.285427 -1.277933  three\n"
     ]
    }
   ],
   "source": [
    "df2 = df.copy()\n",
    "df2['E'] = ['one', 'one','two','three','four','three']\n",
    "print df2"
   ]
  },
  {
   "cell_type": "code",
   "execution_count": 35,
   "metadata": {
    "collapsed": false
   },
   "outputs": [
    {
     "name": "stdout",
     "output_type": "stream",
     "text": [
      "                   A         B         C         D     E\n",
      "2013-01-03  1.380034 -0.118999 -0.897727  0.185313   two\n",
      "2013-01-05 -1.086688  1.220295 -0.618035  0.639486  four\n"
     ]
    }
   ],
   "source": [
    "print df2[df2['E'].isin(['two','four'])]"
   ]
  },
  {
   "cell_type": "markdown",
   "metadata": {},
   "source": [
    "### 设置\n",
    "1、 设置一个新的列:"
   ]
  },
  {
   "cell_type": "code",
   "execution_count": 36,
   "metadata": {
    "collapsed": false
   },
   "outputs": [
    {
     "name": "stdout",
     "output_type": "stream",
     "text": [
      "2013-01-02    1\n",
      "2013-01-03    2\n",
      "2013-01-04    3\n",
      "2013-01-05    4\n",
      "2013-01-06    5\n",
      "2013-01-07    6\n",
      "Freq: D, dtype: int64\n"
     ]
    }
   ],
   "source": [
    "s1 = pd.Series([1,2,3,4,5,6], index = pd.date_range('20130102', periods = 6))\n",
    "print s1"
   ]
  },
  {
   "cell_type": "code",
   "execution_count": 37,
   "metadata": {
    "collapsed": false
   },
   "outputs": [
    {
     "name": "stdout",
     "output_type": "stream",
     "text": [
      "                   A         B         C         D    F\n",
      "2013-01-01  0.026535 -0.907195  0.249514 -1.079940  NaN\n",
      "2013-01-02 -1.252509 -0.664995 -0.261090 -0.815005  1.0\n",
      "2013-01-03  1.380034 -0.118999 -0.897727  0.185313  2.0\n",
      "2013-01-04 -0.514970 -0.187767 -0.443209  1.035802  3.0\n",
      "2013-01-05 -1.086688  1.220295 -0.618035  0.639486  4.0\n",
      "2013-01-06  0.615427  0.510758 -0.285427 -1.277933  5.0\n"
     ]
    }
   ],
   "source": [
    "df['F'] = s1\n",
    "print df"
   ]
  },
  {
   "cell_type": "markdown",
   "metadata": {},
   "source": [
    "2、 通过标签设置新的值:"
   ]
  },
  {
   "cell_type": "code",
   "execution_count": 38,
   "metadata": {
    "collapsed": true
   },
   "outputs": [],
   "source": [
    "df.at[dates[0],'A'] = 0"
   ]
  },
  {
   "cell_type": "markdown",
   "metadata": {},
   "source": [
    "3、 通过位置设置新的值:"
   ]
  },
  {
   "cell_type": "code",
   "execution_count": 39,
   "metadata": {
    "collapsed": true
   },
   "outputs": [],
   "source": [
    "df.iat[0,1] = 0"
   ]
  },
  {
   "cell_type": "markdown",
   "metadata": {},
   "source": [
    "4、 通过一个 numpy 数组设置一组新值:"
   ]
  },
  {
   "cell_type": "code",
   "execution_count": 40,
   "metadata": {
    "collapsed": true
   },
   "outputs": [],
   "source": [
    "df.loc[:,'D'] = np.array([5] * len(df))"
   ]
  },
  {
   "cell_type": "code",
   "execution_count": 41,
   "metadata": {
    "collapsed": false
   },
   "outputs": [
    {
     "name": "stdout",
     "output_type": "stream",
     "text": [
      "                   A         B         C  D    F\n",
      "2013-01-01  0.000000  0.000000  0.249514  5  NaN\n",
      "2013-01-02 -1.252509 -0.664995 -0.261090  5  1.0\n",
      "2013-01-03  1.380034 -0.118999 -0.897727  5  2.0\n",
      "2013-01-04 -0.514970 -0.187767 -0.443209  5  3.0\n",
      "2013-01-05 -1.086688  1.220295 -0.618035  5  4.0\n",
      "2013-01-06  0.615427  0.510758 -0.285427  5  5.0\n"
     ]
    }
   ],
   "source": [
    "print df"
   ]
  },
  {
   "cell_type": "markdown",
   "metadata": {},
   "source": [
    "5、 通过 where 操作来设置新的值:"
   ]
  },
  {
   "cell_type": "code",
   "execution_count": 42,
   "metadata": {
    "collapsed": false
   },
   "outputs": [
    {
     "name": "stdout",
     "output_type": "stream",
     "text": [
      "                   A         B         C  D    F\n",
      "2013-01-01  0.000000  0.000000 -0.249514 -5  NaN\n",
      "2013-01-02 -1.252509 -0.664995 -0.261090 -5 -1.0\n",
      "2013-01-03 -1.380034 -0.118999 -0.897727 -5 -2.0\n",
      "2013-01-04 -0.514970 -0.187767 -0.443209 -5 -3.0\n",
      "2013-01-05 -1.086688 -1.220295 -0.618035 -5 -4.0\n",
      "2013-01-06 -0.615427 -0.510758 -0.285427 -5 -5.0\n"
     ]
    }
   ],
   "source": [
    "df2 = df.copy()\n",
    "df2[df2 > 0] = -df2\n",
    "print df2"
   ]
  },
  {
   "cell_type": "markdown",
   "metadata": {},
   "source": [
    "## 四、缺失值处理\n",
    "在 pandas 中,使用 np.nan 来代替缺失值,这些值将默认不会包含在计算中"
   ]
  },
  {
   "cell_type": "markdown",
   "metadata": {},
   "source": [
    "1、reindex()方法可以对指定轴上的索引进行改变/增加/删除操作,这将返回原始数据\n",
    "的一个拷贝:"
   ]
  },
  {
   "cell_type": "code",
   "execution_count": 43,
   "metadata": {
    "collapsed": false
   },
   "outputs": [
    {
     "name": "stdout",
     "output_type": "stream",
     "text": [
      "                   A         B         C  D    F    E\n",
      "2013-01-01  0.000000  0.000000  0.249514  5  NaN  1.0\n",
      "2013-01-02 -1.252509 -0.664995 -0.261090  5  1.0  1.0\n",
      "2013-01-03  1.380034 -0.118999 -0.897727  5  2.0  NaN\n",
      "2013-01-04 -0.514970 -0.187767 -0.443209  5  3.0  NaN\n"
     ]
    }
   ],
   "source": [
    "df1 = df.reindex(index = dates[0:4], columns = list(df.columns) + ['E'])\n",
    "df1.loc[dates[0]:dates[1],'E'] = 1\n",
    "print df1"
   ]
  },
  {
   "cell_type": "markdown",
   "metadata": {},
   "source": [
    "2、 去掉包含缺失值的行:"
   ]
  },
  {
   "cell_type": "code",
   "execution_count": 44,
   "metadata": {
    "collapsed": false
   },
   "outputs": [
    {
     "name": "stdout",
     "output_type": "stream",
     "text": [
      "                   A         B        C  D    F    E\n",
      "2013-01-02 -1.252509 -0.664995 -0.26109  5  1.0  1.0\n"
     ]
    }
   ],
   "source": [
    "print df1.dropna(how = 'any')"
   ]
  },
  {
   "cell_type": "markdown",
   "metadata": {},
   "source": [
    "3、 对缺失值进行填充:"
   ]
  },
  {
   "cell_type": "code",
   "execution_count": 45,
   "metadata": {
    "collapsed": false
   },
   "outputs": [
    {
     "name": "stdout",
     "output_type": "stream",
     "text": [
      "                   A         B         C  D    F    E\n",
      "2013-01-01  0.000000  0.000000  0.249514  5  5.0  1.0\n",
      "2013-01-02 -1.252509 -0.664995 -0.261090  5  1.0  1.0\n",
      "2013-01-03  1.380034 -0.118999 -0.897727  5  2.0  5.0\n",
      "2013-01-04 -0.514970 -0.187767 -0.443209  5  3.0  5.0\n"
     ]
    }
   ],
   "source": [
    "print df1.fillna(value = 5)"
   ]
  },
  {
   "cell_type": "markdown",
   "metadata": {},
   "source": [
    "4、 对数据进行布尔填充:"
   ]
  },
  {
   "cell_type": "code",
   "execution_count": 46,
   "metadata": {
    "collapsed": false
   },
   "outputs": [
    {
     "name": "stdout",
     "output_type": "stream",
     "text": [
      "                A      B      C      D      F      E\n",
      "2013-01-01  False  False  False  False   True  False\n",
      "2013-01-02  False  False  False  False  False  False\n",
      "2013-01-03  False  False  False  False  False   True\n",
      "2013-01-04  False  False  False  False  False   True\n"
     ]
    }
   ],
   "source": [
    "print pd.isnull(df1)"
   ]
  },
  {
   "cell_type": "markdown",
   "metadata": {},
   "source": [
    "##  5、操作\n",
    "统计(相关操作通常情况下不包括缺失值)\n",
    "\n",
    "1、 执行描述性统计:"
   ]
  },
  {
   "cell_type": "code",
   "execution_count": 47,
   "metadata": {
    "collapsed": false
   },
   "outputs": [
    {
     "name": "stdout",
     "output_type": "stream",
     "text": [
      "A   -0.143118\n",
      "B    0.126549\n",
      "C   -0.375996\n",
      "D    5.000000\n",
      "F    3.000000\n",
      "dtype: float64\n"
     ]
    }
   ],
   "source": [
    "print df.mean()"
   ]
  },
  {
   "cell_type": "markdown",
   "metadata": {},
   "source": [
    "2、 在其他轴上进行相同的操作:"
   ]
  },
  {
   "cell_type": "code",
   "execution_count": 48,
   "metadata": {
    "collapsed": false
   },
   "outputs": [
    {
     "name": "stdout",
     "output_type": "stream",
     "text": [
      "2013-01-01    1.312379\n",
      "2013-01-02    0.764281\n",
      "2013-01-03    1.472661\n",
      "2013-01-04    1.370811\n",
      "2013-01-05    1.703114\n",
      "2013-01-06    2.168152\n",
      "Freq: D, dtype: float64\n"
     ]
    }
   ],
   "source": [
    "print df.mean(1)"
   ]
  },
  {
   "cell_type": "markdown",
   "metadata": {},
   "source": [
    "3、 对于拥有不同维度,需要对齐的对象进行操作。Pandas 会自动的沿着指定的维\n",
    "度进行广播:"
   ]
  },
  {
   "cell_type": "code",
   "execution_count": 49,
   "metadata": {
    "collapsed": false
   },
   "outputs": [
    {
     "name": "stdout",
     "output_type": "stream",
     "text": [
      "2013-01-01    NaN\n",
      "2013-01-02    NaN\n",
      "2013-01-03    1.0\n",
      "2013-01-04    3.0\n",
      "2013-01-05    5.0\n",
      "2013-01-06    NaN\n",
      "Freq: D, dtype: float64\n"
     ]
    }
   ],
   "source": [
    "s = pd.Series([1,3,5,np.nan,6,8], index = dates).shift(2)\n",
    "print s"
   ]
  },
  {
   "cell_type": "code",
   "execution_count": 50,
   "metadata": {
    "collapsed": false
   },
   "outputs": [
    {
     "name": "stdout",
     "output_type": "stream",
     "text": [
      "                   A         B         C    D    F\n",
      "2013-01-01       NaN       NaN       NaN  NaN  NaN\n",
      "2013-01-02       NaN       NaN       NaN  NaN  NaN\n",
      "2013-01-03  0.380034 -1.118999 -1.897727  4.0  1.0\n",
      "2013-01-04 -3.514970 -3.187767 -3.443209  2.0  0.0\n",
      "2013-01-05 -6.086688 -3.779705 -5.618035  0.0 -1.0\n",
      "2013-01-06       NaN       NaN       NaN  NaN  NaN\n"
     ]
    }
   ],
   "source": [
    "print df.sub(s, axis = 'index')"
   ]
  },
  {
   "cell_type": "markdown",
   "metadata": {},
   "source": [
    "### Apply\n",
    "1、 对数据应用函数:"
   ]
  },
  {
   "cell_type": "code",
   "execution_count": 51,
   "metadata": {
    "collapsed": false
   },
   "outputs": [
    {
     "name": "stdout",
     "output_type": "stream",
     "text": [
      "                   A         B         C   D     F\n",
      "2013-01-01  0.000000  0.000000  0.249514   5   NaN\n",
      "2013-01-02 -1.252509 -0.664995 -0.011575  10   1.0\n",
      "2013-01-03  0.127525 -0.783994 -0.909302  15   3.0\n",
      "2013-01-04 -0.387445 -0.971761 -1.352511  20   6.0\n",
      "2013-01-05 -1.474134  0.248535 -1.970547  25  10.0\n",
      "2013-01-06 -0.858707  0.759293 -2.255974  30  15.0\n"
     ]
    }
   ],
   "source": [
    "print df.apply(np.cumsum)"
   ]
  },
  {
   "cell_type": "code",
   "execution_count": 52,
   "metadata": {
    "collapsed": false
   },
   "outputs": [
    {
     "name": "stdout",
     "output_type": "stream",
     "text": [
      "A    2.632542\n",
      "B    1.885290\n",
      "C    1.147241\n",
      "D    0.000000\n",
      "F    4.000000\n",
      "dtype: float64\n"
     ]
    }
   ],
   "source": [
    "print df.apply(lambda x: x.max() - x.min())"
   ]
  },
  {
   "cell_type": "markdown",
   "metadata": {},
   "source": [
    "### 直方图"
   ]
  },
  {
   "cell_type": "code",
   "execution_count": 53,
   "metadata": {
    "collapsed": false
   },
   "outputs": [
    {
     "name": "stdout",
     "output_type": "stream",
     "text": [
      "0    5\n",
      "1    1\n",
      "2    6\n",
      "3    3\n",
      "4    4\n",
      "5    6\n",
      "6    3\n",
      "7    3\n",
      "8    4\n",
      "9    4\n",
      "dtype: int64\n"
     ]
    }
   ],
   "source": [
    "s = pd.Series(np.random.randint(0, 7, size = 10))\n",
    "print s"
   ]
  },
  {
   "cell_type": "code",
   "execution_count": 54,
   "metadata": {
    "collapsed": false
   },
   "outputs": [
    {
     "name": "stdout",
     "output_type": "stream",
     "text": [
      "4    3\n",
      "3    3\n",
      "6    2\n",
      "5    1\n",
      "1    1\n",
      "dtype: int64\n"
     ]
    }
   ],
   "source": [
    "print s.value_counts()"
   ]
  },
  {
   "cell_type": "markdown",
   "metadata": {},
   "source": [
    "### 字符串方法"
   ]
  },
  {
   "cell_type": "markdown",
   "metadata": {},
   "source": [
    "Series 对象在其 str 属性中配备了一组字符串处理方法,可以很容易的应用到数组中的\n",
    "每个元素,如下段代码所示。变成小写。"
   ]
  },
  {
   "cell_type": "code",
   "execution_count": 55,
   "metadata": {
    "collapsed": false
   },
   "outputs": [
    {
     "name": "stdout",
     "output_type": "stream",
     "text": [
      "0       A\n",
      "1       B\n",
      "2       C\n",
      "3    Aaba\n",
      "4    Baca\n",
      "5     NaN\n",
      "6    CABA\n",
      "7     dog\n",
      "8     cat\n",
      "dtype: object\n"
     ]
    }
   ],
   "source": [
    "s = pd.Series(['A', 'B', 'C', 'Aaba', 'Baca', np.nan, 'CABA', 'dog', 'cat'])\n",
    "print s"
   ]
  },
  {
   "cell_type": "markdown",
   "metadata": {},
   "source": [
    "## 六、合并\n",
    "Pandas 提供了大量的方法能够轻松的对 Series, DataFrame 和 Panel 对象进行各种符合各种逻辑关系的合并操作。\n",
    "\n",
    "用 concat()把 pandas 类合并到一起:"
   ]
  },
  {
   "cell_type": "code",
   "execution_count": 56,
   "metadata": {
    "collapsed": false
   },
   "outputs": [
    {
     "name": "stdout",
     "output_type": "stream",
     "text": [
      "          0         1         2         3\n",
      "0  1.041151 -0.526343  0.240190 -2.129342\n",
      "1 -1.040013 -0.580216  0.054243 -0.496978\n",
      "2 -0.829497  0.407056  0.888406 -1.072323\n",
      "3  0.212972  0.224848 -1.027770  0.541093\n",
      "4  0.357309 -0.303670 -2.614913  0.737872\n",
      "5  1.187109 -0.664920 -2.769162 -0.245307\n",
      "6 -1.000689 -1.158225 -0.715559 -0.291499\n",
      "7  0.656899 -0.200471 -1.039671 -0.247050\n",
      "8 -0.633796  0.461215  0.026049 -0.773767\n",
      "9  1.888449 -0.293835 -0.617921  0.076162\n"
     ]
    }
   ],
   "source": [
    "df = pd.DataFrame(np.random.randn(10, 4))\n",
    "print df"
   ]
  },
  {
   "cell_type": "code",
   "execution_count": 57,
   "metadata": {
    "collapsed": true
   },
   "outputs": [],
   "source": [
    "pieces = [df[:3], df[3:7], df[7:]]"
   ]
  },
  {
   "cell_type": "code",
   "execution_count": 59,
   "metadata": {
    "collapsed": false
   },
   "outputs": [
    {
     "name": "stdout",
     "output_type": "stream",
     "text": [
      "          0         1         2         3\n",
      "0  1.041151 -0.526343  0.240190 -2.129342\n",
      "1 -1.040013 -0.580216  0.054243 -0.496978\n",
      "2 -0.829497  0.407056  0.888406 -1.072323\n",
      "3  0.212972  0.224848 -1.027770  0.541093\n",
      "4  0.357309 -0.303670 -2.614913  0.737872\n",
      "5  1.187109 -0.664920 -2.769162 -0.245307\n",
      "6 -1.000689 -1.158225 -0.715559 -0.291499\n",
      "7  0.656899 -0.200471 -1.039671 -0.247050\n",
      "8 -0.633796  0.461215  0.026049 -0.773767\n",
      "9  1.888449 -0.293835 -0.617921  0.076162\n"
     ]
    }
   ],
   "source": [
    "print pd.concat(pieces)"
   ]
  },
  {
   "cell_type": "markdown",
   "metadata": {},
   "source": [
    "### Join\n",
    "Join 类似于 SQL 类型的合并"
   ]
  },
  {
   "cell_type": "code",
   "execution_count": 60,
   "metadata": {
    "collapsed": true
   },
   "outputs": [],
   "source": [
    "left = pd.DataFrame({'key': ['foo', 'foo'], 'lval': [1, 2]})\n",
    "right = pd.DataFrame({'key': ['foo', 'foo'], 'rval': [4, 5]})"
   ]
  },
  {
   "cell_type": "code",
   "execution_count": 61,
   "metadata": {
    "collapsed": false
   },
   "outputs": [
    {
     "name": "stdout",
     "output_type": "stream",
     "text": [
      "   key  lval\n",
      "0  foo     1\n",
      "1  foo     2\n"
     ]
    }
   ],
   "source": [
    "print left"
   ]
  },
  {
   "cell_type": "code",
   "execution_count": 62,
   "metadata": {
    "collapsed": false
   },
   "outputs": [
    {
     "name": "stdout",
     "output_type": "stream",
     "text": [
      "   key  rval\n",
      "0  foo     4\n",
      "1  foo     5\n"
     ]
    }
   ],
   "source": [
    "print right"
   ]
  },
  {
   "cell_type": "code",
   "execution_count": 63,
   "metadata": {
    "collapsed": false
   },
   "outputs": [
    {
     "name": "stdout",
     "output_type": "stream",
     "text": [
      "   key  lval  rval\n",
      "0  foo     1     4\n",
      "1  foo     1     5\n",
      "2  foo     2     4\n",
      "3  foo     2     5\n"
     ]
    }
   ],
   "source": [
    "print pd.merge(left, right, on = 'key')"
   ]
  },
  {
   "cell_type": "markdown",
   "metadata": {},
   "source": [
    "### Append\n",
    "Append 将一行连接到一个 DataFrame 上"
   ]
  },
  {
   "cell_type": "code",
   "execution_count": 64,
   "metadata": {
    "collapsed": true
   },
   "outputs": [],
   "source": [
    "df = pd.DataFrame(np.random.randn(8, 4), columns = ['A','B','C','D'])"
   ]
  },
  {
   "cell_type": "code",
   "execution_count": 65,
   "metadata": {
    "collapsed": false
   },
   "outputs": [
    {
     "name": "stdout",
     "output_type": "stream",
     "text": [
      "          A         B         C         D\n",
      "0  2.399855 -0.610849 -0.671329  0.099010\n",
      "1 -0.268582 -0.067634 -0.804054 -0.590644\n",
      "2  1.639320  1.116574  0.471779 -1.594703\n",
      "3 -0.354838 -0.466890 -0.161267  1.641098\n",
      "4 -1.849251  1.352512  2.871678 -1.547155\n",
      "5  1.126047  2.218345 -1.707503 -0.692559\n",
      "6  0.737147  0.452606 -0.258848 -0.157267\n",
      "7 -0.097699  0.965176  0.072476  0.054900\n"
     ]
    }
   ],
   "source": [
    "print df"
   ]
  },
  {
   "cell_type": "code",
   "execution_count": 66,
   "metadata": {
    "collapsed": true
   },
   "outputs": [],
   "source": [
    "s = df.iloc[3]"
   ]
  },
  {
   "cell_type": "code",
   "execution_count": 67,
   "metadata": {
    "collapsed": false
   },
   "outputs": [
    {
     "name": "stdout",
     "output_type": "stream",
     "text": [
      "          A         B         C         D\n",
      "0  2.399855 -0.610849 -0.671329  0.099010\n",
      "1 -0.268582 -0.067634 -0.804054 -0.590644\n",
      "2  1.639320  1.116574  0.471779 -1.594703\n",
      "3 -0.354838 -0.466890 -0.161267  1.641098\n",
      "4 -1.849251  1.352512  2.871678 -1.547155\n",
      "5  1.126047  2.218345 -1.707503 -0.692559\n",
      "6  0.737147  0.452606 -0.258848 -0.157267\n",
      "7 -0.097699  0.965176  0.072476  0.054900\n",
      "8 -0.354838 -0.466890 -0.161267  1.641098\n"
     ]
    }
   ],
   "source": [
    "print df.append(s, ignore_index = True)"
   ]
  },
  {
   "cell_type": "markdown",
   "metadata": {},
   "source": [
    "## 七、分组\n",
    "对于”group by”操作,我们通常是指以下一个或多个操作步骤:\n",
    "\n",
    "(Splitting)按照一些规则将数据分为不同的组;\n",
    "\n",
    "(Applying)对于每组数据分别执行一个函数;\n",
    "\n",
    "(Combining)将结果组合到一个数据结构中;"
   ]
  },
  {
   "cell_type": "code",
   "execution_count": 69,
   "metadata": {
    "collapsed": false
   },
   "outputs": [],
   "source": [
    "df = pd.DataFrame({'A' : ['foo', 'bar', 'foo', 'bar',\n",
    "....:                     'foo', 'bar', 'foo', 'foo'],\n",
    "....:              'B' : ['one', 'one', 'two', 'three',\n",
    "....:                     'two', 'two', 'one', 'three'],\n",
    "....:              'C' : np.random.randn(8),\n",
    "....:              'D' : np.random.randn(8)})"
   ]
  },
  {
   "cell_type": "code",
   "execution_count": 70,
   "metadata": {
    "collapsed": false
   },
   "outputs": [
    {
     "name": "stdout",
     "output_type": "stream",
     "text": [
      "     A      B         C         D\n",
      "0  foo    one -0.114526  1.375341\n",
      "1  bar    one -1.563610 -1.371752\n",
      "2  foo    two -0.131135 -2.044052\n",
      "3  bar  three -1.049120 -0.774717\n",
      "4  foo    two -0.137321 -1.438457\n",
      "5  bar    two  1.322936 -0.654709\n",
      "6  foo    one -0.351001 -0.457565\n",
      "7  foo  three -0.824124  0.622835\n"
     ]
    }
   ],
   "source": [
    "print df"
   ]
  },
  {
   "cell_type": "markdown",
   "metadata": {},
   "source": [
    "1、 分组并对每个分组执行 sum 函数:"
   ]
  },
  {
   "cell_type": "code",
   "execution_count": 71,
   "metadata": {
    "collapsed": false
   },
   "outputs": [
    {
     "name": "stdout",
     "output_type": "stream",
     "text": [
      "            C         D\n",
      "A                      \n",
      "bar -1.289794 -2.801178\n",
      "foo -1.558108 -1.941899\n"
     ]
    }
   ],
   "source": [
    "print df.groupby('A').sum()"
   ]
  },
  {
   "cell_type": "markdown",
   "metadata": {},
   "source": [
    "2、 通过多个列进行分组形成一个层次索引,然后执行函数:"
   ]
  },
  {
   "cell_type": "code",
   "execution_count": 72,
   "metadata": {
    "collapsed": false
   },
   "outputs": [
    {
     "name": "stdout",
     "output_type": "stream",
     "text": [
      "                  C         D\n",
      "A   B                        \n",
      "bar one   -1.563610 -1.371752\n",
      "    three -1.049120 -0.774717\n",
      "    two    1.322936 -0.654709\n",
      "foo one   -0.465527  0.917776\n",
      "    three -0.824124  0.622835\n",
      "    two   -0.268456 -3.482509\n"
     ]
    }
   ],
   "source": [
    "print df.groupby(['A','B']).sum()"
   ]
  },
  {
   "cell_type": "markdown",
   "metadata": {},
   "source": [
    "### Reshaping\n",
    "### Stack"
   ]
  },
  {
   "cell_type": "code",
   "execution_count": 73,
   "metadata": {
    "collapsed": true
   },
   "outputs": [],
   "source": [
    "tuples = list(zip(*[['bar', 'bar', 'baz', 'baz',\n",
    "....:                'foo', 'foo', 'qux', 'qux'],\n",
    "....:               ['one', 'two', 'one', 'two',\n",
    "....:                'one', 'two', 'one', 'two']]))"
   ]
  },
  {
   "cell_type": "code",
   "execution_count": 75,
   "metadata": {
    "collapsed": true
   },
   "outputs": [],
   "source": [
    "index = pd.MultiIndex.from_tuples(tuples, names = ['first', 'second'])\n",
    "df = pd.DataFrame(np.random.randn(8, 2), index = index, columns = ['A', 'B'])\n",
    "df2 = df[:4]"
   ]
  },
  {
   "cell_type": "code",
   "execution_count": 76,
   "metadata": {
    "collapsed": false
   },
   "outputs": [
    {
     "name": "stdout",
     "output_type": "stream",
     "text": [
      "                     A         B\n",
      "first second                    \n",
      "bar   one    -1.130398  0.862571\n",
      "      two     1.046531 -1.895874\n",
      "baz   one     0.278263 -0.278354\n",
      "      two    -1.118441  1.408591\n"
     ]
    }
   ],
   "source": [
    "print df2"
   ]
  },
  {
   "cell_type": "code",
   "execution_count": 77,
   "metadata": {
    "collapsed": true
   },
   "outputs": [],
   "source": [
    "stacked = df2.stack()"
   ]
  },
  {
   "cell_type": "code",
   "execution_count": 78,
   "metadata": {
    "collapsed": false
   },
   "outputs": [
    {
     "name": "stdout",
     "output_type": "stream",
     "text": [
      "first  second   \n",
      "bar    one     A   -1.130398\n",
      "               B    0.862571\n",
      "       two     A    1.046531\n",
      "               B   -1.895874\n",
      "baz    one     A    0.278263\n",
      "               B   -0.278354\n",
      "       two     A   -1.118441\n",
      "               B    1.408591\n",
      "dtype: float64\n"
     ]
    }
   ],
   "source": [
    "print stacked"
   ]
  },
  {
   "cell_type": "code",
   "execution_count": 79,
   "metadata": {
    "collapsed": false
   },
   "outputs": [
    {
     "name": "stdout",
     "output_type": "stream",
     "text": [
      "                     A         B\n",
      "first second                    \n",
      "bar   one    -1.130398  0.862571\n",
      "      two     1.046531 -1.895874\n",
      "baz   one     0.278263 -0.278354\n",
      "      two    -1.118441  1.408591\n"
     ]
    }
   ],
   "source": [
    "print stacked.unstack()"
   ]
  },
  {
   "cell_type": "code",
   "execution_count": 80,
   "metadata": {
    "collapsed": false
   },
   "outputs": [
    {
     "name": "stdout",
     "output_type": "stream",
     "text": [
      "second        one       two\n",
      "first                      \n",
      "bar   A -1.130398  1.046531\n",
      "      B  0.862571 -1.895874\n",
      "baz   A  0.278263 -1.118441\n",
      "      B -0.278354  1.408591\n"
     ]
    }
   ],
   "source": [
    "print stacked.unstack(1)"
   ]
  },
  {
   "cell_type": "code",
   "execution_count": 81,
   "metadata": {
    "collapsed": false
   },
   "outputs": [
    {
     "name": "stdout",
     "output_type": "stream",
     "text": [
      "first          bar       baz\n",
      "second                      \n",
      "one    A -1.130398  0.278263\n",
      "       B  0.862571 -0.278354\n",
      "two    A  1.046531 -1.118441\n",
      "       B -1.895874  1.408591\n"
     ]
    }
   ],
   "source": [
    "print stacked.unstack(0)"
   ]
  },
  {
   "cell_type": "markdown",
   "metadata": {},
   "source": [
    "### 数据透视表"
   ]
  },
  {
   "cell_type": "code",
   "execution_count": 82,
   "metadata": {
    "collapsed": true
   },
   "outputs": [],
   "source": [
    "df = pd.DataFrame({'A' : ['one', 'one', 'two', 'three'] * 3,\n",
    ".....:             'B' : ['A', 'B', 'C'] * 4,\n",
    ".....:             'C' : ['foo', 'foo', 'foo', 'bar', 'bar', 'bar'] * 2,\n",
    ".....:             'D' : np.random.randn(12),\n",
    ".....:             'E' : np.random.randn(12)})"
   ]
  },
  {
   "cell_type": "code",
   "execution_count": 83,
   "metadata": {
    "collapsed": false
   },
   "outputs": [
    {
     "name": "stdout",
     "output_type": "stream",
     "text": [
      "        A  B    C         D         E\n",
      "0     one  A  foo -1.646620 -0.526991\n",
      "1     one  B  foo  1.303054  1.560730\n",
      "2     two  C  foo -2.288601 -0.568366\n",
      "3   three  A  bar  1.132503  0.066476\n",
      "4     one  B  bar -0.072598 -0.571294\n",
      "5     one  C  bar -0.841017 -1.446070\n",
      "6     two  A  foo  0.595537 -0.689051\n",
      "7   three  B  foo -0.532413 -0.752946\n",
      "8     one  C  foo  2.169197  0.951718\n",
      "9     one  A  bar -0.448969  0.674647\n",
      "10    two  B  bar  0.807108  1.418564\n",
      "11  three  C  bar -2.802334 -0.490561\n"
     ]
    }
   ],
   "source": [
    "print df"
   ]
  },
  {
   "cell_type": "markdown",
   "metadata": {},
   "source": [
    "可以从这个数据中轻松的生成数据透视表:"
   ]
  },
  {
   "cell_type": "code",
   "execution_count": 84,
   "metadata": {
    "collapsed": false
   },
   "outputs": [
    {
     "name": "stdout",
     "output_type": "stream",
     "text": [
      "C             bar       foo\n",
      "A     B                    \n",
      "one   A -0.448969 -1.646620\n",
      "      B -0.072598  1.303054\n",
      "      C -0.841017  2.169197\n",
      "three A  1.132503       NaN\n",
      "      B       NaN -0.532413\n",
      "      C -2.802334       NaN\n",
      "two   A       NaN  0.595537\n",
      "      B  0.807108       NaN\n",
      "      C       NaN -2.288601\n"
     ]
    }
   ],
   "source": [
    "print pd.pivot_table(df, values = 'D', index = ['A', 'B'], columns = ['C'])"
   ]
  },
  {
   "cell_type": "markdown",
   "metadata": {},
   "source": [
    "## 九、导入和保存数据\n",
    "CSV\n",
    "\n",
    "1 、 写入 csv 文件:"
   ]
  },
  {
   "cell_type": "code",
   "execution_count": 85,
   "metadata": {
    "collapsed": true
   },
   "outputs": [],
   "source": [
    "df.to_csv('foo.csv')"
   ]
  },
  {
   "cell_type": "code",
   "execution_count": 86,
   "metadata": {
    "collapsed": false
   },
   "outputs": [
    {
     "name": "stdout",
     "output_type": "stream",
     "text": [
      "    Unnamed: 0      A  B    C         D         E\n",
      "0            0    one  A  foo -1.646620 -0.526991\n",
      "1            1    one  B  foo  1.303054  1.560730\n",
      "2            2    two  C  foo -2.288601 -0.568366\n",
      "3            3  three  A  bar  1.132503  0.066476\n",
      "4            4    one  B  bar -0.072598 -0.571294\n",
      "5            5    one  C  bar -0.841017 -1.446070\n",
      "6            6    two  A  foo  0.595537 -0.689051\n",
      "7            7  three  B  foo -0.532413 -0.752946\n",
      "8            8    one  C  foo  2.169197  0.951718\n",
      "9            9    one  A  bar -0.448969  0.674647\n",
      "10          10    two  B  bar  0.807108  1.418564\n",
      "11          11  three  C  bar -2.802334 -0.490561\n"
     ]
    }
   ],
   "source": [
    "print pd.read_csv('foo.csv')"
   ]
  },
  {
   "cell_type": "markdown",
   "metadata": {},
   "source": [
    "### HDF5\n",
    "1、 写入 HDF5 存储:"
   ]
  },
  {
   "cell_type": "code",
   "execution_count": 87,
   "metadata": {
    "collapsed": true
   },
   "outputs": [],
   "source": [
    "df.to_hdf('foo.h5','df')"
   ]
  },
  {
   "cell_type": "markdown",
   "metadata": {},
   "source": [
    "2、 从 HDF5 存储中读取:"
   ]
  },
  {
   "cell_type": "code",
   "execution_count": 88,
   "metadata": {
    "collapsed": false
   },
   "outputs": [
    {
     "name": "stdout",
     "output_type": "stream",
     "text": [
      "        A  B    C         D         E\n",
      "0     one  A  foo -1.646620 -0.526991\n",
      "1     one  B  foo  1.303054  1.560730\n",
      "2     two  C  foo -2.288601 -0.568366\n",
      "3   three  A  bar  1.132503  0.066476\n",
      "4     one  B  bar -0.072598 -0.571294\n",
      "5     one  C  bar -0.841017 -1.446070\n",
      "6     two  A  foo  0.595537 -0.689051\n",
      "7   three  B  foo -0.532413 -0.752946\n",
      "8     one  C  foo  2.169197  0.951718\n",
      "9     one  A  bar -0.448969  0.674647\n",
      "10    two  B  bar  0.807108  1.418564\n",
      "11  three  C  bar -2.802334 -0.490561\n"
     ]
    }
   ],
   "source": [
    "print pd.read_hdf('foo.h5','df')"
   ]
  },
  {
   "cell_type": "markdown",
   "metadata": {},
   "source": [
    "### Excel\n",
    "1、 写入 excel 文件:"
   ]
  },
  {
   "cell_type": "code",
   "execution_count": 89,
   "metadata": {
    "collapsed": true
   },
   "outputs": [],
   "source": [
    "df.to_excel('foo.xlsx', sheet_name='Sheet1')"
   ]
  },
  {
   "cell_type": "markdown",
   "metadata": {},
   "source": [
    "2、 从 excel 文件中读取:"
   ]
  },
  {
   "cell_type": "code",
   "execution_count": 90,
   "metadata": {
    "collapsed": false
   },
   "outputs": [
    {
     "name": "stdout",
     "output_type": "stream",
     "text": [
      "        A  B    C         D         E\n",
      "0     one  A  foo -1.646620 -0.526991\n",
      "1     one  B  foo  1.303054  1.560730\n",
      "2     two  C  foo -2.288601 -0.568366\n",
      "3   three  A  bar  1.132503  0.066476\n",
      "4     one  B  bar -0.072598 -0.571294\n",
      "5     one  C  bar -0.841017 -1.446070\n",
      "6     two  A  foo  0.595537 -0.689051\n",
      "7   three  B  foo -0.532413 -0.752946\n",
      "8     one  C  foo  2.169197  0.951718\n",
      "9     one  A  bar -0.448969  0.674647\n",
      "10    two  B  bar  0.807108  1.418564\n",
      "11  three  C  bar -2.802334 -0.490561\n"
     ]
    }
   ],
   "source": [
    "print pd.read_excel('foo.xlsx', 'Sheet1', index_col = None, na_values = ['NA'])"
   ]
  },
  {
   "cell_type": "code",
   "execution_count": null,
   "metadata": {
    "collapsed": true
   },
   "outputs": [],
   "source": []
  }
 ],
 "metadata": {
  "kernelspec": {
   "display_name": "Python [Root]",
   "language": "python",
   "name": "Python [Root]"
  },
  "language_info": {
   "codemirror_mode": {
    "name": "ipython",
    "version": 2
   },
   "file_extension": ".py",
   "mimetype": "text/x-python",
   "name": "python",
   "nbconvert_exporter": "python",
   "pygments_lexer": "ipython2",
   "version": "2.7.12"
  }
 },
 "nbformat": 4,
 "nbformat_minor": 0
}
