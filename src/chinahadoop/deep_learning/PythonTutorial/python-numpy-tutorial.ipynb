{
 "cells": [
  {
   "cell_type": "markdown",
   "metadata": {},
   "source": [
    "# python与numpy基础"
   ]
  },
  {
   "cell_type": "markdown",
   "metadata": {},
   "source": [
    "寒小阳(2016年6月)"
   ]
  },
  {
   "cell_type": "markdown",
   "metadata": {},
   "source": [
    "## Python介绍"
   ]
  },
  {
   "cell_type": "markdown",
   "metadata": {},
   "source": [
    "如果你问我没有编程基础，想学习一门语言，我一定会首推给你Python<br>\n",
    "类似伪代码的书写方式，让你能够集中精力去解决问题，而不是花费大量的时间在开发和debug上<br>\n",
    "同时得益于Numpy/Scipy这样的科学计算库，使得其有非常高效和简易的科学计算能力。<br>\n",
    "而活跃的社区提供的各种可视化的库，也使得 机器学习/数据挖掘 的全过程(数据采集，数据清洗，数据处理，建模，可视化)可以非常流畅地完成。<br>\n",
    "而近年来极其热门的深度学习开源框架，基本都有python接口，google的Tensorflow更是python主导。"
   ]
  },
  {
   "cell_type": "markdown",
   "metadata": {},
   "source": [
    "这个教程里面的内容包括：\n",
    "\n",
    "* 基本Python语法: 基本数据类型 (Containers, Lists, Dictionaries, Sets, Tuples), 函数, 类\n",
    "* Numpy: Arrays/数组, Array indexing/数组取值, Datatypes, Array math, Broadcasting"
   ]
  },
  {
   "cell_type": "markdown",
   "metadata": {},
   "source": [
    "## 基本python语法"
   ]
  },
  {
   "cell_type": "markdown",
   "metadata": {},
   "source": [
    "Python确实经常被人像伪代码，下面是一个快排程序，你可以感受一下:"
   ]
  },
  {
   "cell_type": "code",
   "execution_count": 1,
   "metadata": {
    "collapsed": false
   },
   "outputs": [
    {
     "name": "stdout",
     "output_type": "stream",
     "text": [
      "[1, 1, 2, 3, 6, 8, 9, 10]\n"
     ]
    }
   ],
   "source": [
    "def quicksort(arr):\n",
    "    if len(arr) <= 1:\n",
    "        return arr\n",
    "    pivot = arr[len(arr) / 2]\n",
    "    left = [x for x in arr if x < pivot]\n",
    "    middle = [x for x in arr if x == pivot]\n",
    "    right = [x for x in arr if x > pivot]\n",
    "    return quicksort(left) + middle + quicksort(right)\n",
    "\n",
    "print quicksort([3,6,9, 8,10,1,2,1])"
   ]
  },
  {
   "cell_type": "markdown",
   "metadata": {},
   "source": [
    "### 基本数据类型"
   ]
  },
  {
   "cell_type": "markdown",
   "metadata": {},
   "source": [
    "#### 数值型"
   ]
  },
  {
   "cell_type": "markdown",
   "metadata": {},
   "source": [
    "整型和浮点型以及基本的运算大家应该都知道："
   ]
  },
  {
   "cell_type": "code",
   "execution_count": 2,
   "metadata": {
    "collapsed": false
   },
   "outputs": [
    {
     "name": "stdout",
     "output_type": "stream",
     "text": [
      "4 <type 'int'>\n"
     ]
    }
   ],
   "source": [
    "x = 4\n",
    "print x, type(x)"
   ]
  },
  {
   "cell_type": "code",
   "execution_count": 3,
   "metadata": {
    "collapsed": false
   },
   "outputs": [
    {
     "name": "stdout",
     "output_type": "stream",
     "text": [
      "5\n",
      "3\n",
      "8\n",
      "16\n"
     ]
    }
   ],
   "source": [
    "print x + 1   # 加;\n",
    "print x - 1   # 减;\n",
    "print x * 2   # 乘;\n",
    "print x ** 2  # 指数;"
   ]
  },
  {
   "cell_type": "code",
   "execution_count": 4,
   "metadata": {
    "collapsed": false
   },
   "outputs": [
    {
     "name": "stdout",
     "output_type": "stream",
     "text": [
      "5\n",
      "10\n"
     ]
    }
   ],
   "source": [
    "x += 1\n",
    "print x  # 自加\n",
    "x *= 2\n",
    "print x  # 自乘"
   ]
  },
  {
   "cell_type": "code",
   "execution_count": 5,
   "metadata": {
    "collapsed": false
   },
   "outputs": [
    {
     "name": "stdout",
     "output_type": "stream",
     "text": [
      "<type 'float'>\n",
      "2.5 3.5 5.0 6.25\n"
     ]
    }
   ],
   "source": [
    "y = 2.5\n",
    "print type(y) # 输出类型\n",
    "print y, y + 1, y * 2, y ** 2 # 连续输出"
   ]
  },
  {
   "cell_type": "markdown",
   "metadata": {},
   "source": [
    "不过需要提醒一句，用习惯C++和Java的同学，Python真的没有(x++)和(x--)这俩操作"
   ]
  },
  {
   "cell_type": "markdown",
   "metadata": {},
   "source": [
    "#### 布尔型"
   ]
  },
  {
   "cell_type": "markdown",
   "metadata": {},
   "source": [
    "用于指定真假的类型，布尔型，包含真（True）和假（False）:"
   ]
  },
  {
   "cell_type": "code",
   "execution_count": 6,
   "metadata": {
    "collapsed": false
   },
   "outputs": [
    {
     "name": "stdout",
     "output_type": "stream",
     "text": [
      "<type 'bool'>\n"
     ]
    }
   ],
   "source": [
    "t, f = True, False\n",
    "print type(t) # Prints \"<type 'bool'>\""
   ]
  },
  {
   "cell_type": "markdown",
   "metadata": {},
   "source": [
    "看看逻辑与或非这些操作"
   ]
  },
  {
   "cell_type": "code",
   "execution_count": 7,
   "metadata": {
    "collapsed": false
   },
   "outputs": [
    {
     "name": "stdout",
     "output_type": "stream",
     "text": [
      "False\n",
      "True\n",
      "False\n",
      "True\n"
     ]
    }
   ],
   "source": [
    "print t and f # Logical AND;\n",
    "print t or f  # Logical OR;\n",
    "print not t   # Logical NOT;\n",
    "print t != f  # Logical XOR;"
   ]
  },
  {
   "cell_type": "markdown",
   "metadata": {},
   "source": [
    "#### 字符串型"
   ]
  },
  {
   "cell_type": "code",
   "execution_count": 8,
   "metadata": {
    "collapsed": false
   },
   "outputs": [
    {
     "name": "stdout",
     "output_type": "stream",
     "text": [
      "hello 5\n"
     ]
    }
   ],
   "source": [
    "hello = 'hello'   # 实在想不出的时候就用hello world\n",
    "world = \"world\"\n",
    "print hello, len(hello) # 字符串长度"
   ]
  },
  {
   "cell_type": "code",
   "execution_count": 9,
   "metadata": {
    "collapsed": false
   },
   "outputs": [
    {
     "name": "stdout",
     "output_type": "stream",
     "text": [
      "hello world\n"
     ]
    }
   ],
   "source": [
    "hw = hello + ' ' + world  # 字符串拼接\n",
    "print hw"
   ]
  },
  {
   "cell_type": "code",
   "execution_count": 10,
   "metadata": {
    "collapsed": false
   },
   "outputs": [
    {
     "name": "stdout",
     "output_type": "stream",
     "text": [
      "hello world 12\n"
     ]
    }
   ],
   "source": [
    "hw12 = '%s %s %d' % (hello, world, 12)  # 类似sprintf的格式化输出\n",
    "print hw12  # prints \"hello world 12\""
   ]
  },
  {
   "cell_type": "markdown",
   "metadata": {},
   "source": [
    "我能说什么，你面试的时候面试官最爱让你写的字符串操作，都是它自带的:"
   ]
  },
  {
   "cell_type": "code",
   "execution_count": 11,
   "metadata": {
    "collapsed": false
   },
   "outputs": [
    {
     "name": "stdout",
     "output_type": "stream",
     "text": [
      "Hello\n",
      "HELLO\n",
      "  hello\n",
      " hello \n",
      "he(ell)(ell)o\n",
      "world\n"
     ]
    }
   ],
   "source": [
    "s = \"hello\"\n",
    "print s.capitalize()  # 首字母大写\n",
    "print s.upper()       # 全大写\n",
    "print s.rjust(7)      # 靠右对齐\n",
    "print s.center(7)     # 居中输出\n",
    "print s.replace('l', '(ell)')  # 字符串替换\n",
    "print '  world '.strip()  # 去掉两侧空白"
   ]
  },
  {
   "cell_type": "markdown",
   "metadata": {},
   "source": [
    "其他你想要的字符串操作看[这里](https://docs.python.org/2/library/stdtypes.html#string-methods)."
   ]
  },
  {
   "cell_type": "markdown",
   "metadata": {},
   "source": [
    "### 容器"
   ]
  },
  {
   "cell_type": "markdown",
   "metadata": {},
   "source": [
    "内置的容器用得非常非常多，包括: lists, dictionaries, sets, and tuples."
   ]
  },
  {
   "cell_type": "markdown",
   "metadata": {},
   "source": [
    "#### Lists/列表"
   ]
  },
  {
   "cell_type": "markdown",
   "metadata": {},
   "source": [
    "和你学数据结构里面数组长得一样的容器，但是操作可多多了:"
   ]
  },
  {
   "cell_type": "code",
   "execution_count": 12,
   "metadata": {
    "collapsed": false
   },
   "outputs": [
    {
     "name": "stdout",
     "output_type": "stream",
     "text": [
      "[3, 1, 2] 2\n",
      "2\n"
     ]
    }
   ],
   "source": [
    "xs = [3, 1, 2]   # 建一个列表\n",
    "print xs, xs[2]\n",
    "print xs[-1]     # 用-1表示最后一个元素，输出来"
   ]
  },
  {
   "cell_type": "code",
   "execution_count": 13,
   "metadata": {
    "collapsed": false
   },
   "outputs": [
    {
     "name": "stdout",
     "output_type": "stream",
     "text": [
      "[3, 1, 'Hanxiaoyang']\n"
     ]
    }
   ],
   "source": [
    "xs[2] = 'Hanxiaoyang'    # 有意思的是，Python的list居然可以有不同类型的元素\n",
    "print xs"
   ]
  },
  {
   "cell_type": "code",
   "execution_count": 14,
   "metadata": {
    "collapsed": false
   },
   "outputs": [
    {
     "name": "stdout",
     "output_type": "stream",
     "text": [
      "[3, 1, 'Hanxiaoyang', 'happy']\n"
     ]
    }
   ],
   "source": [
    "xs.append('happy') # 可以用append在尾部添加元素\n",
    "print xs  "
   ]
  },
  {
   "cell_type": "code",
   "execution_count": 15,
   "metadata": {
    "collapsed": false
   },
   "outputs": [
    {
     "name": "stdout",
     "output_type": "stream",
     "text": [
      "happy [3, 1, 'Hanxiaoyang']\n"
     ]
    }
   ],
   "source": [
    "x = xs.pop()     # 也可以把最后一个元素“弹射”出来\n",
    "print x, xs "
   ]
  },
  {
   "cell_type": "markdown",
   "metadata": {},
   "source": [
    "关于list更多的操作和内容可以看[这里](https://docs.python.org/2/tutorial/datastructures.html#more-on-lists)."
   ]
  },
  {
   "cell_type": "markdown",
   "metadata": {},
   "source": [
    "#### 列表切片"
   ]
  },
  {
   "cell_type": "markdown",
   "metadata": {},
   "source": [
    "这是大家最爱python list的原因之一，取东西太方便啦:"
   ]
  },
  {
   "cell_type": "code",
   "execution_count": 16,
   "metadata": {
    "collapsed": false
   },
   "outputs": [
    {
     "name": "stdout",
     "output_type": "stream",
     "text": [
      "[0, 1, 2, 3, 4]\n",
      "[2, 3]\n",
      "[2, 3, 4]\n",
      "[0, 1]\n",
      "[0, 1, 2, 3, 4]\n",
      "[0, 1, 2, 3]\n",
      "[0, 1, 8, 9, 4]\n"
     ]
    }
   ],
   "source": [
    "nums = range(5)    # 0-4\n",
    "print nums         # 输出 \"[0, 1, 2, 3, 4]\"\n",
    "print nums[2:4]    # 下标2到4(不包括)的元素，注意下标从0开始\n",
    "print nums[2:]     # 下标2到结尾的元素; prints \"[2, 3, 4]\"\n",
    "print nums[:2]     # 直到下标2的元素; prints \"[0, 1]\"\n",
    "print nums[:]      # Get a slice of the whole list; prints [\"0, 1, 2, 3, 4]\"\n",
    "print nums[:-1]    # 直到倒数第一个元素; prints [\"0, 1, 2, 3]\"\n",
    "nums[2:4] = [8, 9] # 也可以直接这么赋值\n",
    "print nums         # Prints \"[0, 1, 8, 9, 4]\""
   ]
  },
  {
   "cell_type": "markdown",
   "metadata": {},
   "source": [
    "#### 循环"
   ]
  },
  {
   "cell_type": "markdown",
   "metadata": {},
   "source": [
    "可以对list立面的元素做一个循环:"
   ]
  },
  {
   "cell_type": "code",
   "execution_count": 17,
   "metadata": {
    "collapsed": false
   },
   "outputs": [
    {
     "name": "stdout",
     "output_type": "stream",
     "text": [
      "喵星人\n",
      "汪星人\n",
      "火星人\n"
     ]
    }
   ],
   "source": [
    "animals = ['喵星人', '汪星人', '火星人']\n",
    "for animal in animals:\n",
    "    print animal"
   ]
  },
  {
   "cell_type": "markdown",
   "metadata": {},
   "source": [
    "又要输出元素，又要输出下标怎么办，用 `enumerate` 函数:"
   ]
  },
  {
   "cell_type": "code",
   "execution_count": 18,
   "metadata": {
    "collapsed": false
   },
   "outputs": [
    {
     "name": "stdout",
     "output_type": "stream",
     "text": [
      "#1: 喵星人\n",
      "#2: 汪星人\n",
      "#3: 火星人\n"
     ]
    }
   ],
   "source": [
    "animals = ['喵星人', '汪星人', '火星人']\n",
    "for idx, animal in enumerate(animals):\n",
    "    print '#%d: %s' % (idx + 1, animal)"
   ]
  },
  {
   "cell_type": "markdown",
   "metadata": {},
   "source": [
    "#### List comprehensions:"
   ]
  },
  {
   "cell_type": "markdown",
   "metadata": {},
   "source": [
    "如果对list里面的元素都做一样的操作，然后生成一个list，用它最快了，这绝对会成为你最爱的python操作之一:"
   ]
  },
  {
   "cell_type": "code",
   "execution_count": 19,
   "metadata": {
    "collapsed": false
   },
   "outputs": [
    {
     "name": "stdout",
     "output_type": "stream",
     "text": [
      "[0, 1, 4, 9, 16]\n"
     ]
    }
   ],
   "source": [
    "# 求一个list里面的元素的平方，然后输出，很out的for循环写法\n",
    "nums = [0, 1, 2, 3, 4]\n",
    "squares = []\n",
    "for x in nums:\n",
    "    squares.append(x ** 2)\n",
    "print squares"
   ]
  },
  {
   "cell_type": "markdown",
   "metadata": {},
   "source": [
    "用list comprehension可以这么写:"
   ]
  },
  {
   "cell_type": "code",
   "execution_count": 20,
   "metadata": {
    "collapsed": false
   },
   "outputs": [
    {
     "name": "stdout",
     "output_type": "stream",
     "text": [
      "[0, 1, 4, 9, 16]\n"
     ]
    }
   ],
   "source": [
    "nums = [0, 1, 2, 3, 4]\n",
    "# 对每个x完成一个操作以后返回来，组成新的list\n",
    "squares = [x ** 2 for x in nums]\n",
    "print squares"
   ]
  },
  {
   "cell_type": "markdown",
   "metadata": {},
   "source": [
    "你甚至可以加条件，去筛出你想要的元素，去做你想要的操作:"
   ]
  },
  {
   "cell_type": "code",
   "execution_count": 21,
   "metadata": {
    "collapsed": false
   },
   "outputs": [
    {
     "name": "stdout",
     "output_type": "stream",
     "text": [
      "[0, 4, 16]\n"
     ]
    }
   ],
   "source": [
    "nums = [0, 1, 2, 3, 4]\n",
    "# 把所有的偶数取出来，平方后返回\n",
    "even_squares = [x ** 2 for x in nums if x % 2 == 0]\n",
    "print even_squares"
   ]
  },
  {
   "cell_type": "markdown",
   "metadata": {},
   "source": [
    "#### 字典"
   ]
  },
  {
   "cell_type": "markdown",
   "metadata": {},
   "source": [
    "存储键值对(key => value)的数据结构, 类似Java中的`Map`，这真的是我使用频度相当高的数据结构:"
   ]
  },
  {
   "cell_type": "code",
   "execution_count": 22,
   "metadata": {
    "collapsed": false
   },
   "outputs": [
    {
     "name": "stdout",
     "output_type": "stream",
     "text": [
      "cute\n",
      "True\n"
     ]
    }
   ],
   "source": [
    "d = {'cat': 'cute', 'dog': 'furry'}  # 建立字典\n",
    "print d['cat']       # 根据key取value\n",
    "print 'cat' in d     # 查一个元素是否在字典中"
   ]
  },
  {
   "cell_type": "code",
   "execution_count": 23,
   "metadata": {
    "collapsed": false
   },
   "outputs": [
    {
     "name": "stdout",
     "output_type": "stream",
     "text": [
      "wet\n"
     ]
    }
   ],
   "source": [
    "d['fish'] = 'wet'    # 设定键值对\n",
    "print d['fish']      # 这时候肯定是输出修改后的内容"
   ]
  },
  {
   "cell_type": "code",
   "execution_count": 24,
   "metadata": {
    "collapsed": false
   },
   "outputs": [
    {
     "ename": "KeyError",
     "evalue": "'monkey'",
     "output_type": "error",
     "traceback": [
      "\u001b[1;31m---------------------------------------------------------------------------\u001b[0m",
      "\u001b[1;31mKeyError\u001b[0m                                  Traceback (most recent call last)",
      "\u001b[1;32m<ipython-input-24-f37735e1a686>\u001b[0m in \u001b[0;36m<module>\u001b[1;34m()\u001b[0m\n\u001b[1;32m----> 1\u001b[1;33m \u001b[1;32mprint\u001b[0m \u001b[0md\u001b[0m\u001b[1;33m[\u001b[0m\u001b[1;34m'monkey'\u001b[0m\u001b[1;33m]\u001b[0m  \u001b[1;31m# 不是d的键，肯定输不出东西\u001b[0m\u001b[1;33m\u001b[0m\u001b[0m\n\u001b[0m",
      "\u001b[1;31mKeyError\u001b[0m: 'monkey'"
     ]
    }
   ],
   "source": [
    "print d['monkey']  # 不是d的键，肯定输不出东西"
   ]
  },
  {
   "cell_type": "code",
   "execution_count": 25,
   "metadata": {
    "collapsed": false
   },
   "outputs": [
    {
     "name": "stdout",
     "output_type": "stream",
     "text": [
      "N/A\n",
      "wet\n"
     ]
    }
   ],
   "source": [
    "print d.get('monkey', 'N/A')  # 可以默认输出'N/A'（取不到key对应的value值的时候）\n",
    "print d.get('fish', 'N/A') "
   ]
  },
  {
   "cell_type": "code",
   "execution_count": 26,
   "metadata": {
    "collapsed": false
   },
   "outputs": [
    {
     "name": "stdout",
     "output_type": "stream",
     "text": [
      "N/A\n"
     ]
    }
   ],
   "source": [
    "del d['fish']        # 删除字典中的键值对\n",
    "print d.get('fish', 'N/A') # 这会儿就没有了"
   ]
  },
  {
   "cell_type": "markdown",
   "metadata": {},
   "source": [
    "同样的，你其他想了解的字典相关的操作和内容可以看 [这里](https://docs.python.org/2/library/stdtypes.html#dict)."
   ]
  },
  {
   "cell_type": "markdown",
   "metadata": {},
   "source": [
    "你可以这样循环python字典取出你想要的内容:"
   ]
  },
  {
   "cell_type": "code",
   "execution_count": 27,
   "metadata": {
    "collapsed": false
   },
   "outputs": [
    {
     "name": "stdout",
     "output_type": "stream",
     "text": [
      "A person has 2 legs\n",
      "A spider has 8 legs\n",
      "A cat has 4 legs\n"
     ]
    }
   ],
   "source": [
    "d = {'person': 2, 'cat': 4, 'spider': 8}\n",
    "for animal in d:\n",
    "    legs = d[animal]\n",
    "    print 'A %s has %d legs' % (animal, legs)"
   ]
  },
  {
   "cell_type": "markdown",
   "metadata": {},
   "source": [
    "用iteritems函数可以同时取出键值对:"
   ]
  },
  {
   "cell_type": "code",
   "execution_count": 28,
   "metadata": {
    "collapsed": false
   },
   "outputs": [
    {
     "name": "stdout",
     "output_type": "stream",
     "text": [
      "A person has 2 legs\n",
      "A spider has 8 legs\n",
      "A cat has 4 legs\n"
     ]
    }
   ],
   "source": [
    "d = {'person': 2, 'cat': 4, 'spider': 8}\n",
    "for animal, legs in d.iteritems():\n",
    "    print 'A %s has %d legs' % (animal, legs)"
   ]
  },
  {
   "cell_type": "markdown",
   "metadata": {},
   "source": [
    "Dictionary comprehensions: 和list comprehension有点像啦，但是生成的是字典:"
   ]
  },
  {
   "cell_type": "code",
   "execution_count": 29,
   "metadata": {
    "collapsed": false
   },
   "outputs": [
    {
     "name": "stdout",
     "output_type": "stream",
     "text": [
      "{0: 0, 2: 4, 4: 16}\n"
     ]
    }
   ],
   "source": [
    "nums = [0, 1, 2, 3, 4]\n",
    "even_num_to_square = {x: x ** 2 for x in nums if x % 2 == 0}\n",
    "print even_num_to_square"
   ]
  },
  {
   "cell_type": "markdown",
   "metadata": {},
   "source": [
    "#### Sets"
   ]
  },
  {
   "cell_type": "markdown",
   "metadata": {},
   "source": [
    "你可以理解成没有相同元素的列表（当然，显然和list是不同的）:"
   ]
  },
  {
   "cell_type": "code",
   "execution_count": 30,
   "metadata": {
    "collapsed": false
   },
   "outputs": [
    {
     "name": "stdout",
     "output_type": "stream",
     "text": [
      "True\n",
      "False\n"
     ]
    }
   ],
   "source": [
    "animals = {'cat', 'dog'}\n",
    "print 'cat' in animals   # Check if an element is in a set; prints \"True\"\n",
    "print 'fish' in animals  # prints \"False\"\n"
   ]
  },
  {
   "cell_type": "code",
   "execution_count": 31,
   "metadata": {
    "collapsed": false
   },
   "outputs": [
    {
     "name": "stdout",
     "output_type": "stream",
     "text": [
      "True\n",
      "3\n"
     ]
    }
   ],
   "source": [
    "animals.add('fish')      # 添加元素\n",
    "print 'fish' in animals\n",
    "print len(animals)       # 元素个数"
   ]
  },
  {
   "cell_type": "code",
   "execution_count": 32,
   "metadata": {
    "collapsed": false
   },
   "outputs": [
    {
     "name": "stdout",
     "output_type": "stream",
     "text": [
      "3\n",
      "2\n"
     ]
    }
   ],
   "source": [
    "animals.add('cat')       # 如果元素已经在set里了，操作不会怎么样\n",
    "print len(animals)       \n",
    "animals.remove('cat')    # 删除一个元素\n",
    "print len(animals)       "
   ]
  },
  {
   "cell_type": "markdown",
   "metadata": {},
   "source": [
    "循环的方式和list很像啦:"
   ]
  },
  {
   "cell_type": "code",
   "execution_count": 33,
   "metadata": {
    "collapsed": false
   },
   "outputs": [
    {
     "name": "stdout",
     "output_type": "stream",
     "text": [
      "#1: fish\n",
      "#2: dog\n",
      "#3: cat\n"
     ]
    }
   ],
   "source": [
    "animals = {'cat', 'dog', 'fish'}\n",
    "for idx, animal in enumerate(animals):\n",
    "    print '#%d: %s' % (idx + 1, animal)\n",
    "# Prints \"#1: fish\", \"#2: dog\", \"#3: cat\""
   ]
  },
  {
   "cell_type": "markdown",
   "metadata": {},
   "source": [
    "Set comprehensions: 熟悉的感觉:"
   ]
  },
  {
   "cell_type": "code",
   "execution_count": 34,
   "metadata": {
    "collapsed": false
   },
   "outputs": [
    {
     "name": "stdout",
     "output_type": "stream",
     "text": [
      "set([0, 1, 2, 3, 4, 5])\n"
     ]
    }
   ],
   "source": [
    "from math import sqrt\n",
    "print {int(sqrt(x)) for x in range(30)}"
   ]
  },
  {
   "cell_type": "markdown",
   "metadata": {},
   "source": [
    "#### 元组"
   ]
  },
  {
   "cell_type": "markdown",
   "metadata": {},
   "source": [
    "和list很像，但是可以作为字典的key或者set的元素出现，但是一整个list不可以作为字典的key或者set的元素的:"
   ]
  },
  {
   "cell_type": "code",
   "execution_count": 35,
   "metadata": {
    "collapsed": false
   },
   "outputs": [
    {
     "name": "stdout",
     "output_type": "stream",
     "text": [
      "<type 'tuple'>\n",
      "5\n",
      "1\n"
     ]
    }
   ],
   "source": [
    "d = {(x, x + 1): x for x in range(10)}  # Create a dictionary with tuple keys\n",
    "t = (5, 6)       # Create a tuple\n",
    "print type(t)\n",
    "print d[t]       \n",
    "print d[(1, 2)]"
   ]
  },
  {
   "cell_type": "code",
   "execution_count": 36,
   "metadata": {
    "collapsed": false
   },
   "outputs": [
    {
     "ename": "TypeError",
     "evalue": "'tuple' object does not support item assignment",
     "output_type": "error",
     "traceback": [
      "\u001b[1;31m---------------------------------------------------------------------------\u001b[0m",
      "\u001b[1;31mTypeError\u001b[0m                                 Traceback (most recent call last)",
      "\u001b[1;32m<ipython-input-36-0a69537257d5>\u001b[0m in \u001b[0;36m<module>\u001b[1;34m()\u001b[0m\n\u001b[1;32m----> 1\u001b[1;33m \u001b[0mt\u001b[0m\u001b[1;33m[\u001b[0m\u001b[1;36m0\u001b[0m\u001b[1;33m]\u001b[0m \u001b[1;33m=\u001b[0m \u001b[1;36m1\u001b[0m\u001b[1;33m\u001b[0m\u001b[0m\n\u001b[0m",
      "\u001b[1;31mTypeError\u001b[0m: 'tuple' object does not support item assignment"
     ]
    }
   ],
   "source": [
    "t[0] = 1"
   ]
  },
  {
   "cell_type": "markdown",
   "metadata": {},
   "source": [
    "### 函数"
   ]
  },
  {
   "cell_type": "markdown",
   "metadata": {},
   "source": [
    "用 `def` 就可以定义一个函数，就像下面这样:"
   ]
  },
  {
   "cell_type": "code",
   "execution_count": 37,
   "metadata": {
    "collapsed": false
   },
   "outputs": [
    {
     "name": "stdout",
     "output_type": "stream",
     "text": [
      "negative\n",
      "zero\n",
      "positive\n"
     ]
    }
   ],
   "source": [
    "def sign(x):\n",
    "    if x > 0:\n",
    "        return 'positive'\n",
    "    elif x < 0:\n",
    "        return 'negative'\n",
    "    else:\n",
    "        return 'zero'\n",
    "\n",
    "for x in [-1, 0, 1]:\n",
    "    print sign(x)"
   ]
  },
  {
   "cell_type": "markdown",
   "metadata": {},
   "source": [
    "函数名字后面接的括号里，可以有多个参数，你自己可以试试:"
   ]
  },
  {
   "cell_type": "code",
   "execution_count": 38,
   "metadata": {
    "collapsed": false
   },
   "outputs": [
    {
     "name": "stdout",
     "output_type": "stream",
     "text": [
      "Hello, Bob!\n",
      "HELLO, FRED\n"
     ]
    }
   ],
   "source": [
    "def hello(name, loud=False):\n",
    "    if loud:\n",
    "        print 'HELLO, %s' % name.upper()\n",
    "    else:\n",
    "        print 'Hello, %s!' % name\n",
    "\n",
    "hello('Bob')\n",
    "hello('Fred', loud=True)"
   ]
  },
  {
   "cell_type": "markdown",
   "metadata": {},
   "source": [
    "### 类"
   ]
  },
  {
   "cell_type": "markdown",
   "metadata": {},
   "source": [
    "Python的类，怎么说呢，比较简单粗暴:"
   ]
  },
  {
   "cell_type": "code",
   "execution_count": 39,
   "metadata": {
    "collapsed": false
   },
   "outputs": [
    {
     "name": "stdout",
     "output_type": "stream",
     "text": [
      "Hello, Fred\n",
      "HELLO, FRED!\n"
     ]
    }
   ],
   "source": [
    "class Greeter:\n",
    "\n",
    "    # 构造函数\n",
    "    def __init__(self, name):\n",
    "        self.name = name  # Create an instance variable\n",
    "\n",
    "    # 类的成员函数\n",
    "    def greet(self, loud=False):\n",
    "        if loud:\n",
    "            print 'HELLO, %s!' % self.name.upper()\n",
    "        else:\n",
    "            print 'Hello, %s' % self.name\n",
    "\n",
    "g = Greeter('Fred')  # 构造一个类\n",
    "g.greet()            # 调用函数; prints \"Hello, Fred\"\n",
    "g.greet(loud=True)   # 调用函数; prints \"HELLO, FRED!\""
   ]
  },
  {
   "cell_type": "markdown",
   "metadata": {},
   "source": [
    "## Numpy"
   ]
  },
  {
   "cell_type": "markdown",
   "metadata": {},
   "source": [
    "我们要开始接触高效计算库Numpy了，你要是之前在实验室用MATLAB之类的语法，你会发现Numpy和它们长得不要太像，爱MATLAB的同学，参考文档可以看[这里](http://wiki.scipy.org/NumPy_for_Matlab_Users)"
   ]
  },
  {
   "cell_type": "markdown",
   "metadata": {},
   "source": [
    "python里面调用一个包，用import对吧, 所以我们import `numpy` 包:"
   ]
  },
  {
   "cell_type": "code",
   "execution_count": 40,
   "metadata": {
    "collapsed": false
   },
   "outputs": [],
   "source": [
    "import numpy as np"
   ]
  },
  {
   "cell_type": "markdown",
   "metadata": {},
   "source": [
    "### Arrays/数组"
   ]
  },
  {
   "cell_type": "markdown",
   "metadata": {},
   "source": [
    "看你数组的维度啦，我自己的话比较简单粗暴，一般直接把1维数组就看做向量/vector，2维数组看做2维矩阵，3维数组看做3维矩阵..."
   ]
  },
  {
   "cell_type": "markdown",
   "metadata": {},
   "source": [
    "可以调用np.array去从list初始化一个数组:"
   ]
  },
  {
   "cell_type": "code",
   "execution_count": 41,
   "metadata": {
    "collapsed": false
   },
   "outputs": [
    {
     "name": "stdout",
     "output_type": "stream",
     "text": [
      "<type 'numpy.ndarray'> (3L,) 1 2 3\n",
      "[5 2 3]\n"
     ]
    }
   ],
   "source": [
    "a = np.array([1, 2, 3])  # 1维数组\n",
    "print type(a), a.shape, a[0], a[1], a[2]\n",
    "a[0] = 5                 # 重新赋值\n",
    "print a                  "
   ]
  },
  {
   "cell_type": "code",
   "execution_count": 42,
   "metadata": {
    "collapsed": false
   },
   "outputs": [
    {
     "name": "stdout",
     "output_type": "stream",
     "text": [
      "[[1 2 3]\n",
      " [4 5 6]]\n"
     ]
    }
   ],
   "source": [
    "b = np.array([[1,2,3],[4,5,6]])   # 2维数组\n",
    "print b"
   ]
  },
  {
   "cell_type": "code",
   "execution_count": 43,
   "metadata": {
    "collapsed": false
   },
   "outputs": [
    {
     "name": "stdout",
     "output_type": "stream",
     "text": [
      "(2L, 3L)\n",
      "1 2 4\n"
     ]
    }
   ],
   "source": [
    "print b.shape  #可以看形状的（非常常用！！！）                  \n",
    "print b[0, 0], b[0, 1], b[1, 0]"
   ]
  },
  {
   "cell_type": "markdown",
   "metadata": {},
   "source": [
    "有一些内置的创建数组的函数:"
   ]
  },
  {
   "cell_type": "code",
   "execution_count": 44,
   "metadata": {
    "collapsed": false
   },
   "outputs": [
    {
     "name": "stdout",
     "output_type": "stream",
     "text": [
      "[[ 0.  0.]\n",
      " [ 0.  0.]]\n"
     ]
    }
   ],
   "source": [
    "a = np.zeros((2,2))  # 创建2x2的全0数组\n",
    "print a"
   ]
  },
  {
   "cell_type": "code",
   "execution_count": 45,
   "metadata": {
    "collapsed": false
   },
   "outputs": [
    {
     "name": "stdout",
     "output_type": "stream",
     "text": [
      "[[ 1.  1.]]\n"
     ]
    }
   ],
   "source": [
    "b = np.ones((1,2))   # 创建1x2的全0数组\n",
    "print b"
   ]
  },
  {
   "cell_type": "code",
   "execution_count": 46,
   "metadata": {
    "collapsed": false
   },
   "outputs": [
    {
     "name": "stdout",
     "output_type": "stream",
     "text": [
      "[[ 7.  7.]\n",
      " [ 7.  7.]]\n"
     ]
    },
    {
     "name": "stderr",
     "output_type": "stream",
     "text": [
      "D:\\Anaconda2\\lib\\site-packages\\numpy\\core\\numeric.py:301: FutureWarning: in the future, full((2, 2), 7) will return an array of dtype('int32')\n",
      "  format(shape, fill_value, array(fill_value).dtype), FutureWarning)\n"
     ]
    }
   ],
   "source": [
    "c = np.full((2,2), 7) # 定值数组\n",
    "print c "
   ]
  },
  {
   "cell_type": "code",
   "execution_count": 47,
   "metadata": {
    "collapsed": false
   },
   "outputs": [
    {
     "name": "stdout",
     "output_type": "stream",
     "text": [
      "[[ 1.  0.]\n",
      " [ 0.  1.]]\n"
     ]
    }
   ],
   "source": [
    "d = np.eye(2)        # 对角矩阵（对角元素为1）\n",
    "print d"
   ]
  },
  {
   "cell_type": "code",
   "execution_count": 48,
   "metadata": {
    "collapsed": false
   },
   "outputs": [
    {
     "name": "stdout",
     "output_type": "stream",
     "text": [
      "[[ 0.88332599  0.1743476 ]\n",
      " [ 0.31261891  0.0718507 ]]\n"
     ]
    }
   ],
   "source": [
    "e = np.random.random((2,2)) # 2x2的随机数组(矩阵)\n",
    "print e"
   ]
  },
  {
   "cell_type": "markdown",
   "metadata": {},
   "source": [
    "一维数组的索引和切片"
   ]
  },
  {
   "cell_type": "code",
   "execution_count": 49,
   "metadata": {
    "collapsed": false
   },
   "outputs": [],
   "source": [
    "a = np.arange(9)"
   ]
  },
  {
   "cell_type": "code",
   "execution_count": 50,
   "metadata": {
    "collapsed": false
   },
   "outputs": [
    {
     "name": "stdout",
     "output_type": "stream",
     "text": [
      "[0 1 2 3 4 5 6 7 8]\n",
      "[3 4 5 6]\n"
     ]
    }
   ],
   "source": [
    "print a\n",
    "print a[3:7]  #用下标3~7来选取元素3~6"
   ]
  },
  {
   "cell_type": "code",
   "execution_count": 51,
   "metadata": {
    "collapsed": false
   },
   "outputs": [
    {
     "name": "stdout",
     "output_type": "stream",
     "text": [
      "[0 2 4 6]\n"
     ]
    }
   ],
   "source": [
    "print a[:7:2]  #用下标0~7，以2为步长选取元素"
   ]
  },
  {
   "cell_type": "code",
   "execution_count": 52,
   "metadata": {
    "collapsed": false
   },
   "outputs": [
    {
     "name": "stdout",
     "output_type": "stream",
     "text": [
      "[8 7 6 5 4 3 2 1 0]\n"
     ]
    }
   ],
   "source": [
    "print a[::-1]  #用负数下标翻转数组"
   ]
  },
  {
   "cell_type": "markdown",
   "metadata": {},
   "source": [
    "多维数组的切片和索引"
   ]
  },
  {
   "cell_type": "code",
   "execution_count": 53,
   "metadata": {
    "collapsed": true
   },
   "outputs": [],
   "source": [
    "b = np.arange(24).reshape(2,3,4) "
   ]
  },
  {
   "cell_type": "code",
   "execution_count": 54,
   "metadata": {
    "collapsed": false
   },
   "outputs": [
    {
     "name": "stdout",
     "output_type": "stream",
     "text": [
      "[[[ 0  1  2  3]\n",
      "  [ 4  5  6  7]\n",
      "  [ 8  9 10 11]]\n",
      "\n",
      " [[12 13 14 15]\n",
      "  [16 17 18 19]\n",
      "  [20 21 22 23]]]\n"
     ]
    }
   ],
   "source": [
    "print b"
   ]
  },
  {
   "cell_type": "code",
   "execution_count": 55,
   "metadata": {
    "collapsed": false
   },
   "outputs": [
    {
     "name": "stdout",
     "output_type": "stream",
     "text": [
      "(2L, 3L, 4L)\n"
     ]
    }
   ],
   "source": [
    "print b.shape"
   ]
  },
  {
   "cell_type": "code",
   "execution_count": 56,
   "metadata": {
    "collapsed": false
   },
   "outputs": [
    {
     "name": "stdout",
     "output_type": "stream",
     "text": [
      "0\n"
     ]
    }
   ],
   "source": [
    "print b[0,0,0]"
   ]
  },
  {
   "cell_type": "code",
   "execution_count": 57,
   "metadata": {
    "collapsed": false
   },
   "outputs": [
    {
     "name": "stdout",
     "output_type": "stream",
     "text": [
      "[ 0 12]\n"
     ]
    }
   ],
   "source": [
    "print b[:,0,0] "
   ]
  },
  {
   "cell_type": "code",
   "execution_count": 58,
   "metadata": {
    "collapsed": false
   },
   "outputs": [
    {
     "name": "stdout",
     "output_type": "stream",
     "text": [
      "[[ 0  1  2  3]\n",
      " [ 4  5  6  7]\n",
      " [ 8  9 10 11]]\n"
     ]
    }
   ],
   "source": [
    "print b[0] "
   ]
  },
  {
   "cell_type": "code",
   "execution_count": 59,
   "metadata": {
    "collapsed": false
   },
   "outputs": [
    {
     "name": "stdout",
     "output_type": "stream",
     "text": [
      "[[ 0  1  2  3]\n",
      " [ 4  5  6  7]\n",
      " [ 8  9 10 11]]\n"
     ]
    }
   ],
   "source": [
    "print b[0, :, :] "
   ]
  },
  {
   "cell_type": "code",
   "execution_count": 60,
   "metadata": {
    "collapsed": false
   },
   "outputs": [
    {
     "name": "stdout",
     "output_type": "stream",
     "text": [
      "[[ 0  1  2  3]\n",
      " [ 4  5  6  7]\n",
      " [ 8  9 10 11]]\n"
     ]
    }
   ],
   "source": [
    "print b[0, ...]"
   ]
  },
  {
   "cell_type": "code",
   "execution_count": 61,
   "metadata": {
    "collapsed": false
   },
   "outputs": [
    {
     "name": "stdout",
     "output_type": "stream",
     "text": [
      "[4 5 6 7]\n"
     ]
    }
   ],
   "source": [
    "print b[0,1] "
   ]
  },
  {
   "cell_type": "code",
   "execution_count": 62,
   "metadata": {
    "collapsed": false
   },
   "outputs": [
    {
     "name": "stdout",
     "output_type": "stream",
     "text": [
      "[4 6]\n"
     ]
    }
   ],
   "source": [
    "print b[0,1,::2]  #数组切片中间隔地选定元素"
   ]
  },
  {
   "cell_type": "code",
   "execution_count": 63,
   "metadata": {
    "collapsed": false
   },
   "outputs": [
    {
     "name": "stdout",
     "output_type": "stream",
     "text": [
      "[[ 1  5  9]\n",
      " [13 17 21]]\n"
     ]
    }
   ],
   "source": [
    "print b[...,1]    #选取位于第2列的元素"
   ]
  },
  {
   "cell_type": "code",
   "execution_count": 64,
   "metadata": {
    "collapsed": false
   },
   "outputs": [
    {
     "name": "stdout",
     "output_type": "stream",
     "text": [
      "[[ 4  5  6  7]\n",
      " [16 17 18 19]]\n"
     ]
    }
   ],
   "source": [
    "print b[:,1]      #选取位于第2行的元素"
   ]
  },
  {
   "cell_type": "code",
   "execution_count": 65,
   "metadata": {
    "collapsed": false
   },
   "outputs": [
    {
     "name": "stdout",
     "output_type": "stream",
     "text": [
      "[1 5 9]\n"
     ]
    }
   ],
   "source": [
    "print b[0,:,1]    #选取第一单元第二列的元素"
   ]
  },
  {
   "cell_type": "code",
   "execution_count": 66,
   "metadata": {
    "collapsed": false
   },
   "outputs": [
    {
     "name": "stdout",
     "output_type": "stream",
     "text": [
      "[ 3  7 11]\n"
     ]
    }
   ],
   "source": [
    "print b[0,:,-1]   #选取第一单元最后一列元素"
   ]
  },
  {
   "cell_type": "code",
   "execution_count": 67,
   "metadata": {
    "collapsed": false
   },
   "outputs": [
    {
     "name": "stdout",
     "output_type": "stream",
     "text": [
      "[11  7  3]\n"
     ]
    }
   ],
   "source": [
    "print b[0,::-1, -1]  #反向选取第一单元最后一列元素"
   ]
  },
  {
   "cell_type": "code",
   "execution_count": 68,
   "metadata": {
    "collapsed": false
   },
   "outputs": [
    {
     "name": "stdout",
     "output_type": "stream",
     "text": [
      "[ 3 11]\n"
     ]
    }
   ],
   "source": [
    "print b[0,::2,-1]   #数组切片中间隔地选定元素"
   ]
  },
  {
   "cell_type": "code",
   "execution_count": 69,
   "metadata": {
    "collapsed": false
   },
   "outputs": [
    {
     "name": "stdout",
     "output_type": "stream",
     "text": [
      "[[[12 13 14 15]\n",
      "  [16 17 18 19]\n",
      "  [20 21 22 23]]\n",
      "\n",
      " [[ 0  1  2  3]\n",
      "  [ 4  5  6  7]\n",
      "  [ 8  9 10 11]]]\n"
     ]
    }
   ],
   "source": [
    "print b[::-1]     #翻转元素的顺序"
   ]
  },
  {
   "cell_type": "markdown",
   "metadata": {},
   "source": [
    "改变数组的维度"
   ]
  },
  {
   "cell_type": "code",
   "execution_count": 70,
   "metadata": {
    "collapsed": false
   },
   "outputs": [
    {
     "name": "stdout",
     "output_type": "stream",
     "text": [
      "[[[ 0  1  2  3]\n",
      "  [ 4  5  6  7]\n",
      "  [ 8  9 10 11]]\n",
      "\n",
      " [[12 13 14 15]\n",
      "  [16 17 18 19]\n",
      "  [20 21 22 23]]]\n"
     ]
    }
   ],
   "source": [
    "print b"
   ]
  },
  {
   "cell_type": "code",
   "execution_count": 71,
   "metadata": {
    "collapsed": false
   },
   "outputs": [
    {
     "name": "stdout",
     "output_type": "stream",
     "text": [
      "[ 0  1  2  3  4  5  6  7  8  9 10 11 12 13 14 15 16 17 18 19 20 21 22 23]\n"
     ]
    }
   ],
   "source": [
    "print b.ravel()  #数组展平"
   ]
  },
  {
   "cell_type": "code",
   "execution_count": 72,
   "metadata": {
    "collapsed": false
   },
   "outputs": [
    {
     "name": "stdout",
     "output_type": "stream",
     "text": [
      "[ 0  1  2  3  4  5  6  7  8  9 10 11 12 13 14 15 16 17 18 19 20 21 22 23]\n"
     ]
    }
   ],
   "source": [
    "print b.flatten()  #与ravel函数的功能相同,而flatten函数会请求分配内存来保存结果，而ravel函数只是返回数组的一个视图"
   ]
  },
  {
   "cell_type": "code",
   "execution_count": 73,
   "metadata": {
    "collapsed": false
   },
   "outputs": [
    {
     "name": "stdout",
     "output_type": "stream",
     "text": [
      "[[ 0  1  2  3]\n",
      " [ 4  5  6  7]\n",
      " [ 8  9 10 11]\n",
      " [12 13 14 15]\n",
      " [16 17 18 19]\n",
      " [20 21 22 23]]\n"
     ]
    }
   ],
   "source": [
    "b.shape = (6,4)  #用元组设置维度\n",
    "print b"
   ]
  },
  {
   "cell_type": "code",
   "execution_count": 74,
   "metadata": {
    "collapsed": false
   },
   "outputs": [
    {
     "name": "stdout",
     "output_type": "stream",
     "text": [
      "[[ 0  4  8 12 16 20]\n",
      " [ 1  5  9 13 17 21]\n",
      " [ 2  6 10 14 18 22]\n",
      " [ 3  7 11 15 19 23]]\n"
     ]
    }
   ],
   "source": [
    "print b.transpose()  #矩阵转置"
   ]
  },
  {
   "cell_type": "code",
   "execution_count": 75,
   "metadata": {
    "collapsed": false
   },
   "outputs": [
    {
     "name": "stdout",
     "output_type": "stream",
     "text": [
      "[[ 0  4  8 12 16 20]\n",
      " [ 1  5  9 13 17 21]\n",
      " [ 2  6 10 14 18 22]\n",
      " [ 3  7 11 15 19 23]]\n"
     ]
    }
   ],
   "source": [
    "print b.T  #矩阵转置"
   ]
  },
  {
   "cell_type": "code",
   "execution_count": 76,
   "metadata": {
    "collapsed": false
   },
   "outputs": [
    {
     "name": "stdout",
     "output_type": "stream",
     "text": [
      "[[ 0  1  2  3  4  5  6  7  8  9 10 11]\n",
      " [12 13 14 15 16 17 18 19 20 21 22 23]]\n"
     ]
    }
   ],
   "source": [
    "b.resize((2,12))  #和reshape函数的功能一样，但resize会直接修改所操作的数组\n",
    "print b"
   ]
  },
  {
   "cell_type": "markdown",
   "metadata": {},
   "source": [
    "组合数组"
   ]
  },
  {
   "cell_type": "code",
   "execution_count": 77,
   "metadata": {
    "collapsed": false
   },
   "outputs": [
    {
     "name": "stdout",
     "output_type": "stream",
     "text": [
      "[[0 1 2]\n",
      " [3 4 5]\n",
      " [6 7 8]]\n"
     ]
    }
   ],
   "source": [
    "a = np.arange(9).reshape(3,3)\n",
    "print a"
   ]
  },
  {
   "cell_type": "code",
   "execution_count": 78,
   "metadata": {
    "collapsed": false
   },
   "outputs": [
    {
     "name": "stdout",
     "output_type": "stream",
     "text": [
      "[[ 0  2  4]\n",
      " [ 6  8 10]\n",
      " [12 14 16]]\n"
     ]
    }
   ],
   "source": [
    "b = 2 * a\n",
    "print b"
   ]
  },
  {
   "cell_type": "code",
   "execution_count": 79,
   "metadata": {
    "collapsed": false
   },
   "outputs": [
    {
     "name": "stdout",
     "output_type": "stream",
     "text": [
      "[[ 0  1  2  0  2  4]\n",
      " [ 3  4  5  6  8 10]\n",
      " [ 6  7  8 12 14 16]]\n"
     ]
    }
   ],
   "source": [
    "print np.hstack((a, b))   #水平组合"
   ]
  },
  {
   "cell_type": "code",
   "execution_count": 80,
   "metadata": {
    "collapsed": false
   },
   "outputs": [
    {
     "name": "stdout",
     "output_type": "stream",
     "text": [
      "[[ 0  1  2  0  2  4]\n",
      " [ 3  4  5  6  8 10]\n",
      " [ 6  7  8 12 14 16]]\n"
     ]
    }
   ],
   "source": [
    "print np.concatenate((a, b), axis=1)   #水平组合"
   ]
  },
  {
   "cell_type": "code",
   "execution_count": 81,
   "metadata": {
    "collapsed": false
   },
   "outputs": [
    {
     "name": "stdout",
     "output_type": "stream",
     "text": [
      "[[ 0  1  2]\n",
      " [ 3  4  5]\n",
      " [ 6  7  8]\n",
      " [ 0  2  4]\n",
      " [ 6  8 10]\n",
      " [12 14 16]]\n"
     ]
    }
   ],
   "source": [
    "print np.vstack((a, b))  #垂直组合"
   ]
  },
  {
   "cell_type": "code",
   "execution_count": 82,
   "metadata": {
    "collapsed": false
   },
   "outputs": [
    {
     "name": "stdout",
     "output_type": "stream",
     "text": [
      "[[ 0  1  2]\n",
      " [ 3  4  5]\n",
      " [ 6  7  8]\n",
      " [ 0  2  4]\n",
      " [ 6  8 10]\n",
      " [12 14 16]]\n"
     ]
    }
   ],
   "source": [
    "print np.concatenate((a, b), axis = 0)  #垂直组合"
   ]
  },
  {
   "cell_type": "code",
   "execution_count": 83,
   "metadata": {
    "collapsed": false
   },
   "outputs": [
    {
     "name": "stdout",
     "output_type": "stream",
     "text": [
      "[[[ 0  0]\n",
      "  [ 1  2]\n",
      "  [ 2  4]]\n",
      "\n",
      " [[ 3  6]\n",
      "  [ 4  8]\n",
      "  [ 5 10]]\n",
      "\n",
      " [[ 6 12]\n",
      "  [ 7 14]\n",
      "  [ 8 16]]]\n"
     ]
    }
   ],
   "source": [
    "print np.dstack((a, b))  #深度组合，深度组合就是将一系列数组沿着纵轴（深度）方向进行层叠组合"
   ]
  },
  {
   "cell_type": "code",
   "execution_count": 84,
   "metadata": {
    "collapsed": false
   },
   "outputs": [
    {
     "name": "stdout",
     "output_type": "stream",
     "text": [
      "[0 1]\n"
     ]
    }
   ],
   "source": [
    "oned = np.arange(2)\n",
    "print oned"
   ]
  },
  {
   "cell_type": "code",
   "execution_count": 85,
   "metadata": {
    "collapsed": false
   },
   "outputs": [
    {
     "name": "stdout",
     "output_type": "stream",
     "text": [
      "[0 2]\n"
     ]
    }
   ],
   "source": [
    "twice_oned = 2 * oned\n",
    "print twice_oned"
   ]
  },
  {
   "cell_type": "code",
   "execution_count": 86,
   "metadata": {
    "collapsed": false
   },
   "outputs": [
    {
     "name": "stdout",
     "output_type": "stream",
     "text": [
      "[[0 0]\n",
      " [1 2]]\n"
     ]
    }
   ],
   "source": [
    "print np.column_stack((oned, twice_oned))   #列组合,对于一维数组将按列方向进行组合"
   ]
  },
  {
   "cell_type": "code",
   "execution_count": 87,
   "metadata": {
    "collapsed": false
   },
   "outputs": [
    {
     "name": "stdout",
     "output_type": "stream",
     "text": [
      "[[ 0  1  2  0  2  4]\n",
      " [ 3  4  5  6  8 10]\n",
      " [ 6  7  8 12 14 16]]\n"
     ]
    }
   ],
   "source": [
    "print np.column_stack((a, b)) "
   ]
  },
  {
   "cell_type": "code",
   "execution_count": 88,
   "metadata": {
    "collapsed": false
   },
   "outputs": [
    {
     "name": "stdout",
     "output_type": "stream",
     "text": [
      "[[ True  True  True  True  True  True]\n",
      " [ True  True  True  True  True  True]\n",
      " [ True  True  True  True  True  True]]\n"
     ]
    }
   ],
   "source": [
    "print np.column_stack((a, b)) == np.hstack((a, b))"
   ]
  },
  {
   "cell_type": "code",
   "execution_count": 89,
   "metadata": {
    "collapsed": false
   },
   "outputs": [
    {
     "name": "stdout",
     "output_type": "stream",
     "text": [
      "[[0 1]\n",
      " [0 2]]\n"
     ]
    }
   ],
   "source": [
    "print np.row_stack((oned, twice_oned))  #行组合，按行方向进行组合的函数"
   ]
  },
  {
   "cell_type": "code",
   "execution_count": 90,
   "metadata": {
    "collapsed": false
   },
   "outputs": [
    {
     "name": "stdout",
     "output_type": "stream",
     "text": [
      "[[ 0  1  2]\n",
      " [ 3  4  5]\n",
      " [ 6  7  8]\n",
      " [ 0  2  4]\n",
      " [ 6  8 10]\n",
      " [12 14 16]]\n"
     ]
    }
   ],
   "source": [
    "print np.row_stack((a, b))"
   ]
  },
  {
   "cell_type": "code",
   "execution_count": 91,
   "metadata": {
    "collapsed": false
   },
   "outputs": [
    {
     "name": "stdout",
     "output_type": "stream",
     "text": [
      "[[ True  True  True]\n",
      " [ True  True  True]\n",
      " [ True  True  True]\n",
      " [ True  True  True]\n",
      " [ True  True  True]\n",
      " [ True  True  True]]\n"
     ]
    }
   ],
   "source": [
    "print np.row_stack((a,b)) == np.vstack((a, b))"
   ]
  },
  {
   "cell_type": "markdown",
   "metadata": {},
   "source": [
    "分割数组"
   ]
  },
  {
   "cell_type": "code",
   "execution_count": 92,
   "metadata": {
    "collapsed": false
   },
   "outputs": [
    {
     "name": "stdout",
     "output_type": "stream",
     "text": [
      "[[0 1 2]\n",
      " [3 4 5]\n",
      " [6 7 8]]\n"
     ]
    }
   ],
   "source": [
    "print a"
   ]
  },
  {
   "cell_type": "code",
   "execution_count": 93,
   "metadata": {
    "collapsed": false
   },
   "outputs": [
    {
     "name": "stdout",
     "output_type": "stream",
     "text": [
      "[array([[0],\n",
      "       [3],\n",
      "       [6]]), array([[1],\n",
      "       [4],\n",
      "       [7]]), array([[2],\n",
      "       [5],\n",
      "       [8]])]\n"
     ]
    }
   ],
   "source": [
    "print np.hsplit(a, 3)  #水平分割,将把数组沿着水平方向分割为3个相同大小的子数组"
   ]
  },
  {
   "cell_type": "code",
   "execution_count": 94,
   "metadata": {
    "collapsed": false
   },
   "outputs": [
    {
     "name": "stdout",
     "output_type": "stream",
     "text": [
      "[array([[0],\n",
      "       [3],\n",
      "       [6]]), array([[1],\n",
      "       [4],\n",
      "       [7]]), array([[2],\n",
      "       [5],\n",
      "       [8]])]\n"
     ]
    }
   ],
   "source": [
    "print np.split(a, 3, axis=1)  #指定参数axis=1"
   ]
  },
  {
   "cell_type": "code",
   "execution_count": 95,
   "metadata": {
    "collapsed": false
   },
   "outputs": [
    {
     "name": "stdout",
     "output_type": "stream",
     "text": [
      "[[0 1 2]\n",
      " [3 4 5]\n",
      " [6 7 8]]\n",
      "[array([[0, 1, 2]]), array([[3, 4, 5]]), array([[6, 7, 8]])]\n"
     ]
    }
   ],
   "source": [
    "print a\n",
    "print np.vsplit(a, 3)  #垂直分割，将把数组沿着垂直方向分割"
   ]
  },
  {
   "cell_type": "code",
   "execution_count": 96,
   "metadata": {
    "collapsed": false
   },
   "outputs": [
    {
     "name": "stdout",
     "output_type": "stream",
     "text": [
      "[array([[0, 1, 2]]), array([[3, 4, 5]]), array([[6, 7, 8]])]\n"
     ]
    }
   ],
   "source": [
    "print np.split(a, 3, axis=0)  ##指定参数axis=0"
   ]
  },
  {
   "cell_type": "code",
   "execution_count": 97,
   "metadata": {
    "collapsed": false
   },
   "outputs": [
    {
     "name": "stdout",
     "output_type": "stream",
     "text": [
      "[[[ 0  1  2]\n",
      "  [ 3  4  5]\n",
      "  [ 6  7  8]]\n",
      "\n",
      " [[ 9 10 11]\n",
      "  [12 13 14]\n",
      "  [15 16 17]]\n",
      "\n",
      " [[18 19 20]\n",
      "  [21 22 23]\n",
      "  [24 25 26]]]\n"
     ]
    }
   ],
   "source": [
    "c = np.arange(27).reshape(3, 3, 3)\n",
    "print c"
   ]
  },
  {
   "cell_type": "code",
   "execution_count": 98,
   "metadata": {
    "collapsed": false
   },
   "outputs": [
    {
     "name": "stdout",
     "output_type": "stream",
     "text": [
      "[array([[[ 0],\n",
      "        [ 3],\n",
      "        [ 6]],\n",
      "\n",
      "       [[ 9],\n",
      "        [12],\n",
      "        [15]],\n",
      "\n",
      "       [[18],\n",
      "        [21],\n",
      "        [24]]]), array([[[ 1],\n",
      "        [ 4],\n",
      "        [ 7]],\n",
      "\n",
      "       [[10],\n",
      "        [13],\n",
      "        [16]],\n",
      "\n",
      "       [[19],\n",
      "        [22],\n",
      "        [25]]]), array([[[ 2],\n",
      "        [ 5],\n",
      "        [ 8]],\n",
      "\n",
      "       [[11],\n",
      "        [14],\n",
      "        [17]],\n",
      "\n",
      "       [[20],\n",
      "        [23],\n",
      "        [26]]])]\n"
     ]
    }
   ],
   "source": [
    "print np.dsplit(c, 3)  #深度分割，dsplit函数将按深度方向分割数组"
   ]
  },
  {
   "cell_type": "markdown",
   "metadata": {},
   "source": [
    "数组属性"
   ]
  },
  {
   "cell_type": "code",
   "execution_count": 99,
   "metadata": {
    "collapsed": false
   },
   "outputs": [
    {
     "name": "stdout",
     "output_type": "stream",
     "text": [
      "[[ 0  1  2  3  4  5  6  7  8  9 10 11]\n",
      " [12 13 14 15 16 17 18 19 20 21 22 23]]\n"
     ]
    }
   ],
   "source": [
    "b = np.arange(24).reshape(2,12)\n",
    "print b"
   ]
  },
  {
   "cell_type": "code",
   "execution_count": 100,
   "metadata": {
    "collapsed": false
   },
   "outputs": [
    {
     "name": "stdout",
     "output_type": "stream",
     "text": [
      "2\n"
     ]
    }
   ],
   "source": [
    "print b.ndim  #给出数组的维数，或数组轴的个数"
   ]
  },
  {
   "cell_type": "code",
   "execution_count": 101,
   "metadata": {
    "collapsed": false
   },
   "outputs": [
    {
     "name": "stdout",
     "output_type": "stream",
     "text": [
      "24\n"
     ]
    }
   ],
   "source": [
    "print b.size  #给出数组元素的总个数"
   ]
  },
  {
   "cell_type": "code",
   "execution_count": 102,
   "metadata": {
    "collapsed": false
   },
   "outputs": [
    {
     "name": "stdout",
     "output_type": "stream",
     "text": [
      "4\n"
     ]
    }
   ],
   "source": [
    "print b.itemsize  #给出数组中的元素在内存中所占的字节数"
   ]
  },
  {
   "cell_type": "code",
   "execution_count": 103,
   "metadata": {
    "collapsed": false
   },
   "outputs": [
    {
     "name": "stdout",
     "output_type": "stream",
     "text": [
      "96\n"
     ]
    }
   ],
   "source": [
    "print b.nbytes   #整个数组所占的存储空间,就是itemsize和size属性值的乘积"
   ]
  },
  {
   "cell_type": "code",
   "execution_count": 104,
   "metadata": {
    "collapsed": false
   },
   "outputs": [
    {
     "name": "stdout",
     "output_type": "stream",
     "text": [
      "[ 1.+1.j  3.+2.j]\n",
      "[ 1.  3.]\n",
      "[ 1.  2.]\n"
     ]
    }
   ],
   "source": [
    "b = np.array([1.j + 1, 2.j + 3])  #创建一个由复数构成的数组\n",
    "print b\n",
    "print b.real  #虚数实部\n",
    "print b.imag  #虚数虚部"
   ]
  },
  {
   "cell_type": "code",
   "execution_count": 105,
   "metadata": {
    "collapsed": false
   },
   "outputs": [
    {
     "name": "stdout",
     "output_type": "stream",
     "text": [
      "[[0 1]\n",
      " [2 3]]\n"
     ]
    }
   ],
   "source": [
    "b = np.arange(4).reshape(2,2) \n",
    "print b"
   ]
  },
  {
   "cell_type": "code",
   "execution_count": 106,
   "metadata": {
    "collapsed": false
   },
   "outputs": [
    {
     "name": "stdout",
     "output_type": "stream",
     "text": [
      "<numpy.flatiter object at 0x0000000003F6FF60>\n"
     ]
    }
   ],
   "source": [
    "f = b.flat  #flat属性将返回一个numpy.flatiter对象\n",
    "print f"
   ]
  },
  {
   "cell_type": "code",
   "execution_count": 107,
   "metadata": {
    "collapsed": false
   },
   "outputs": [
    {
     "name": "stdout",
     "output_type": "stream",
     "text": [
      "0\n",
      "1\n",
      "2\n",
      "3\n"
     ]
    }
   ],
   "source": [
    "for item in f:\n",
    "    print item"
   ]
  },
  {
   "cell_type": "code",
   "execution_count": 108,
   "metadata": {
    "collapsed": false
   },
   "outputs": [
    {
     "name": "stdout",
     "output_type": "stream",
     "text": [
      "2\n",
      "[1 3]\n"
     ]
    }
   ],
   "source": [
    "print b.flat[2]   #用flatiter对象直接获取一个数组元素\n",
    "print b.flat[[1,3]] "
   ]
  },
  {
   "cell_type": "code",
   "execution_count": 109,
   "metadata": {
    "collapsed": false
   },
   "outputs": [
    {
     "name": "stdout",
     "output_type": "stream",
     "text": [
      "[[0 1]\n",
      " [2 3]]\n",
      "********\n",
      "[[7 7]\n",
      " [7 7]]\n",
      "********\n",
      "[[7 1]\n",
      " [7 1]]\n"
     ]
    }
   ],
   "source": [
    "print b\n",
    "print '********'\n",
    "b.flat = 7  #flat属性是一个可赋值的属性。对flat属性赋值将导致整个数组的元素都被覆盖\n",
    "print b\n",
    "print '********'\n",
    "b.flat[[1,3]] = 1  \n",
    "print b"
   ]
  },
  {
   "cell_type": "markdown",
   "metadata": {},
   "source": [
    "数组转换"
   ]
  },
  {
   "cell_type": "code",
   "execution_count": 110,
   "metadata": {
    "collapsed": false
   },
   "outputs": [
    {
     "name": "stdout",
     "output_type": "stream",
     "text": [
      "[ 1.+1.j  3.+2.j]\n"
     ]
    }
   ],
   "source": [
    "b = np.array([ 1.+1.j, 3.+2.j]) \n",
    "print b"
   ]
  },
  {
   "cell_type": "code",
   "execution_count": 111,
   "metadata": {
    "collapsed": false
   },
   "outputs": [
    {
     "name": "stdout",
     "output_type": "stream",
     "text": [
      "[(1+1j), (3+2j)]\n"
     ]
    }
   ],
   "source": [
    "print b.tolist()   #数组转换成列表"
   ]
  },
  {
   "cell_type": "code",
   "execution_count": 112,
   "metadata": {
    "collapsed": false
   },
   "outputs": [
    {
     "name": "stdout",
     "output_type": "stream",
     "text": [
      "[1 3]\n"
     ]
    },
    {
     "name": "stderr",
     "output_type": "stream",
     "text": [
      "D:\\Anaconda2\\lib\\site-packages\\ipykernel\\__main__.py:1: ComplexWarning: Casting complex values to real discards the imaginary part\n",
      "  if __name__ == '__main__':\n"
     ]
    }
   ],
   "source": [
    "print b.astype(int)  #astype函数可以在转换数组时指定数据类型"
   ]
  },
  {
   "cell_type": "code",
   "execution_count": 113,
   "metadata": {
    "collapsed": false
   },
   "outputs": [
    {
     "name": "stdout",
     "output_type": "stream",
     "text": [
      "[ 1.+1.j  3.+2.j]\n"
     ]
    }
   ],
   "source": [
    "print b.astype('complex') "
   ]
  },
  {
   "cell_type": "markdown",
   "metadata": {},
   "source": [
    "读写文件"
   ]
  },
  {
   "cell_type": "code",
   "execution_count": 114,
   "metadata": {
    "collapsed": false
   },
   "outputs": [
    {
     "name": "stdout",
     "output_type": "stream",
     "text": [
      "[[ 1.  0.]\n",
      " [ 0.  1.]]\n"
     ]
    }
   ],
   "source": [
    "i2 = np.eye(2)  \n",
    "print i2 \n",
    "np.savetxt(\"eye.txt\", i2)"
   ]
  },
  {
   "cell_type": "markdown",
   "metadata": {},
   "source": [
    "数组的修剪和压缩"
   ]
  },
  {
   "cell_type": "code",
   "execution_count": 115,
   "metadata": {
    "collapsed": false
   },
   "outputs": [
    {
     "name": "stdout",
     "output_type": "stream",
     "text": [
      "a = [0 1 2 3 4]\n",
      "Clipped [1 1 2 2 2]\n"
     ]
    }
   ],
   "source": [
    "a = np.arange(5)  \n",
    "print \"a =\", a \n",
    "print \"Clipped\", a.clip(1, 2) #clip,将所有比给定最大值还大的元素全部设为给定的最大值，而所有比给定最小值还小的元素全部设为给定的最小值"
   ]
  },
  {
   "cell_type": "code",
   "execution_count": 116,
   "metadata": {
    "collapsed": false
   },
   "outputs": [
    {
     "name": "stdout",
     "output_type": "stream",
     "text": [
      "[0 1 2 3]\n",
      "Compressed [3]\n"
     ]
    }
   ],
   "source": [
    "a = np.arange(4)  \n",
    "print a \n",
    "print \"Compressed\", a.compress(a > 2)   # compress方法返回一个根据给定条件筛选后的数组"
   ]
  },
  {
   "cell_type": "markdown",
   "metadata": {},
   "source": [
    "计算阶乘 "
   ]
  },
  {
   "cell_type": "code",
   "execution_count": 117,
   "metadata": {
    "collapsed": false
   },
   "outputs": [
    {
     "name": "stdout",
     "output_type": "stream",
     "text": [
      "b = [1 2 3 4 5 6 7 8]\n",
      "Factorial 40320\n"
     ]
    }
   ],
   "source": [
    "b = np.arange(1, 9) \n",
    "print \"b =\", b \n",
    "print \"Factorial\", b.prod()   #计算8的阶乘"
   ]
  },
  {
   "cell_type": "code",
   "execution_count": 118,
   "metadata": {
    "collapsed": false
   },
   "outputs": [
    {
     "name": "stdout",
     "output_type": "stream",
     "text": [
      "Factorials [    1     2     6    24   120   720  5040 40320]\n"
     ]
    }
   ],
   "source": [
    "print \"Factorials\", b.cumprod()  #调用cumprod方法，计算数组元素的累积乘积"
   ]
  },
  {
   "cell_type": "markdown",
   "metadata": {},
   "source": [
    "### Array indexing/数组取值"
   ]
  },
  {
   "cell_type": "markdown",
   "metadata": {},
   "source": [
    "Numpy提供了蛮多种取值的方式的."
   ]
  },
  {
   "cell_type": "markdown",
   "metadata": {},
   "source": [
    "可以像list一样切片（多维数组可以从各个维度同时切片）:"
   ]
  },
  {
   "cell_type": "code",
   "execution_count": 119,
   "metadata": {
    "collapsed": false
   },
   "outputs": [
    {
     "name": "stdout",
     "output_type": "stream",
     "text": [
      "[[2 3]\n",
      " [6 7]]\n"
     ]
    }
   ],
   "source": [
    "import numpy as np\n",
    "\n",
    "# 创建一个如下格式的3x4数组\n",
    "# [[ 1  2  3  4]\n",
    "#  [ 5  6  7  8]\n",
    "#  [ 9 10 11 12]]\n",
    "a = np.array([[1,2,3,4], [5,6,7,8], [9,10,11,12]])\n",
    "\n",
    "# 在两个维度上分别按照[:2]和[1:3]进行切片，取需要的部分\n",
    "# [[2 3]\n",
    "#  [6 7]]\n",
    "b = a[:2, 1:3]\n",
    "print b"
   ]
  },
  {
   "cell_type": "markdown",
   "metadata": {},
   "source": [
    "虽然，怎么说呢，不建议你这样去赋值，但是你确实可以修改切片出来的对象，然后完成对原数组的赋值."
   ]
  },
  {
   "cell_type": "code",
   "execution_count": 120,
   "metadata": {
    "collapsed": false
   },
   "outputs": [
    {
     "name": "stdout",
     "output_type": "stream",
     "text": [
      "2\n",
      "77\n"
     ]
    }
   ],
   "source": [
    "print a[0, 1]  \n",
    "b[0, 0] = 77    # b[0, 0]改了，很遗憾a[0, 1]也被修改了\n",
    "print a[0, 1] "
   ]
  },
  {
   "cell_type": "code",
   "execution_count": 121,
   "metadata": {
    "collapsed": false
   },
   "outputs": [
    {
     "name": "stdout",
     "output_type": "stream",
     "text": [
      "[[ 1  2  3  4]\n",
      " [ 5  6  7  8]\n",
      " [ 9 10 11 12]]\n"
     ]
    }
   ],
   "source": [
    "# 创建3x4的2维数组/矩阵\n",
    "a = np.array([[1,2,3,4], [5,6,7,8], [9,10,11,12]])\n",
    "print a"
   ]
  },
  {
   "cell_type": "markdown",
   "metadata": {},
   "source": [
    "你就放心大胆地去取你想要的数咯:"
   ]
  },
  {
   "cell_type": "code",
   "execution_count": 122,
   "metadata": {
    "collapsed": false
   },
   "outputs": [
    {
     "name": "stdout",
     "output_type": "stream",
     "text": [
      "[5 6 7 8] (4L,)\n",
      "[[5 6 7 8]] (1L, 4L)\n",
      "[[5 6 7 8]] (1L, 4L)\n"
     ]
    }
   ],
   "source": [
    "row_r1 = a[1, :]    # 第2行，但是得到的是1维输出（列向量）\n",
    "row_r2 = a[1:2, :]  # 1x2的2维输出\n",
    "row_r3 = a[[1], :]  # 同上\n",
    "print row_r1, row_r1.shape \n",
    "print row_r2, row_r2.shape\n",
    "print row_r3, row_r3.shape"
   ]
  },
  {
   "cell_type": "code",
   "execution_count": 123,
   "metadata": {
    "collapsed": false
   },
   "outputs": [
    {
     "name": "stdout",
     "output_type": "stream",
     "text": [
      "[ 2  6 10] (3L,)\n",
      "\n",
      "[[ 2]\n",
      " [ 6]\n",
      " [10]] (3L, 1L)\n"
     ]
    }
   ],
   "source": [
    "# 试试在第2个维度上切片也一样的:\n",
    "col_r1 = a[:, 1]\n",
    "col_r2 = a[:, 1:2]\n",
    "print col_r1, col_r1.shape\n",
    "print\n",
    "print col_r2, col_r2.shape"
   ]
  },
  {
   "cell_type": "markdown",
   "metadata": {},
   "source": [
    "下面这个高级了，更自由地取值和组合，但是要看清楚一点:"
   ]
  },
  {
   "cell_type": "code",
   "execution_count": 124,
   "metadata": {
    "collapsed": false
   },
   "outputs": [
    {
     "name": "stdout",
     "output_type": "stream",
     "text": [
      "[1 4 5]\n",
      "[1 4 5]\n"
     ]
    }
   ],
   "source": [
    "a = np.array([[1,2], [3, 4], [5, 6]])\n",
    "\n",
    "# 其实意思就是取(0,0),(1,1),(2,0)的元素组起来\n",
    "print a[[0, 1, 2], [0, 1, 0]]\n",
    "\n",
    "# 下面这个比较直白啦\n",
    "print np.array([a[0, 0], a[1, 1], a[2, 0]])"
   ]
  },
  {
   "cell_type": "code",
   "execution_count": 125,
   "metadata": {
    "collapsed": false
   },
   "outputs": [
    {
     "name": "stdout",
     "output_type": "stream",
     "text": [
      "[2 2]\n",
      "[2 2]\n"
     ]
    }
   ],
   "source": [
    "# 再来试试\n",
    "print a[[0, 0], [1, 1]]\n",
    "\n",
    "# 还是一样\n",
    "print np.array([a[0, 1], a[0, 1]])"
   ]
  },
  {
   "cell_type": "code",
   "execution_count": 126,
   "metadata": {
    "collapsed": false
   },
   "outputs": [
    {
     "name": "stdout",
     "output_type": "stream",
     "text": [
      "[[ 1  2  3]\n",
      " [ 4  5  6]\n",
      " [ 7  8  9]\n",
      " [10 11 12]]\n"
     ]
    }
   ],
   "source": [
    "# 再来熟悉一下\n",
    "# 先创建一个2维数组\n",
    "a = np.array([[1,2,3], [4,5,6], [7,8,9], [10, 11, 12]])\n",
    "print a"
   ]
  },
  {
   "cell_type": "code",
   "execution_count": 127,
   "metadata": {
    "collapsed": false,
    "scrolled": true
   },
   "outputs": [
    {
     "name": "stdout",
     "output_type": "stream",
     "text": [
      "[ 1  6  7 11]\n"
     ]
    }
   ],
   "source": [
    "# 用下标生成一个向量\n",
    "b = np.array([0, 2, 0, 1])\n",
    "\n",
    "# 你能看明白下面做的事情吗？\n",
    "print a[np.arange(4), b]  # Prints \"[ 1  6  7 11]\""
   ]
  },
  {
   "cell_type": "code",
   "execution_count": 128,
   "metadata": {
    "collapsed": false
   },
   "outputs": [
    {
     "name": "stdout",
     "output_type": "stream",
     "text": [
      "[[11  2  3]\n",
      " [ 4  5 16]\n",
      " [17  8  9]\n",
      " [10 21 12]]\n"
     ]
    }
   ],
   "source": [
    "# 既然可以取出来，我们当然可以对这些元素操作咯\n",
    "a[np.arange(4), b] += 10\n",
    "print a"
   ]
  },
  {
   "cell_type": "markdown",
   "metadata": {},
   "source": [
    "比较fashion的取法之一，用条件判定去取（但是很好用）:"
   ]
  },
  {
   "cell_type": "code",
   "execution_count": 129,
   "metadata": {
    "collapsed": false
   },
   "outputs": [
    {
     "name": "stdout",
     "output_type": "stream",
     "text": [
      "[[False False]\n",
      " [ True  True]\n",
      " [ True  True]]\n"
     ]
    }
   ],
   "source": [
    "import numpy as np\n",
    "\n",
    "a = np.array([[1,2], [3, 4], [5, 6]])\n",
    "\n",
    "bool_idx = (a > 2)  # 就是判定一下是否大于2\n",
    "\n",
    "print bool_idx  # 返回一个布尔型的3x2数组"
   ]
  },
  {
   "cell_type": "code",
   "execution_count": 130,
   "metadata": {
    "collapsed": false
   },
   "outputs": [
    {
     "name": "stdout",
     "output_type": "stream",
     "text": [
      "[3 4 5 6]\n",
      "[3 4 5 6]\n"
     ]
    }
   ],
   "source": [
    "# 用刚才的布尔型数组作为下标就可以去除符合条件的元素啦\n",
    "print a[bool_idx]\n",
    "\n",
    "# 其实一句话也可以完成是不是？\n",
    "print a[a > 2]"
   ]
  },
  {
   "cell_type": "markdown",
   "metadata": {},
   "source": [
    "那个，真的，其实还有很多细节，其他的方式去取值，你可以看看官方文档。"
   ]
  },
  {
   "cell_type": "markdown",
   "metadata": {},
   "source": [
    "我们一起来来总结一下，看下面切片取值方式（对应颜色是取出来的结果）："
   ]
  },
  {
   "cell_type": "markdown",
   "metadata": {},
   "source": [
    "![](http://old.sebug.net/paper/books/scipydoc/_images/numpy_intro_02.png)\n",
    "![](http://old.sebug.net/paper/books/scipydoc/_images/numpy_intro_03.png)"
   ]
  },
  {
   "cell_type": "markdown",
   "metadata": {},
   "source": [
    "矩阵"
   ]
  },
  {
   "cell_type": "code",
   "execution_count": 131,
   "metadata": {
    "collapsed": false
   },
   "outputs": [
    {
     "name": "stdout",
     "output_type": "stream",
     "text": [
      "Creation from string\n",
      "[[1 2 3]\n",
      " [4 5 6]\n",
      " [7 8 9]]\n"
     ]
    }
   ],
   "source": [
    "A = np.mat('1 2 3; 4 5 6; 7 8 9')   #调用mat函数创建矩阵\n",
    "print \"Creation from string\\n\", A "
   ]
  },
  {
   "cell_type": "code",
   "execution_count": 132,
   "metadata": {
    "collapsed": false
   },
   "outputs": [
    {
     "name": "stdout",
     "output_type": "stream",
     "text": [
      "transpose A\n",
      "[[1 4 7]\n",
      " [2 5 8]\n",
      " [3 6 9]]\n"
     ]
    }
   ],
   "source": [
    "print \"transpose A\\n\", A.T   #用T属性获取转置矩阵"
   ]
  },
  {
   "cell_type": "code",
   "execution_count": 133,
   "metadata": {
    "collapsed": false
   },
   "outputs": [
    {
     "name": "stdout",
     "output_type": "stream",
     "text": [
      "Inverse A\n",
      "[[ -4.50359963e+15   9.00719925e+15  -4.50359963e+15]\n",
      " [  9.00719925e+15  -1.80143985e+16   9.00719925e+15]\n",
      " [ -4.50359963e+15   9.00719925e+15  -4.50359963e+15]]\n"
     ]
    }
   ],
   "source": [
    "print \"Inverse A\\n\", A.I   #用I属性获取逆矩阵"
   ]
  },
  {
   "cell_type": "code",
   "execution_count": 134,
   "metadata": {
    "collapsed": false
   },
   "outputs": [
    {
     "name": "stdout",
     "output_type": "stream",
     "text": [
      "Creation from array\n",
      "[[0 1 2]\n",
      " [3 4 5]\n",
      " [6 7 8]]\n"
     ]
    }
   ],
   "source": [
    "print \"Creation from array\\n\", np.mat(np.arange(9).reshape(3, 3))   #使用NumPy数组进行创建矩阵"
   ]
  },
  {
   "cell_type": "code",
   "execution_count": 135,
   "metadata": {
    "collapsed": false
   },
   "outputs": [
    {
     "name": "stdout",
     "output_type": "stream",
     "text": [
      "A\n",
      "[[ 1.  0.]\n",
      " [ 0.  1.]]\n"
     ]
    }
   ],
   "source": [
    "A = np.eye(2)  \n",
    "print \"A\\n\", A "
   ]
  },
  {
   "cell_type": "code",
   "execution_count": 136,
   "metadata": {
    "collapsed": false
   },
   "outputs": [
    {
     "name": "stdout",
     "output_type": "stream",
     "text": [
      "B\n",
      "[[ 2.  0.]\n",
      " [ 0.  2.]]\n"
     ]
    }
   ],
   "source": [
    "B = 2 * A  \n",
    "print \"B\\n\", B "
   ]
  },
  {
   "cell_type": "code",
   "execution_count": 137,
   "metadata": {
    "collapsed": false
   },
   "outputs": [
    {
     "name": "stdout",
     "output_type": "stream",
     "text": [
      "Compound matrix\n",
      "[[ 1.  0.  2.  0.]\n",
      " [ 0.  1.  0.  2.]\n",
      " [ 1.  0.  2.  0.]\n",
      " [ 0.  1.  0.  2.]]\n"
     ]
    }
   ],
   "source": [
    "print \"Compound matrix\\n\", np.bmat(\"A B; A B\")   #使用字符串创建复合矩阵"
   ]
  },
  {
   "cell_type": "raw",
   "metadata": {},
   "source": [
    "逆矩阵"
   ]
  },
  {
   "cell_type": "code",
   "execution_count": 138,
   "metadata": {
    "collapsed": false
   },
   "outputs": [
    {
     "name": "stdout",
     "output_type": "stream",
     "text": [
      "A\n",
      "[[ 0  1  2]\n",
      " [ 1  0  3]\n",
      " [ 4 -3  8]]\n"
     ]
    }
   ],
   "source": [
    "A = np.mat(\"0 1 2;1 0 3;4 -3 8\")  \n",
    "print \"A\\n\", A"
   ]
  },
  {
   "cell_type": "code",
   "execution_count": 139,
   "metadata": {
    "collapsed": false
   },
   "outputs": [
    {
     "name": "stdout",
     "output_type": "stream",
     "text": [
      "inverse of A\n",
      "[[-4.5  7.  -1.5]\n",
      " [-2.   4.  -1. ]\n",
      " [ 1.5 -2.   0.5]]\n"
     ]
    }
   ],
   "source": [
    "inverse = np.linalg.inv(A)  \n",
    "print \"inverse of A\\n\", inverse   #求矩阵的逆"
   ]
  },
  {
   "cell_type": "code",
   "execution_count": 140,
   "metadata": {
    "collapsed": false,
    "scrolled": true
   },
   "outputs": [
    {
     "name": "stdout",
     "output_type": "stream",
     "text": [
      "Check\n",
      "[[ 1.  0.  0.]\n",
      " [ 0.  1.  0.]\n",
      " [ 0.  0.  1.]]\n"
     ]
    }
   ],
   "source": [
    "print \"Check\\n\", A * inverse   #逆矩阵的检验"
   ]
  },
  {
   "cell_type": "markdown",
   "metadata": {},
   "source": [
    "在 add 上调用通用函数的方法"
   ]
  },
  {
   "cell_type": "code",
   "execution_count": 141,
   "metadata": {
    "collapsed": false
   },
   "outputs": [
    {
     "name": "stdout",
     "output_type": "stream",
     "text": [
      "Reduce 36\n"
     ]
    }
   ],
   "source": [
    "a = np.arange(9) \n",
    "print \"Reduce\", np.add.reduce(a)   #其对数组的reduce计算结果等价于对数组元素求和"
   ]
  },
  {
   "cell_type": "code",
   "execution_count": 142,
   "metadata": {
    "collapsed": false
   },
   "outputs": [
    {
     "name": "stdout",
     "output_type": "stream",
     "text": [
      "Accumulate [ 0  1  3  6 10 15 21 28 36]\n"
     ]
    }
   ],
   "source": [
    "print \"Accumulate\", np.add.accumulate(a)  #同样可以递归作用于输入数组,与reduce方法不同的是，它将存储运算的中间结果并返回"
   ]
  },
  {
   "cell_type": "code",
   "execution_count": 143,
   "metadata": {
    "collapsed": false
   },
   "outputs": [
    {
     "name": "stdout",
     "output_type": "stream",
     "text": [
      "Reduceat [10  5 20 15]\n"
     ]
    }
   ],
   "source": [
    "print \"Reduceat\", np.add.reduceat(a, [0, 5, 2, 7]) "
   ]
  },
  {
   "cell_type": "markdown",
   "metadata": {},
   "source": [
    "Reduceat [10 5 20 15] \n",
    "第一步用到索引值列表中的0和5，实际上就是对数组中索引值在0到5之间的元素进行reduce\n",
    "操作。 \n",
    "print \"Reduceat step I\", np.add.reduce(a[0:5]) \n",
    "第一步的输出如下：  \n",
    "Reduceat step I 10 \n",
    "第二步用到索引值5和2。由于2比5小，所以直接返回索引值为5的元素：  \n",
    "print \"Reduceat step II\", a[5] \n",
    "第二步的结果如下：  \n",
    "Reduceat step II 5 \n",
    "第三步用到索引值2和7。这一步是对索引值在2到7之间的数组元素进行reduce操作：  \n",
    "print \"Reduceat step III\", np.add.reduce(a[2:7]) \n",
    "第三步的结果如下：  \n",
    "Reduceat step III 20 \n",
    "第四步用到索引值7。这一步是对索引值从7开始直到数组末端的元素进行reduce操作：  \n",
    "print \"Reduceat step IV\", np.add.reduce(a[7:]) \n",
    "第四步的结果如下：  \n",
    "Reduceat step IV 15 "
   ]
  },
  {
   "cell_type": "code",
   "execution_count": 144,
   "metadata": {
    "collapsed": false
   },
   "outputs": [
    {
     "name": "stdout",
     "output_type": "stream",
     "text": [
      "Outer\n",
      "[[ 0  1  2  3  4  5  6  7  8]\n",
      " [ 1  2  3  4  5  6  7  8  9]\n",
      " [ 2  3  4  5  6  7  8  9 10]]\n"
     ]
    }
   ],
   "source": [
    "print \"Outer\\n\", np.add.outer(np.arange(3), a)   # outer方法返回一个数组，它的秩（rank）等于两个输入数组的秩的和"
   ]
  },
  {
   "cell_type": "markdown",
   "metadata": {},
   "source": [
    "### Datatypes"
   ]
  },
  {
   "cell_type": "markdown",
   "metadata": {},
   "source": [
    "我们可以用dtype来看numpy数组中元素的类型:"
   ]
  },
  {
   "cell_type": "code",
   "execution_count": 145,
   "metadata": {
    "collapsed": false
   },
   "outputs": [
    {
     "name": "stdout",
     "output_type": "stream",
     "text": [
      "int32 float64 int64\n"
     ]
    }
   ],
   "source": [
    "x = np.array([1, 2])  # numpy构建数组的时候自己会确定类型\n",
    "y = np.array([1.0, 2.0])\n",
    "z = np.array([1, 2], dtype=np.int64)# 指定用int64构建\n",
    "\n",
    "print x.dtype, y.dtype, z.dtype"
   ]
  },
  {
   "cell_type": "markdown",
   "metadata": {},
   "source": [
    "更多的内容可以读读[文档](http://docs.scipy.org/doc/numpy/reference/arrays.dtypes.html)."
   ]
  },
  {
   "cell_type": "markdown",
   "metadata": {},
   "source": [
    "### 数学运算"
   ]
  },
  {
   "cell_type": "markdown",
   "metadata": {},
   "source": [
    "下面这些运算才是你在科学运算中经常经常会用到的，比如逐个元素的运算如下:"
   ]
  },
  {
   "cell_type": "code",
   "execution_count": 146,
   "metadata": {
    "collapsed": false
   },
   "outputs": [
    {
     "name": "stdout",
     "output_type": "stream",
     "text": [
      "[[  6.   8.]\n",
      " [ 10.  12.]]\n",
      "[[  6.   8.]\n",
      " [ 10.  12.]]\n"
     ]
    }
   ],
   "source": [
    "x = np.array([[1,2],[3,4]], dtype=np.float64)\n",
    "y = np.array([[5,6],[7,8]], dtype=np.float64)\n",
    "\n",
    "# 逐元素求和有下面2种方式\n",
    "print x + y\n",
    "print np.add(x, y)"
   ]
  },
  {
   "cell_type": "code",
   "execution_count": 147,
   "metadata": {
    "collapsed": false
   },
   "outputs": [
    {
     "name": "stdout",
     "output_type": "stream",
     "text": [
      "[[-4. -4.]\n",
      " [-4. -4.]]\n",
      "[[-4. -4.]\n",
      " [-4. -4.]]\n"
     ]
    }
   ],
   "source": [
    "# 逐元素作差\n",
    "print x - y\n",
    "print np.subtract(x, y)"
   ]
  },
  {
   "cell_type": "code",
   "execution_count": 148,
   "metadata": {
    "collapsed": false
   },
   "outputs": [
    {
     "name": "stdout",
     "output_type": "stream",
     "text": [
      "[[  5.  12.]\n",
      " [ 21.  32.]]\n",
      "[[  5.  12.]\n",
      " [ 21.  32.]]\n"
     ]
    }
   ],
   "source": [
    "# 逐元素相乘\n",
    "print x * y\n",
    "print np.multiply(x, y)"
   ]
  },
  {
   "cell_type": "code",
   "execution_count": 149,
   "metadata": {
    "collapsed": false
   },
   "outputs": [
    {
     "name": "stdout",
     "output_type": "stream",
     "text": [
      "[[ 0.2         0.33333333]\n",
      " [ 0.42857143  0.5       ]]\n",
      "[[ 0.2         0.33333333]\n",
      " [ 0.42857143  0.5       ]]\n"
     ]
    }
   ],
   "source": [
    "# 逐元素相除\n",
    "# [[ 0.2         0.33333333]\n",
    "#  [ 0.42857143  0.5       ]]\n",
    "print x / y\n",
    "print np.divide(x, y)"
   ]
  },
  {
   "cell_type": "code",
   "execution_count": 150,
   "metadata": {
    "collapsed": false
   },
   "outputs": [
    {
     "name": "stdout",
     "output_type": "stream",
     "text": [
      "[[ 1.          1.41421356]\n",
      " [ 1.73205081  2.        ]]\n"
     ]
    }
   ],
   "source": [
    "# 逐元素求平方根！！！\n",
    "# [[ 1.          1.41421356]\n",
    "#  [ 1.73205081  2.        ]]\n",
    "print np.sqrt(x)"
   ]
  },
  {
   "cell_type": "code",
   "execution_count": 151,
   "metadata": {
    "collapsed": false
   },
   "outputs": [
    {
     "name": "stdout",
     "output_type": "stream",
     "text": [
      "[0 1]\n"
     ]
    }
   ],
   "source": [
    "print np.remainder([4, 7], [2, 3])  #模运算"
   ]
  },
  {
   "cell_type": "code",
   "execution_count": 152,
   "metadata": {
    "collapsed": false
   },
   "outputs": [
    {
     "name": "stdout",
     "output_type": "stream",
     "text": [
      "[0 1 2 3 4 0 1]\n"
     ]
    }
   ],
   "source": [
    "print np.remainder(np.arange(7), 5)  #求余数，相当于mod"
   ]
  },
  {
   "cell_type": "code",
   "execution_count": 153,
   "metadata": {
    "collapsed": false
   },
   "outputs": [
    {
     "name": "stdout",
     "output_type": "stream",
     "text": [
      "[0 1 2 3 4 0 1]\n"
     ]
    }
   ],
   "source": [
    "print np.arange(7) % 5   #模运算"
   ]
  },
  {
   "cell_type": "code",
   "execution_count": 154,
   "metadata": {
    "collapsed": false
   },
   "outputs": [
    {
     "name": "stdout",
     "output_type": "stream",
     "text": [
      "[1 0 1 1 0 1]\n"
     ]
    }
   ],
   "source": [
    "print np.mod([-3, -2, -1, 1, 2, 3], 2)  #余数的符号与除数一致"
   ]
  },
  {
   "cell_type": "code",
   "execution_count": 155,
   "metadata": {
    "collapsed": false
   },
   "outputs": [
    {
     "name": "stdout",
     "output_type": "stream",
     "text": [
      "[-1  0 -1 -1  0 -1]\n"
     ]
    }
   ],
   "source": [
    "print np.mod([-3, -2, -1, 1, 2, 3], -2)"
   ]
  },
  {
   "cell_type": "code",
   "execution_count": 156,
   "metadata": {
    "collapsed": false
   },
   "outputs": [
    {
     "name": "stdout",
     "output_type": "stream",
     "text": [
      "[-1  0 -1  1  0  1]\n"
     ]
    }
   ],
   "source": [
    "print np.fmod([-3, -2, -1, 1, 2, 3], 2)  ##余数的符号与被除数一致"
   ]
  },
  {
   "cell_type": "code",
   "execution_count": 157,
   "metadata": {
    "collapsed": false
   },
   "outputs": [
    {
     "name": "stdout",
     "output_type": "stream",
     "text": [
      "[ 0.   1.   2.5  4.   1.5]\n"
     ]
    }
   ],
   "source": [
    "print np.convolve([1, 2, 3], [0, 1, 0.5])  #卷积运算"
   ]
  },
  {
   "cell_type": "code",
   "execution_count": 158,
   "metadata": {
    "collapsed": false
   },
   "outputs": [
    {
     "name": "stdout",
     "output_type": "stream",
     "text": [
      "[ 1.   2.5  4. ]\n"
     ]
    }
   ],
   "source": [
    "print np.convolve([1,2,3],[0,1,0.5], 'same')"
   ]
  },
  {
   "cell_type": "code",
   "execution_count": 159,
   "metadata": {
    "collapsed": false
   },
   "outputs": [
    {
     "name": "stdout",
     "output_type": "stream",
     "text": [
      "[ 2.5]\n"
     ]
    }
   ],
   "source": [
    "print np.convolve([1,2,3],[0,1,0.5], 'valid')"
   ]
  },
  {
   "cell_type": "code",
   "execution_count": 160,
   "metadata": {
    "collapsed": false
   },
   "outputs": [
    {
     "name": "stdout",
     "output_type": "stream",
     "text": [
      "[2 5 4]\n"
     ]
    }
   ],
   "source": [
    "print np.maximum([2, 3, 4], [1, 5, 2])  #最大值，即每一列最大值"
   ]
  },
  {
   "cell_type": "code",
   "execution_count": 161,
   "metadata": {
    "collapsed": false
   },
   "outputs": [
    {
     "name": "stdout",
     "output_type": "stream",
     "text": [
      "[[ 1.   2. ]\n",
      " [ 0.5  2. ]]\n"
     ]
    }
   ],
   "source": [
    "print np.maximum(np.eye(2), [0.5, 2]) # broadcasting"
   ]
  },
  {
   "cell_type": "code",
   "execution_count": 162,
   "metadata": {
    "collapsed": false
   },
   "outputs": [
    {
     "name": "stdout",
     "output_type": "stream",
     "text": [
      "[1 3 2]\n"
     ]
    }
   ],
   "source": [
    "print np.minimum([2, 3, 4], [1, 5, 2])  #最小值"
   ]
  },
  {
   "cell_type": "code",
   "execution_count": 163,
   "metadata": {
    "collapsed": false
   },
   "outputs": [
    {
     "name": "stdout",
     "output_type": "stream",
     "text": [
      "[[ 0.5  0. ]\n",
      " [ 0.   1. ]]\n"
     ]
    }
   ],
   "source": [
    "print np.minimum(np.eye(2), [0.5, 2]) # broadcasting"
   ]
  },
  {
   "cell_type": "markdown",
   "metadata": {},
   "source": [
    "复数运算"
   ]
  },
  {
   "cell_type": "code",
   "execution_count": 164,
   "metadata": {
    "collapsed": false
   },
   "outputs": [
    {
     "name": "stdout",
     "output_type": "stream",
     "text": [
      "[ 0.          1.57079633  0.78539816]\n"
     ]
    }
   ],
   "source": [
    "print np.angle([1.0, 1.0j, 1+1j])  # in radians"
   ]
  },
  {
   "cell_type": "code",
   "execution_count": 165,
   "metadata": {
    "collapsed": false
   },
   "outputs": [
    {
     "name": "stdout",
     "output_type": "stream",
     "text": [
      "45.0\n"
     ]
    }
   ],
   "source": [
    "print np.angle(1+1j, deg=True)     # in degrees"
   ]
  },
  {
   "cell_type": "code",
   "execution_count": 166,
   "metadata": {
    "collapsed": false
   },
   "outputs": [
    {
     "name": "stdout",
     "output_type": "stream",
     "text": [
      "[ 1.  3.  5.] [ 2.  4.  6.]\n"
     ]
    }
   ],
   "source": [
    "a = np.array([1+2j, 3+4j, 5+6j])\n",
    "print a.real, a.imag    #实部和虚部"
   ]
  },
  {
   "cell_type": "code",
   "execution_count": 167,
   "metadata": {
    "collapsed": false
   },
   "outputs": [
    {
     "name": "stdout",
     "output_type": "stream",
     "text": [
      "[ 9.+10.j  9.+10.j  9.+10.j]\n"
     ]
    }
   ],
   "source": [
    "a.real = 9\n",
    "a.imag = 10\n",
    "print a"
   ]
  },
  {
   "cell_type": "code",
   "execution_count": 168,
   "metadata": {
    "collapsed": false
   },
   "outputs": [
    {
     "name": "stdout",
     "output_type": "stream",
     "text": [
      "[ 9.+6.j  8.+5.j  7.+4.j]\n"
     ]
    }
   ],
   "source": [
    "a.real = np.array([9, 8, 7])\n",
    "a.imag = np.array([6, 5, 4])\n",
    "print a"
   ]
  },
  {
   "cell_type": "code",
   "execution_count": 169,
   "metadata": {
    "collapsed": false
   },
   "outputs": [
    {
     "name": "stdout",
     "output_type": "stream",
     "text": [
      "(1-2j)\n"
     ]
    }
   ],
   "source": [
    "print np.conjugate(1+2j)  #共轭复数"
   ]
  },
  {
   "cell_type": "code",
   "execution_count": 170,
   "metadata": {
    "collapsed": false
   },
   "outputs": [
    {
     "name": "stdout",
     "output_type": "stream",
     "text": [
      "[[ 1.-1.j  0.-0.j]\n",
      " [ 0.-0.j  1.-1.j]]\n"
     ]
    }
   ],
   "source": [
    "x = np.eye(2) + 1j * np.eye(2)\n",
    "print np.conjugate(x)"
   ]
  },
  {
   "cell_type": "markdown",
   "metadata": {},
   "source": [
    "那如果我要做矩阵的乘法运算怎么办！！！恩，别着急，照着下面写就可以了:"
   ]
  },
  {
   "cell_type": "code",
   "execution_count": 171,
   "metadata": {
    "collapsed": false
   },
   "outputs": [
    {
     "name": "stdout",
     "output_type": "stream",
     "text": [
      "219\n",
      "219\n"
     ]
    }
   ],
   "source": [
    "x = np.array([[1,2],[3,4]])\n",
    "y = np.array([[5,6],[7,8]])\n",
    "\n",
    "v = np.array([9,10])\n",
    "w = np.array([11, 12])\n",
    "\n",
    "# 求向量内积\n",
    "print v.dot(w)\n",
    "print np.dot(v, w)"
   ]
  },
  {
   "cell_type": "code",
   "execution_count": 172,
   "metadata": {
    "collapsed": false
   },
   "outputs": [
    {
     "name": "stdout",
     "output_type": "stream",
     "text": [
      "[29 67]\n",
      "[29 67]\n"
     ]
    }
   ],
   "source": [
    "# 矩阵的乘法\n",
    "print x.dot(v)\n",
    "print np.dot(x, v)"
   ]
  },
  {
   "cell_type": "code",
   "execution_count": 173,
   "metadata": {
    "collapsed": false
   },
   "outputs": [
    {
     "name": "stdout",
     "output_type": "stream",
     "text": [
      "[[19 22]\n",
      " [43 50]]\n",
      "[[19 22]\n",
      " [43 50]]\n"
     ]
    }
   ],
   "source": [
    "# 矩阵的乘法\n",
    "# [[19 22]\n",
    "#  [43 50]]\n",
    "print x.dot(y)\n",
    "print np.dot(x, y)"
   ]
  },
  {
   "cell_type": "markdown",
   "metadata": {},
   "source": [
    "你猜你做科学运算会最常用到的矩阵内元素的运算是什么？对啦，是求和，用 `sum`可以完成:"
   ]
  },
  {
   "cell_type": "code",
   "execution_count": 174,
   "metadata": {
    "collapsed": false
   },
   "outputs": [
    {
     "name": "stdout",
     "output_type": "stream",
     "text": [
      "10\n",
      "[4 6]\n",
      "[3 7]\n"
     ]
    }
   ],
   "source": [
    "x = np.array([[1,2],[3,4]])\n",
    "\n",
    "print np.sum(x)  # 数组/矩阵中所有元素求和; prints \"10\"\n",
    "print np.sum(x, axis=0)  # 按列去求和; prints \"[4 6]\"\n",
    "print np.sum(x, axis=1)  # 按行去求和; prints \"[3 7]\""
   ]
  },
  {
   "cell_type": "code",
   "execution_count": 175,
   "metadata": {
    "collapsed": false
   },
   "outputs": [
    {
     "name": "stdout",
     "output_type": "stream",
     "text": [
      "0.5\n"
     ]
    }
   ],
   "source": [
    "print np.reciprocal(2.) #倒数"
   ]
  },
  {
   "cell_type": "code",
   "execution_count": 176,
   "metadata": {
    "collapsed": false
   },
   "outputs": [
    {
     "name": "stdout",
     "output_type": "stream",
     "text": [
      "[ 1.         0.5        0.3003003]\n"
     ]
    }
   ],
   "source": [
    "print np.reciprocal([1, 2., 3.33])"
   ]
  },
  {
   "cell_type": "code",
   "execution_count": 177,
   "metadata": {
    "collapsed": false
   },
   "outputs": [
    {
     "name": "stdout",
     "output_type": "stream",
     "text": [
      "[-1.  1.]\n"
     ]
    }
   ],
   "source": [
    "print np.negative([1.,-1.])  #相反数"
   ]
  },
  {
   "cell_type": "code",
   "execution_count": 178,
   "metadata": {
    "collapsed": false
   },
   "outputs": [
    {
     "name": "stdout",
     "output_type": "stream",
     "text": [
      "[  0   1   8  27  64 125]\n"
     ]
    }
   ],
   "source": [
    "print np.power(np.arange(6), 3)  #power(x, y),--->x.^y"
   ]
  },
  {
   "cell_type": "markdown",
   "metadata": {},
   "source": [
    "我想说最基本的运算就是上面这个样子，更多的运算可能得查查[文档](http://docs.scipy.org/doc/numpy/reference/routines.math.html).\n",
    "\n",
    "其实除掉基本运算，我们经常还需要做一些操作，比如矩阵的变形，转置和重排等等:"
   ]
  },
  {
   "cell_type": "code",
   "execution_count": 179,
   "metadata": {
    "collapsed": false
   },
   "outputs": [
    {
     "name": "stdout",
     "output_type": "stream",
     "text": [
      "[[1 2]\n",
      " [3 4]]\n",
      "[[1 3]\n",
      " [2 4]]\n"
     ]
    }
   ],
   "source": [
    "# 转置和数学公式一直，简单粗暴\n",
    "print x\n",
    "print x.T"
   ]
  },
  {
   "cell_type": "code",
   "execution_count": 180,
   "metadata": {
    "collapsed": false,
    "scrolled": true
   },
   "outputs": [
    {
     "name": "stdout",
     "output_type": "stream",
     "text": [
      "[1 2 3]\n",
      "[1 2 3]\n",
      "[[1 2 3]]\n",
      "[[1]\n",
      " [2]\n",
      " [3]]\n"
     ]
    }
   ],
   "source": [
    "# 需要说明一下，1维的vector转置还是自己\n",
    "v = np.array([1,2,3])\n",
    "print v \n",
    "print v.T\n",
    "\n",
    "# 2维的就不一样了\n",
    "w = np.array([[1,2,3]])\n",
    "print w \n",
    "print w.T"
   ]
  },
  {
   "cell_type": "code",
   "execution_count": 181,
   "metadata": {
    "collapsed": false
   },
   "outputs": [
    {
     "name": "stdout",
     "output_type": "stream",
     "text": [
      "[ 0.  2.]\n"
     ]
    }
   ],
   "source": [
    "print np.around([0.37, 1.64])"
   ]
  },
  {
   "cell_type": "code",
   "execution_count": 182,
   "metadata": {
    "collapsed": false
   },
   "outputs": [
    {
     "name": "stdout",
     "output_type": "stream",
     "text": [
      "[ 0.4  1.6]\n"
     ]
    }
   ],
   "source": [
    "print np.around([0.37, 1.64], decimals=1)"
   ]
  },
  {
   "cell_type": "code",
   "execution_count": 183,
   "metadata": {
    "collapsed": false
   },
   "outputs": [
    {
     "name": "stdout",
     "output_type": "stream",
     "text": [
      "[ 0.  2.  2.  4.  4.]\n"
     ]
    }
   ],
   "source": [
    "print np.around([.5, 1.5, 2.5, 3.5, 4.5]) # rounds to nearest even value"
   ]
  },
  {
   "cell_type": "code",
   "execution_count": 184,
   "metadata": {
    "collapsed": false
   },
   "outputs": [
    {
     "name": "stdout",
     "output_type": "stream",
     "text": [
      "[ 0  0  0 10]\n"
     ]
    }
   ],
   "source": [
    "print np.around([1,2,3,11], decimals=-1)"
   ]
  },
  {
   "cell_type": "code",
   "execution_count": 185,
   "metadata": {
    "collapsed": true
   },
   "outputs": [],
   "source": [
    "a = np.array([-1.7, -1.5, -0.2, 0.2, 1.5, 1.7, 2.0])"
   ]
  },
  {
   "cell_type": "code",
   "execution_count": 186,
   "metadata": {
    "collapsed": false
   },
   "outputs": [
    {
     "name": "stdout",
     "output_type": "stream",
     "text": [
      "[-2. -2.  0.  0.  2.  2.  2.]\n"
     ]
    }
   ],
   "source": [
    "print np.rint(a)"
   ]
  },
  {
   "cell_type": "code",
   "execution_count": 187,
   "metadata": {
    "collapsed": false
   },
   "outputs": [
    {
     "name": "stdout",
     "output_type": "stream",
     "text": [
      "3.0 3.0\n"
     ]
    }
   ],
   "source": [
    "print np.fix(3.14), np.fix(3)"
   ]
  },
  {
   "cell_type": "code",
   "execution_count": 188,
   "metadata": {
    "collapsed": false
   },
   "outputs": [
    {
     "name": "stdout",
     "output_type": "stream",
     "text": [
      "[ 2.  2. -2. -2.]\n"
     ]
    }
   ],
   "source": [
    "print np.fix([2.1, 2.9, -2.1, -2.9])"
   ]
  },
  {
   "cell_type": "code",
   "execution_count": 189,
   "metadata": {
    "collapsed": false
   },
   "outputs": [
    {
     "name": "stdout",
     "output_type": "stream",
     "text": [
      "[-2. -2. -1.  0.  1.  1.  2.]\n"
     ]
    }
   ],
   "source": [
    "print np.floor(a)"
   ]
  },
  {
   "cell_type": "code",
   "execution_count": 190,
   "metadata": {
    "collapsed": false
   },
   "outputs": [
    {
     "name": "stdout",
     "output_type": "stream",
     "text": [
      "[-1. -1. -0.  1.  2.  2.  2.]\n"
     ]
    }
   ],
   "source": [
    "print np.ceil(a)"
   ]
  },
  {
   "cell_type": "code",
   "execution_count": 191,
   "metadata": {
    "collapsed": false
   },
   "outputs": [
    {
     "name": "stdout",
     "output_type": "stream",
     "text": [
      "[-1. -1. -0.  0.  1.  1.  2.]\n"
     ]
    }
   ],
   "source": [
    "print np.trunc(a)"
   ]
  },
  {
   "cell_type": "markdown",
   "metadata": {},
   "source": [
    "random模块"
   ]
  },
  {
   "cell_type": "code",
   "execution_count": 192,
   "metadata": {
    "collapsed": false
   },
   "outputs": [
    {
     "name": "stdout",
     "output_type": "stream",
     "text": [
      "0.00400207685892\n"
     ]
    }
   ],
   "source": [
    "import random\n",
    "print random.random()  #用于生成一个0到1的随机符点数"
   ]
  },
  {
   "cell_type": "code",
   "execution_count": 193,
   "metadata": {
    "collapsed": false
   },
   "outputs": [
    {
     "name": "stdout",
     "output_type": "stream",
     "text": [
      "14.5282370749\n",
      "14.3177738484\n"
     ]
    }
   ],
   "source": [
    "print random.uniform(10, 20)  #用于生成一个指定范围内的随机符点数，两个参数其中一个是上限，一个是下限\n",
    "print random.uniform(20, 10)"
   ]
  },
  {
   "cell_type": "code",
   "execution_count": 194,
   "metadata": {
    "collapsed": false
   },
   "outputs": [
    {
     "name": "stdout",
     "output_type": "stream",
     "text": [
      "15\n",
      "20\n"
     ]
    }
   ],
   "source": [
    "print random.randint(12, 20)  #用于生成一个指定范围内的整数,其中参数a是下限，参数b是上限\n",
    "print random.randint(20, 20)"
   ]
  },
  {
   "cell_type": "code",
   "execution_count": 195,
   "metadata": {
    "collapsed": false
   },
   "outputs": [
    {
     "ename": "ValueError",
     "evalue": "empty range for randrange() (20,11, -9)",
     "output_type": "error",
     "traceback": [
      "\u001b[1;31m---------------------------------------------------------------------------\u001b[0m",
      "\u001b[1;31mValueError\u001b[0m                                Traceback (most recent call last)",
      "\u001b[1;32m<ipython-input-195-8d442d59d3c9>\u001b[0m in \u001b[0;36m<module>\u001b[1;34m()\u001b[0m\n\u001b[1;32m----> 1\u001b[1;33m \u001b[1;32mprint\u001b[0m \u001b[0mrandom\u001b[0m\u001b[1;33m.\u001b[0m\u001b[0mrandint\u001b[0m\u001b[1;33m(\u001b[0m\u001b[1;36m20\u001b[0m\u001b[1;33m,\u001b[0m \u001b[1;36m10\u001b[0m\u001b[1;33m)\u001b[0m  \u001b[1;31m# 该语句是错误的。下限必须小于上限\u001b[0m\u001b[1;33m\u001b[0m\u001b[0m\n\u001b[0m",
      "\u001b[1;32mD:\\Anaconda2\\lib\\random.pyc\u001b[0m in \u001b[0;36mrandint\u001b[1;34m(self, a, b)\u001b[0m\n\u001b[0;32m    240\u001b[0m         \"\"\"\n\u001b[0;32m    241\u001b[0m \u001b[1;33m\u001b[0m\u001b[0m\n\u001b[1;32m--> 242\u001b[1;33m         \u001b[1;32mreturn\u001b[0m \u001b[0mself\u001b[0m\u001b[1;33m.\u001b[0m\u001b[0mrandrange\u001b[0m\u001b[1;33m(\u001b[0m\u001b[0ma\u001b[0m\u001b[1;33m,\u001b[0m \u001b[0mb\u001b[0m\u001b[1;33m+\u001b[0m\u001b[1;36m1\u001b[0m\u001b[1;33m)\u001b[0m\u001b[1;33m\u001b[0m\u001b[0m\n\u001b[0m\u001b[0;32m    243\u001b[0m \u001b[1;33m\u001b[0m\u001b[0m\n\u001b[0;32m    244\u001b[0m     def _randbelow(self, n, _log=_log, _int=int, _maxwidth=1L<<BPF,\n",
      "\u001b[1;32mD:\\Anaconda2\\lib\\random.pyc\u001b[0m in \u001b[0;36mrandrange\u001b[1;34m(self, start, stop, step, _int, _maxwidth)\u001b[0m\n\u001b[0;32m    216\u001b[0m             \u001b[1;32mreturn\u001b[0m \u001b[0m_int\u001b[0m\u001b[1;33m(\u001b[0m\u001b[0mistart\u001b[0m \u001b[1;33m+\u001b[0m \u001b[0m_int\u001b[0m\u001b[1;33m(\u001b[0m\u001b[0mself\u001b[0m\u001b[1;33m.\u001b[0m\u001b[0mrandom\u001b[0m\u001b[1;33m(\u001b[0m\u001b[1;33m)\u001b[0m\u001b[1;33m*\u001b[0m\u001b[0mwidth\u001b[0m\u001b[1;33m)\u001b[0m\u001b[1;33m)\u001b[0m\u001b[1;33m\u001b[0m\u001b[0m\n\u001b[0;32m    217\u001b[0m         \u001b[1;32mif\u001b[0m \u001b[0mstep\u001b[0m \u001b[1;33m==\u001b[0m \u001b[1;36m1\u001b[0m\u001b[1;33m:\u001b[0m\u001b[1;33m\u001b[0m\u001b[0m\n\u001b[1;32m--> 218\u001b[1;33m             \u001b[1;32mraise\u001b[0m \u001b[0mValueError\u001b[0m\u001b[1;33m,\u001b[0m \u001b[1;34m\"empty range for randrange() (%d,%d, %d)\"\u001b[0m \u001b[1;33m%\u001b[0m \u001b[1;33m(\u001b[0m\u001b[0mistart\u001b[0m\u001b[1;33m,\u001b[0m \u001b[0mistop\u001b[0m\u001b[1;33m,\u001b[0m \u001b[0mwidth\u001b[0m\u001b[1;33m)\u001b[0m\u001b[1;33m\u001b[0m\u001b[0m\n\u001b[0m\u001b[0;32m    219\u001b[0m \u001b[1;33m\u001b[0m\u001b[0m\n\u001b[0;32m    220\u001b[0m         \u001b[1;31m# Non-unit step argument supplied.\u001b[0m\u001b[1;33m\u001b[0m\u001b[1;33m\u001b[0m\u001b[0m\n",
      "\u001b[1;31mValueError\u001b[0m: empty range for randrange() (20,11, -9)"
     ]
    }
   ],
   "source": [
    "print random.randint(20, 10)  # 该语句是错误的。下限必须小于上限"
   ]
  },
  {
   "cell_type": "code",
   "execution_count": 196,
   "metadata": {
    "collapsed": false
   },
   "outputs": [
    {
     "name": "stdout",
     "output_type": "stream",
     "text": [
      "62\n"
     ]
    }
   ],
   "source": [
    "print random.randrange(10, 100, 2)  #从指定范围内，按指定基数递增的集合中 获取一个随机数"
   ]
  },
  {
   "cell_type": "code",
   "execution_count": 197,
   "metadata": {
    "collapsed": false
   },
   "outputs": [
    {
     "name": "stdout",
     "output_type": "stream",
     "text": [
      "y\n",
      "JGood\n",
      "Tuple\n"
     ]
    }
   ],
   "source": [
    "print random.choice(\"学习Python\")  #从序列中获取一个随机元素\n",
    "print random.choice([\"JGood\", \"is\", \"a\", \"handsome\", \"boy\"])\n",
    "print random.choice((\"Tuple\", \"List\", \"Dict\"))  "
   ]
  },
  {
   "cell_type": "code",
   "execution_count": 198,
   "metadata": {
    "collapsed": false
   },
   "outputs": [
    {
     "name": "stdout",
     "output_type": "stream",
     "text": [
      "['Python', 'is', 'powerful', 'simple', 'and so on...']\n",
      "['powerful', 'simple', 'Python', 'is', 'and so on...']\n"
     ]
    }
   ],
   "source": [
    "p = [\"Python\", \"is\", \"powerful\", \"simple\", \"and so on...\"]\n",
    "print p\n",
    "random.shuffle(p)  #用于将一个列表中的元素打乱\n",
    "print p"
   ]
  },
  {
   "cell_type": "code",
   "execution_count": 199,
   "metadata": {
    "collapsed": false
   },
   "outputs": [
    {
     "name": "stdout",
     "output_type": "stream",
     "text": [
      "[4, 6, 1, 9, 7]\n",
      "[1, 2, 3, 4, 5, 6, 7, 8, 9, 10]\n"
     ]
    }
   ],
   "source": [
    "list = [1, 2, 3, 4, 5, 6, 7, 8, 9, 10]\n",
    "slice = random.sample(list, 5)  # 从list中随机获取5个元素，作为一个片断返回\n",
    "print slice\n",
    "print list  # 原有序列并没有改变"
   ]
  },
  {
   "cell_type": "markdown",
   "metadata": {},
   "source": [
    "numpy中随机数生成包random"
   ]
  },
  {
   "cell_type": "code",
   "execution_count": 200,
   "metadata": {
    "collapsed": false
   },
   "outputs": [
    {
     "name": "stdout",
     "output_type": "stream",
     "text": [
      "[ 0.27174989 -0.2458569   0.09074111  0.95311427]\n",
      "[[ 1.45145071 -1.66998391  0.8143635 ]\n",
      " [ 0.22988877  1.80412361 -0.01598429]]\n"
     ]
    }
   ],
   "source": [
    "import numpy as np\n",
    "print np.random.randn(4)  #从标准正太分布中返回一个样本值\n",
    "print np.random.randn(2, 3)"
   ]
  },
  {
   "cell_type": "code",
   "execution_count": 201,
   "metadata": {
    "collapsed": false
   },
   "outputs": [
    {
     "name": "stdout",
     "output_type": "stream",
     "text": [
      "3\n",
      "0\n",
      "[6 4 8]\n"
     ]
    }
   ],
   "source": [
    "print np.random.randint(2, 9)  #从在在半开半闭区间[low,high)上的离散均匀分布中返回随机的整数\n",
    "print np.random.randint(7)  #取值范围0~7\n",
    "print np.random.randint(2, 9, 3)  #取三个范围为2~9的整数"
   ]
  },
  {
   "cell_type": "code",
   "execution_count": 202,
   "metadata": {
    "collapsed": false
   },
   "outputs": [
    {
     "name": "stdout",
     "output_type": "stream",
     "text": [
      "7.0157723323\n",
      "0.848386729664\n",
      "[ 0.73684588 -4.37538521 -1.74171382]\n"
     ]
    }
   ],
   "source": [
    "print np.random.normal(6)  #从一个高斯（正态）分布中得到数据\n",
    "print np.random.normal(1, 6)  #第一个参数：分布的均值中心；第二个参数：分布的标准差\n",
    "print np.random.normal(1, 6, 3)"
   ]
  },
  {
   "cell_type": "code",
   "execution_count": 203,
   "metadata": {
    "collapsed": false
   },
   "outputs": [
    {
     "name": "stdout",
     "output_type": "stream",
     "text": [
      "[ 0.3459637   0.51069298  0.72639499  0.66686729  0.49156596  0.73785388\n",
      "  0.22884437  0.68732669  0.66935424  0.29678649]\n",
      "0.965099193374\n"
     ]
    }
   ],
   "source": [
    "print np.random.random(10)  #生成长度为10，在[0,1)之间平均分布的随机数组\n",
    "print np.random.random()"
   ]
  },
  {
   "cell_type": "code",
   "execution_count": 204,
   "metadata": {
    "collapsed": false
   },
   "outputs": [
    {
     "name": "stdout",
     "output_type": "stream",
     "text": [
      "[ -6.98731363e-02  -8.55999600e-02   6.24665871e-02  -7.68655158e-03\n",
      "   6.89735527e-02   9.16174192e-02   3.40365538e-02   7.12252546e-06\n",
      "  -5.08028664e-02   5.72402453e-02]\n",
      "[-0.05513945 -0.06099317  0.0647808  -0.05608504  0.03286601  0.02602861\n",
      " -0.02501202 -0.01944996  0.01185767  0.01886945]\n"
     ]
    }
   ],
   "source": [
    "print 0.2 * np.random.random(10) - 0.1  #生成在-0.1到0.1之间的平均分布\n",
    "print np.random.uniform(-0.1, 0.1, 10)"
   ]
  },
  {
   "cell_type": "code",
   "execution_count": 205,
   "metadata": {
    "collapsed": false
   },
   "outputs": [
    {
     "name": "stdout",
     "output_type": "stream",
     "text": [
      "7\n",
      "[6 1 8]\n"
     ]
    }
   ],
   "source": [
    "x = np.array([1, 2, 3, 4, 5, 6, 7, 8])\n",
    "print np.random.choice(x)\n",
    "print np.random.choice(x, 3)"
   ]
  },
  {
   "cell_type": "code",
   "execution_count": 206,
   "metadata": {
    "collapsed": false
   },
   "outputs": [
    {
     "name": "stdout",
     "output_type": "stream",
     "text": [
      "[5 2 4 6]\n",
      "[6 3 4 8]\n"
     ]
    }
   ],
   "source": [
    "xdt = np.random.choice(x, 4, replace = True)\n",
    "xdf = np.random.choice(x, 4, replace = False)\n",
    "print xdt\n",
    "print xdf"
   ]
  },
  {
   "cell_type": "markdown",
   "metadata": {},
   "source": [
    "Broadcasting"
   ]
  },
  {
   "cell_type": "markdown",
   "metadata": {},
   "source": [
    "这个没想好哪个中文词最贴切，我们暂且叫它“传播吧”:<br>\n",
    "作用是什么呢，我们设想一个场景，如果要用小的矩阵去和大的矩阵做一些操作，但是希望小矩阵能循环和大矩阵的那些块做一样的操作，那急需要Broadcasting啦"
   ]
  },
  {
   "cell_type": "code",
   "execution_count": 207,
   "metadata": {
    "collapsed": false
   },
   "outputs": [
    {
     "name": "stdout",
     "output_type": "stream",
     "text": [
      "[[ 2  2  4]\n",
      " [ 5  5  7]\n",
      " [ 8  8 10]\n",
      " [11 11 13]]\n"
     ]
    }
   ],
   "source": [
    "# 我们要做一件事情，给x的每一行都逐元素加上一个向量，然后生成y\n",
    "x = np.array([[1,2,3], [4,5,6], [7,8,9], [10, 11, 12]])\n",
    "v = np.array([1, 0, 1])\n",
    "y = np.empty_like(x)   # 生成一个和x维度一致的空数组/矩阵\n",
    "\n",
    "# 比较粗暴的方式是，用for循环逐个相加\n",
    "for i in range(4):\n",
    "    y[i, :] = x[i, :] + v\n",
    "\n",
    "print y"
   ]
  },
  {
   "cell_type": "markdown",
   "metadata": {},
   "source": [
    "这种方法当然可以啦，问题是不高效嘛，如果你的x矩阵行数非常多，那就很慢的咯:<br>\n",
    "咱们调整一下，先生成好要加的内容"
   ]
  },
  {
   "cell_type": "code",
   "execution_count": 208,
   "metadata": {
    "collapsed": false
   },
   "outputs": [
    {
     "name": "stdout",
     "output_type": "stream",
     "text": [
      "[[1 0 1]\n",
      " [1 0 1]\n",
      " [1 0 1]\n",
      " [1 0 1]]\n"
     ]
    }
   ],
   "source": [
    "vv = np.tile(v, (4, 1))  # 重复4遍v，叠起来\n",
    "print vv                 # Prints \"[[1 0 1]\n",
    "                         #          [1 0 1]\n",
    "                         #          [1 0 1]\n",
    "                         #          [1 0 1]]\""
   ]
  },
  {
   "cell_type": "code",
   "execution_count": 209,
   "metadata": {
    "collapsed": false
   },
   "outputs": [
    {
     "name": "stdout",
     "output_type": "stream",
     "text": [
      "[[ 2  2  4]\n",
      " [ 5  5  7]\n",
      " [ 8  8 10]\n",
      " [11 11 13]]\n"
     ]
    }
   ],
   "source": [
    "y = x + vv  # 这样求和大家都能看明白对吧\n",
    "print y"
   ]
  },
  {
   "cell_type": "markdown",
   "metadata": {},
   "source": [
    "Numpy broadcasting allows us to perform this computation without actually creating multiple copies of v. Consider this version, using broadcasting:"
   ]
  },
  {
   "cell_type": "code",
   "execution_count": 210,
   "metadata": {
    "collapsed": false
   },
   "outputs": [
    {
     "name": "stdout",
     "output_type": "stream",
     "text": [
      "[[ 2  2  4]\n",
      " [ 5  5  7]\n",
      " [ 8  8 10]\n",
      " [11 11 13]]\n"
     ]
    }
   ],
   "source": [
    "import numpy as np\n",
    "\n",
    "# 因为broadcasting的存在，你上面的操作可以简单地汇总成一个求和操作\n",
    "x = np.array([[1,2,3], [4,5,6], [7,8,9], [10, 11, 12]])\n",
    "v = np.array([1, 0, 1])\n",
    "y = x + v  # Add v to each row of x using broadcasting\n",
    "print y"
   ]
  },
  {
   "cell_type": "markdown",
   "metadata": {},
   "source": [
    "当操作两个array时，numpy会逐个比较它们的shape，在下述情况下，两arrays会兼容和输出broadcasting结果：<br>\n",
    "\n",
    "1. 相等\n",
    "2. 其中一个为1，（进而可进行拷贝拓展已至，shape匹配）\n",
    "\n",
    "比如求和的时候有：\n",
    "```python\n",
    "Image (3d array):  256 x 256 x 3\n",
    "Scale (1d array):              3\n",
    "Result (3d array): 256 x 256 x 3\n",
    "\n",
    "A      (4d array):  8 x 1 x 6 x 1\n",
    "B      (3d array):      7 x 1 x 5\n",
    "Result (4d array):  8 x 7 x 6 x 5\n",
    "\n",
    "A      (2d array):  5 x 4\n",
    "B      (1d array):      1\n",
    "Result (2d array):  5 x 4\n",
    "\n",
    "A      (2d array):  15 x 3 x 5\n",
    "B      (1d array):  15 x 1 x 5\n",
    "Result (2d array):  15 x 3 x 5\n",
    "```\n",
    "\n",
    "下面是一些 broadcasting 的例子:"
   ]
  },
  {
   "cell_type": "code",
   "execution_count": 211,
   "metadata": {
    "collapsed": false
   },
   "outputs": [
    {
     "name": "stdout",
     "output_type": "stream",
     "text": [
      "[[ 4  5]\n",
      " [ 8 10]\n",
      " [12 15]]\n"
     ]
    }
   ],
   "source": [
    "# 我们来理解一下broadcasting的这种用法\n",
    "v = np.array([1,2,3])  # v 形状是 (3,)\n",
    "w = np.array([4,5])    # w 形状是 (2,)\n",
    "# 先把v变形成3x1的数组/矩阵，然后就可以broadcasting加在w上了:\n",
    "print np.reshape(v, (3, 1)) * w"
   ]
  },
  {
   "cell_type": "code",
   "execution_count": 212,
   "metadata": {
    "collapsed": false
   },
   "outputs": [
    {
     "name": "stdout",
     "output_type": "stream",
     "text": [
      "[[2 4 6]\n",
      " [5 7 9]]\n"
     ]
    }
   ],
   "source": [
    "# 那如果要把一个矩阵的每一行都加上一个向量呢\n",
    "x = np.array([[1,2,3], [4,5,6]])\n",
    "v = np.array([1,2,3])\n",
    "# 恩，其实是一样的啦\n",
    "print x + v"
   ]
  },
  {
   "cell_type": "code",
   "execution_count": 213,
   "metadata": {
    "collapsed": false,
    "scrolled": true
   },
   "outputs": [
    {
     "name": "stdout",
     "output_type": "stream",
     "text": [
      "[[ 5  6  7]\n",
      " [ 9 10 11]]\n"
     ]
    }
   ],
   "source": [
    "x = np.array([[1,2,3], [4,5,6]]) # 2x3的\n",
    "w = np.array([4,5])    # w 形状是 (2,)\n",
    "\n",
    "# 自己算算看？\n",
    "print (x.T + w).T"
   ]
  },
  {
   "cell_type": "code",
   "execution_count": 214,
   "metadata": {
    "collapsed": false
   },
   "outputs": [
    {
     "name": "stdout",
     "output_type": "stream",
     "text": [
      "[[ 5  6  7]\n",
      " [ 9 10 11]]\n"
     ]
    }
   ],
   "source": [
    "# 上面那个操作太复杂了，其实我们可以直接这么做嘛\n",
    "print x + np.reshape(w, (2, 1))"
   ]
  },
  {
   "cell_type": "code",
   "execution_count": 215,
   "metadata": {
    "collapsed": false
   },
   "outputs": [
    {
     "name": "stdout",
     "output_type": "stream",
     "text": [
      "[[ 2  4  6]\n",
      " [ 8 10 12]]\n"
     ]
    }
   ],
   "source": [
    "# broadcasting当然可以逐元素运算了\n",
    "print x * 2"
   ]
  },
  {
   "cell_type": "markdown",
   "metadata": {},
   "source": [
    "总结一下broadcasting，可以看看下面的图：<br>\n",
    "![](http://www.astroml.org/_images/fig_broadcast_visual_1.png)"
   ]
  },
  {
   "cell_type": "markdown",
   "metadata": {},
   "source": [
    "where的用法"
   ]
  },
  {
   "cell_type": "code",
   "execution_count": 216,
   "metadata": {
    "collapsed": false
   },
   "outputs": [
    {
     "name": "stdout",
     "output_type": "stream",
     "text": [
      "[ 3  4  5  6  7  8  9 10 11 12 13 14]\n",
      "(array([ 4,  5,  6,  7,  8,  9, 10, 11], dtype=int64),)\n"
     ]
    }
   ],
   "source": [
    "x = np.arange(3, 15)\n",
    "print x\n",
    "print np.where(x > 6)  #返回满足条件的下标"
   ]
  },
  {
   "cell_type": "code",
   "execution_count": 217,
   "metadata": {
    "collapsed": false
   },
   "outputs": [
    {
     "name": "stdout",
     "output_type": "stream",
     "text": [
      "[[ 3  4  5  6  7]\n",
      " [ 8  9 10 11 12]\n",
      " [13 14 15 16 17]]\n",
      "(array([0, 1, 1, 1, 1, 2, 2, 2, 2, 2], dtype=int64), array([3, 1, 2, 3, 4, 0, 1, 2, 3, 4], dtype=int64))\n"
     ]
    }
   ],
   "source": [
    "x = np.arange(3, 18).reshape(3, 5)\n",
    "print x\n",
    "print np.where((x > 8) | (x == 6))"
   ]
  },
  {
   "cell_type": "code",
   "execution_count": 218,
   "metadata": {
    "collapsed": false
   },
   "outputs": [
    {
     "name": "stdout",
     "output_type": "stream",
     "text": [
      "[ 6  9 10 11 12 13 14 15 16 17]\n"
     ]
    }
   ],
   "source": [
    "print x[np.where((x > 8) | (x == 6))]"
   ]
  },
  {
   "cell_type": "code",
   "execution_count": 219,
   "metadata": {
    "collapsed": false
   },
   "outputs": [
    {
     "name": "stdout",
     "output_type": "stream",
     "text": [
      "[[-1 -1 -1  6 -1]\n",
      " [-1  9 10 11 12]\n",
      " [13 14 15 16 17]]\n"
     ]
    }
   ],
   "source": [
    "print np.where((x > 8) | (x == 6), x, -1)   #将x中不满足条件的赋值为-1"
   ]
  },
  {
   "cell_type": "code",
   "execution_count": 220,
   "metadata": {
    "collapsed": false
   },
   "outputs": [
    {
     "name": "stdout",
     "output_type": "stream",
     "text": [
      "[[1 8]\n",
      " [3 4]]\n"
     ]
    }
   ],
   "source": [
    "print np.where([[True, False], [True, True]],   #下面两个矩阵，设定对应位置为True，则第一个矩阵对应位置元素保留，否则用第二个矩阵元素\n",
    "...          [[1, 2], [3, 4]],\n",
    "...          [[9, 8], [7, 6]])"
   ]
  },
  {
   "cell_type": "code",
   "execution_count": 1,
   "metadata": {
    "collapsed": false
   },
   "outputs": [
    {
     "name": "stdout",
     "output_type": "stream",
     "text": [
      "(2L,)\n"
     ]
    }
   ],
   "source": [
    "import numpy as np\n",
    "x = np.array([1,2])\n",
    "print x.shape"
   ]
  },
  {
   "cell_type": "code",
   "execution_count": 2,
   "metadata": {
    "collapsed": false
   },
   "outputs": [
    {
     "name": "stdout",
     "output_type": "stream",
     "text": [
      "[[1 2]]\n",
      "(1L, 2L)\n"
     ]
    }
   ],
   "source": [
    "y = np.expand_dims(x, axis=0)\n",
    "print y\n",
    "print y.shape"
   ]
  },
  {
   "cell_type": "code",
   "execution_count": 3,
   "metadata": {
    "collapsed": false
   },
   "outputs": [
    {
     "name": "stdout",
     "output_type": "stream",
     "text": [
      "[[1]\n",
      " [2]]\n",
      "(2L, 1L)\n"
     ]
    }
   ],
   "source": [
    "y = np.expand_dims(x, axis=1)\n",
    "print y\n",
    "print y.shape"
   ]
  },
  {
   "cell_type": "code",
   "execution_count": 1,
   "metadata": {
    "collapsed": false
   },
   "outputs": [
    {
     "name": "stdout",
     "output_type": "stream",
     "text": [
      "[[0 1 2]\n",
      " [3 4 5]]\n",
      "0 <0>\n",
      "1 <2>\n",
      "2 <4>\n",
      "3 <1>\n",
      "4 <3>\n",
      "5 <5>\n"
     ]
    }
   ],
   "source": [
    "import numpy as np\n",
    "a = np.arange(6).reshape(2,3)\n",
    "print a\n",
    "it = np.nditer(a, flags=['f_index'])\n",
    "while not it.finished:\n",
    "    print \"%d <%d>\" % (it[0], it.index)\n",
    "    it.iternext()"
   ]
  },
  {
   "cell_type": "code",
   "execution_count": 2,
   "metadata": {
    "collapsed": false
   },
   "outputs": [
    {
     "name": "stdout",
     "output_type": "stream",
     "text": [
      "0 <(0, 0)>\n",
      "1 <(0, 1)>\n",
      "2 <(0, 2)>\n",
      "3 <(1, 0)>\n",
      "4 <(1, 1)>\n",
      "5 <(1, 2)>\n"
     ]
    }
   ],
   "source": [
    "it = np.nditer(a, flags=['multi_index'])\n",
    "while not it.finished:\n",
    "    print \"%d <%s>\" % (it[0], it.multi_index)\n",
    "    it.iternext()"
   ]
  },
  {
   "cell_type": "code",
   "execution_count": 6,
   "metadata": {
    "collapsed": false
   },
   "outputs": [
    {
     "name": "stdout",
     "output_type": "stream",
     "text": [
      "(0, 0)\n",
      "(0, 1)\n",
      "(0, 2)\n",
      "(1, 0)\n",
      "(1, 1)\n",
      "(1, 2)\n",
      "[[ 0  1  2]\n",
      " [-1  0  1]]\n"
     ]
    }
   ],
   "source": [
    "it = np.nditer(a, flags=['multi_index'], op_flags=['writeonly'])\n",
    "while not it.finished:\n",
    "    it[0] = it.multi_index[1] - it.multi_index[0]\n",
    "    print it.multi_index\n",
    "    it.iternext()\n",
    "    \n",
    "print a"
   ]
  },
  {
   "cell_type": "markdown",
   "metadata": {},
   "source": [
    "matplotlib.pyplot绘图"
   ]
  },
  {
   "cell_type": "code",
   "execution_count": 17,
   "metadata": {
    "collapsed": false
   },
   "outputs": [
    {
     "data": {
      "image/png": "[encoded data removed]",
      "text/plain": [
       "<matplotlib.figure.Figure at 0x4358198>"
      ]
     },
     "metadata": {},
     "output_type": "display_data"
    },
    {
     "data": {
      "image/png": "[encoded data removed]",
      "text/plain": [
       "<matplotlib.figure.Figure at 0x6ee7da0>"
      ]
     },
     "metadata": {},
     "output_type": "display_data"
    }
   ],
   "source": [
    "import numpy as np\n",
    "import matplotlib.pyplot as plt\n",
    "%matplotlib inline\n",
    "plt.figure(1) # 创建图表1\n",
    "plt.figure(2) # 创建图表2\n",
    "ax1 = plt.subplot(211) # 在图表2中创建子图1\n",
    "ax2 = plt.subplot(212) # 在图表2中创建子图2\n",
    "x = np.linspace(0, 3, 100)\n",
    "for i in xrange(5):\n",
    "    plt.figure(1)  #❶ # 选择图表1\n",
    "    plt.plot(x, np.exp(i * x / 3))\n",
    "    plt.sca(ax1)   #❷ # 选择图表2的子图1\n",
    "    plt.plot(x, np.sin(i * x))\n",
    "    plt.sca(ax2)  # 选择图表2的子图2\n",
    "    plt.plot(x, np.cos(i * x))\n",
    "plt.show()"
   ]
  },
  {
   "cell_type": "code",
   "execution_count": 18,
   "metadata": {
    "collapsed": false
   },
   "outputs": [
    {
     "data": {
      "image/png": "[encoded data removed]",
      "text/plain": [
       "<matplotlib.figure.Figure at 0x76299e8>"
      ]
     },
     "metadata": {},
     "output_type": "display_data"
    },
    {
     "name": "stdout",
     "output_type": "stream",
     "text": [
      "Figure(480x320)\n",
      "Axes(0.125,0.125;0.775x0.775)\n",
      "    agg_filter = None\n",
      "    alpha = None\n",
      "    animated = False\n",
      "    axes = [<matplotlib.axes._subplots.AxesSubplot object at ...\n",
      "    children = [<matplotlib.patches.Rectangle object at 0x0000000...\n",
      "    clip_box = None\n",
      "    clip_on = True\n",
      "    clip_path = None\n",
      "    contains = None\n",
      "    default_bbox_extra_artists = [<matplotlib.axes._subplots.AxesSubplot object at ...\n",
      "    dpi = 80.0\n",
      "    edgecolor = (1, 1, 1, 0)\n",
      "    facecolor = (1, 1, 1, 0)\n",
      "    figheight = 4.0\n",
      "    figure = None\n",
      "    figwidth = 6.0\n",
      "    frameon = True\n",
      "    gid = None\n",
      "    label = \n",
      "    path_effects = []\n",
      "    picker = None\n",
      "    rasterized = None\n",
      "    size_inches = [ 6.  4.]\n",
      "    sketch_params = None\n",
      "    snap = None\n",
      "    tight_layout = False\n",
      "    transform = IdentityTransform()\n",
      "    transformed_clip_path_and_affine = (None, None)\n",
      "    url = None\n",
      "    visible = True\n",
      "    window_extent = TransformedBbox(Bbox([[0.0, 0.0], [6.0, 4.0]]), Af...\n",
      "    zorder = 0\n",
      "None\n"
     ]
    },
    {
     "data": {
      "image/png": "[encoded data removed]",
      "text/plain": [
       "<matplotlib.figure.Figure at 0x77aa470>"
      ]
     },
     "metadata": {},
     "output_type": "display_data"
    }
   ],
   "source": [
    "# -*- coding: utf-8 -*-\n",
    "\"\"\"\n",
    "绘制简单的曲线。\n",
    "\"\"\"\n",
    "import numpy as np\n",
    "import matplotlib.pyplot as plt \n",
    "%matplotlib inline\n",
    "\n",
    "x = np.linspace(0, 10, 1000)  #均分0~10为1000份\n",
    "y = np.sin(x)\n",
    "z = np.cos(x ** 2)\n",
    "\n",
    "plt.figure(figsize=(8,4)) #figsize参数指定Figure对象的宽度和高度，其单位为英寸，图宽为8，高为4\n",
    "\n",
    "plt.plot(x,y,label=\"$sin(x)$\",color=\"red\",linewidth=2) #label：给曲线指定一个标签名称，此标签将在图示中显示。如果标签字符串的前后有字符’$’，\n",
    "                                                       #则matplotlib会使用其内嵌的LaTex引擎将其显示为数学公式。\n",
    "                                                       #color：指定曲线的颜色，颜色可以用英文单词，或者以’#’字符开头的三个16进制数\n",
    "                                                       #linewidth：指定曲线的宽度，可以不是整数，也可以使用缩写形式的参数名lw\n",
    "            \n",
    "plt.plot(x,z,\"b--\",label=\"$cos(x^2)$\") #第三个参数’b–’指定曲线的颜色和线型，其中’b’表示蓝色，’–’表示线型为虚线。\n",
    "                                       #在IPython中输入“plt.plot?”可以查看格式化字符串以及各个参数的详细说明。\n",
    "\n",
    "plt.xlabel(\"Time(s)\")  #xlabel：设置X轴的标题文字\n",
    "plt.ylabel(\"Volt\")     #ylabel：设置Y轴的标题文字\n",
    "plt.title(\"PyPlot First Example\")  #title：设置子图的标题\n",
    "plt.ylim(-1.2,1.2)  #xlim、ylim：分别设置X、Y轴的显示范围\n",
    "plt.legend()   #legend：显示图示，即图中表示每条曲线的标签(label)和样式的矩形区域\n",
    "\n",
    "plt.show()  #调用plt.show()显示出绘图窗口。在通常的运行情况下，show()将会阻塞程序的运行，直到用户关闭绘图窗口。\n",
    "            #然而在带“-wthread”等参数的IPython环境下，show()不会等待窗口关闭。\n",
    "    \n",
    "plt.savefig(\"test.png\", dpi=120)  #保存图片\n",
    "fig = plt.gcf()  #表示图表的Figure对象\n",
    "axes = plt.gca()  #表示子图的Axes对象\n",
    "print fig\n",
    "print axes\n",
    "print plt.getp(fig)  #通过getp()查看Figure对象的属性"
   ]
  },
  {
   "cell_type": "code",
   "execution_count": 19,
   "metadata": {
    "collapsed": false
   },
   "outputs": [
    {
     "data": {
      "image/png": "[encoded data removed]",
      "text/plain": [
       "<matplotlib.figure.Figure at 0x3ee27b8>"
      ]
     },
     "metadata": {},
     "output_type": "display_data"
    }
   ],
   "source": [
    "#plt.plot(np.arange(10))\n",
    "#fig = plt.figure()\n",
    "ax1 = plt.subplot(2, 2, 1)\n",
    "ax2 = plt.subplot(2, 2, 2)\n",
    "ax3 = plt.subplot(2, 2, 3)\n",
    "plt.plot(np.arange(10))\n",
    "plt.show()"
   ]
  },
  {
   "cell_type": "code",
   "execution_count": 20,
   "metadata": {
    "collapsed": false
   },
   "outputs": [
    {
     "name": "stdout",
     "output_type": "stream",
     "text": [
      "Line2D(_line0)\n",
      "Line2D(_line0)\n"
     ]
    },
    {
     "data": {
      "image/png": "[encoded data removed]",
      "text/plain": [
       "<matplotlib.figure.Figure at 0x77db8d0>"
      ]
     },
     "metadata": {},
     "output_type": "display_data"
    }
   ],
   "source": [
    "x = np.arange(0, 5, 0.1)\n",
    "line = plt.plot(x, x*x)[0] # plot返回一个列表\n",
    "print line\n",
    "line.set_antialiased(False) # 调用Line2D对象的set_*()方法设置属性值\n",
    "print line"
   ]
  },
  {
   "cell_type": "code",
   "execution_count": 21,
   "metadata": {
    "collapsed": false
   },
   "outputs": [
    {
     "name": "stdout",
     "output_type": "stream",
     "text": [
      "1.0\n",
      "r\n",
      "    agg_filter = None\n",
      "    alpha = None\n",
      "    animated = False\n",
      "    antialiased or aa = True\n",
      "    axes = Axes(0.125,0.125;0.775x0.775)\n",
      "    children = []\n",
      "    clip_box = TransformedBbox(Bbox([[0.0, 0.0], [1.0, 1.0]]), Co...\n",
      "    clip_on = True\n",
      "    clip_path = None\n",
      "    color or c = r\n",
      "    contains = None\n",
      "    dash_capstyle = butt\n",
      "    dash_joinstyle = round\n",
      "    data = (array([ 0. ,  0.1,  0.2,  0.3,  0.4,  0.5,  0.6, ...\n",
      "    drawstyle = default\n",
      "    figure = Figure(480x320)\n",
      "    fillstyle = full\n",
      "    gid = None\n",
      "    label = _line1\n",
      "    linestyle or ls = -\n",
      "    linewidth or lw = 2.0\n",
      "    marker = None\n",
      "    markeredgecolor or mec = r\n",
      "    markeredgewidth or mew = 0.5\n",
      "    markerfacecolor or mfc = r\n",
      "    markerfacecoloralt or mfcalt = none\n",
      "    markersize or ms = 6.0\n",
      "    markevery = None\n",
      "    path = Path(array([[ 0.        ,  1.        ],        [ 0...\n",
      "    path_effects = []\n",
      "    picker = None\n",
      "    pickradius = 5\n",
      "    rasterized = None\n",
      "    sketch_params = None\n",
      "    snap = None\n",
      "    solid_capstyle = projecting\n",
      "    solid_joinstyle = round\n",
      "    transform = CompositeGenericTransform(TransformWrapper(Blended...\n",
      "    transformed_clip_path_and_affine = (None, None)\n",
      "    url = None\n",
      "    visible = True\n",
      "    xdata = [ 0.   0.1  0.2  0.3  0.4  0.5]...\n",
      "    xydata = [[ 0.          1.        ]  [ 0.1         0.995004...\n",
      "    ydata = [ 1.          0.99500417  0.98006658  0.95533649  ...\n",
      "    zorder = 2\n",
      "None\n"
     ]
    },
    {
     "data": {
      "image/png": "[encoded data removed]",
      "text/plain": [
       "<matplotlib.figure.Figure at 0x7738cc0>"
      ]
     },
     "metadata": {},
     "output_type": "display_data"
    }
   ],
   "source": [
    "lines = plt.plot(x, np.sin(x), x, np.cos(x)) #同时绘制正弦和余弦两条曲线，lines是一个有两个Line2D对象的列表\n",
    "plt.setp(lines, color=\"r\", linewidth=2.0)  #调用setp()可以同时配置多个对象的属性，这里我们同时设置两条曲线的颜色和线宽\n",
    "print line.get_linewidth()  #返回线宽属性\n",
    "print plt.getp(lines[0], \"color\") # 返回color属性\n",
    "print plt.getp(lines[1]) # 输出全部属性"
   ]
  },
  {
   "cell_type": "markdown",
   "metadata": {},
   "source": [
    "绘制多子图\n",
    "一个Figure对象可以包含多个子图(Axes)，在matplotlib中用Axes对象表示一个绘图区域，在本书中称之为子图。在前面的例子中，Figure对象只包括一个子图。我们可以使用subplot()快速绘制包含多个子图的图表，它的调用形式如下\n",
    "subplot(numRows, numCols, plotNum)\n",
    "图表的整个绘图区域被等分为numRows行和numCols列，然后按照从左到右、从上到下的顺序对每个区域进行编号，左上区域的编号为1。plotNum参数指定所创建Axes对象所在的区域。如果numRows、numCols和plotNum三个参数都小于10，则可以把它们缩写成一个整数，例如subplot(323)和subplot(3,2,3)的含义相同。如果新创建的子图和之前创建的子图区域有重叠的部分，则之前的子图将被删除。"
   ]
  },
  {
   "cell_type": "code",
   "execution_count": 22,
   "metadata": {
    "collapsed": false
   },
   "outputs": [
    {
     "data": {
      "image/png": "[encoded data removed]",
      "text/plain": [
       "<matplotlib.figure.Figure at 0x7a3f1d0>"
      ]
     },
     "metadata": {},
     "output_type": "display_data"
    }
   ],
   "source": [
    "for idx, color in enumerate(\"rgbyck\"):\n",
    "    plt.subplot(321+idx, axisbg=color)\n",
    "plt.show()"
   ]
  },
  {
   "cell_type": "code",
   "execution_count": 23,
   "metadata": {
    "collapsed": false
   },
   "outputs": [
    {
     "data": {
      "image/png": "[encoded data removed]",
      "text/plain": [
       "<matplotlib.figure.Figure at 0x88e4b70>"
      ]
     },
     "metadata": {},
     "output_type": "display_data"
    }
   ],
   "source": [
    "plt.subplot(221) # 第一行的左图\n",
    "plt.subplot(222) # 第一行的右图\n",
    "plt.subplot(212) # 第二整行\n",
    "plt.show()"
   ]
  },
  {
   "cell_type": "code",
   "execution_count": 24,
   "metadata": {
    "collapsed": false
   },
   "outputs": [
    {
     "data": {
      "image/png": "[encoded data removed]",
      "text/plain": [
       "<matplotlib.figure.Figure at 0x8f880f0>"
      ]
     },
     "metadata": {},
     "output_type": "display_data"
    },
    {
     "data": {
      "image/png": "[encoded data removed]",
      "text/plain": [
       "<matplotlib.figure.Figure at 0x937cc18>"
      ]
     },
     "metadata": {},
     "output_type": "display_data"
    },
    {
     "data": {
      "image/png": "[encoded data removed]",
      "text/plain": [
       "<matplotlib.figure.Figure at 0x79b52e8>"
      ]
     },
     "metadata": {},
     "output_type": "display_data"
    },
    {
     "data": {
      "image/png": "[encoded data removed]",
      "text/plain": [
       "<matplotlib.figure.Figure at 0x6ef4630>"
      ]
     },
     "metadata": {},
     "output_type": "display_data"
    }
   ],
   "source": [
    "# -*- coding: utf-8 -*-\n",
    "from matplotlib.font_manager import fontManager\n",
    "import matplotlib.pyplot as plt\n",
    "import os\n",
    "import os.path\n",
    "\n",
    "fig = plt.figure(figsize=(12,6))\n",
    "ax = fig.add_subplot(111)\n",
    "plt.subplots_adjust(0, 0, 1, 1, 0, 0)\n",
    "plt.xticks([])\n",
    "plt.yticks([])\n",
    "x, y = 0.05, 0.08\n",
    "fonts = [font.name for font in fontManager.ttflist if \n",
    "    os.path.exists(font.fname) and os.stat(font.fname).st_size>1e6] \n",
    "font = set(fonts)\n",
    "dy = (1.0-y)/(len(fonts)/4 + (len(fonts)%4!=0))\n",
    "for font in fonts:\n",
    "    t = ax.text(x, y, u\"中文字体\", {'fontname':font, 'fontsize':14}, transform=ax.transAxes) \n",
    "    ax.text(x, y-dy/2, font, transform=ax.transAxes)\n",
    "    x += 0.25\n",
    "    if x >= 1.0:\n",
    "        y += dy\n",
    "        x = 0.05\n",
    "plt.show()  ## -*- coding: utf-8 -*-\n",
    "from matplotlib.font_manager import fontManager\n",
    "import matplotlib.pyplot as plt\n",
    "import os\n",
    "import os.path\n",
    "\n",
    "fig = plt.figure(figsize=(12,6))\n",
    "ax = fig.add_subplot(111)\n",
    "plt.subplots_adjust(0, 0, 1, 1, 0, 0)\n",
    "plt.xticks([])\n",
    "plt.yticks([])\n",
    "x, y = 0.05, 0.08\n",
    "fonts = [font.name for font in fontManager.ttflist if \n",
    "    os.path.exists(font.fname) and os.stat(font.fname).st_size>1e6] \n",
    "font = set(fonts)\n",
    "dy = (1.0-y)/(len(fonts)/4 + (len(fonts)%4!=0))\n",
    "for font in fonts:\n",
    "    t = ax.text(x, y, u\"中文字体\", {'fontname':font, 'fontsize':14}, transform=ax.transAxes) \n",
    "    ax.text(x, y-dy/2, font, transform=ax.transAxes)\n",
    "    x += 0.25\n",
    "    if x >= 1.0:\n",
    "        y += dy\n",
    "        x = 0.05\n",
    "plt.show()# -*- coding: utf-8 -*-\n",
    "from matplotlib.font_manager import fontManager\n",
    "import matplotlib.pyplot as plt\n",
    "import os\n",
    "import os.path\n",
    "\n",
    "fig = plt.figure(figsize=(12,6))\n",
    "ax = fig.add_subplot(111)\n",
    "plt.subplots_adjust(0, 0, 1, 1, 0, 0)\n",
    "plt.xticks([])\n",
    "plt.yticks([])\n",
    "x, y = 0.05, 0.08\n",
    "fonts = [font.name for font in fontManager.ttflist if \n",
    "    os.path.exists(font.fname) and os.stat(font.fname).st_size>1e6] \n",
    "font = set(fonts)\n",
    "dy = (1.0-y)/(len(fonts)/4 + (len(fonts)%4!=0))\n",
    "for font in fonts:\n",
    "    t = ax.text(x, y, u\"中文字体\", {'fontname':font, 'fontsize':14}, transform=ax.transAxes) \n",
    "    ax.text(x, y-dy/2, font, transform=ax.transAxes)\n",
    "    x += 0.25\n",
    "    if x >= 1.0:\n",
    "        y += dy\n",
    "        x = 0.05\n",
    "plt.show()  ## -*- coding: utf-8 -*-\n",
    "from matplotlib.font_manager import fontManager\n",
    "import matplotlib.pyplot as plt\n",
    "import os\n",
    "import os.path\n",
    "\n",
    "fig = plt.figure(figsize=(12,6))\n",
    "ax = fig.add_subplot(111)\n",
    "plt.subplots_adjust(0, 0, 1, 1, 0, 0)\n",
    "plt.xticks([])\n",
    "plt.yticks([])\n",
    "x, y = 0.05, 0.08\n",
    "fonts = [font.name for font in fontManager.ttflist if \n",
    "    os.path.exists(font.fname) and os.stat(font.fname).st_size>1e6] \n",
    "font = set(fonts)\n",
    "dy = (1.0-y)/(len(fonts)/4 + (len(fonts)%4!=0))\n",
    "for font in fonts:\n",
    "    t = ax.text(x, y, u\"中文字体\", {'fontname':font, 'fontsize':14}, transform=ax.transAxes) \n",
    "    ax.text(x, y-dy/2, font, transform=ax.transAxes)\n",
    "    x += 0.25\n",
    "    if x >= 1.0:\n",
    "        y += dy\n",
    "        x = 0.05\n",
    "plt.show()  #显示中文"
   ]
  },
  {
   "cell_type": "code",
   "execution_count": 25,
   "metadata": {
    "collapsed": false
   },
   "outputs": [
    {
     "data": {
      "image/png": "[encoded data removed]",
      "text/plain": [
       "<matplotlib.figure.Figure at 0x8e47fd0>"
      ]
     },
     "metadata": {},
     "output_type": "display_data"
    }
   ],
   "source": [
    "# -*- coding: utf-8 -*-\n",
    "from matplotlib.font_manager import FontProperties\n",
    "import matplotlib.pyplot as plt\n",
    "import numpy as np\n",
    "font = FontProperties(fname=r\"c:\\windows\\fonts\\simsun.ttc\", size=14) \n",
    "t = np.linspace(0, 10, 1000)\n",
    "y = np.sin(t)\n",
    "plt.plot(t, y)\n",
    "plt.xlabel(u\"时间\", fontproperties=font) \n",
    "plt.ylabel(u\"振幅\", fontproperties=font)\n",
    "plt.title(u\"正弦波\", fontproperties=font)\n",
    "plt.show()"
   ]
  },
  {
   "cell_type": "markdown",
   "metadata": {},
   "source": [
    "更多的numpy细节和用法可以查看一下官网[numpy指南](http://docs.scipy.org/doc/numpy/reference/)"
   ]
  }
 ],
 "metadata": {
  "anaconda-cloud": {},
  "kernelspec": {
   "display_name": "Python [Root]",
   "language": "python",
   "name": "Python [Root]"
  },
  "language_info": {
   "codemirror_mode": {
    "name": "ipython",
    "version": 2
   },
   "file_extension": ".py",
   "mimetype": "text/x-python",
   "name": "python",
   "nbconvert_exporter": "python",
   "pygments_lexer": "ipython2",
   "version": "2.7.12"
  }
 },
 "nbformat": 4,
 "nbformat_minor": 0
}
