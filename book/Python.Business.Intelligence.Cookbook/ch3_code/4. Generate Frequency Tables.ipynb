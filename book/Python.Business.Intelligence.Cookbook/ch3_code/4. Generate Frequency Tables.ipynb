{
 "cells": [
  {
   "cell_type": "markdown",
   "metadata": {
    "collapsed": true
   },
   "source": [
    "# Generate Frequency Tables"
   ]
  },
  {
   "cell_type": "markdown",
   "metadata": {},
   "source": [
    "A frequency table is another way to show summary statistics, specifically the number of times a data value occurs. In this notebook we'll see how to generate multiple frequency tables which will help us better summarize our data."
   ]
  },
  {
   "cell_type": "markdown",
   "metadata": {},
   "source": [
    "## Import The Data"
   ]
  },
  {
   "cell_type": "code",
   "execution_count": null,
   "metadata": {
    "collapsed": true
   },
   "outputs": [],
   "source": [
    "# Import the Python libraries we need\n",
    "import pandas as pd\n",
    "import numpy as np\n",
    "from pymongo import MongoClient"
   ]
  },
  {
   "cell_type": "code",
   "execution_count": null,
   "metadata": {
    "collapsed": false
   },
   "outputs": [],
   "source": [
    "# Import the data, 5 fields from the MongoDB data\n",
    "client = MongoClient('localhost', 27017)\n",
    "db = client.pythonbicookbook\n",
    "collection = db.accidents\n",
    "fields = {'Date':1,\n",
    "          'Police_Force':1,\n",
    "          'Accident_Severity':1,\n",
    "          'Number_of_Vehicles':1,\n",
    "          'Number_of_Casualties':1}\n",
    "data = collection.find({}, fields)\n",
    "accidents = pd.DataFrame(list(data))"
   ]
  },
  {
   "cell_type": "markdown",
   "metadata": {},
   "source": [
    "## Generate a Frequency Table for a Single Column by Date"
   ]
  },
  {
   "cell_type": "code",
   "execution_count": null,
   "metadata": {
    "collapsed": false
   },
   "outputs": [],
   "source": [
    "casualty_count = accidents.groupby('Date').agg({'Number_of_Casualties': np.sum})\n",
    "casualty_count"
   ]
  },
  {
   "cell_type": "markdown",
   "metadata": {},
   "source": [
    "## Generate a Frequency Table of Two Variables"
   ]
  },
  {
   "cell_type": "code",
   "execution_count": null,
   "metadata": {
    "collapsed": false
   },
   "outputs": [],
   "source": [
    "# Create a second dataframe for the vehicle count\n",
    "vehicle_count = accidents.groupby('Date').agg({'Number_of_Vehicles': np.sum})\n",
    "# Merge the two dataframes on the index\n",
    "casualties_and_vehicles = casualty_count.merge(vehicle_count, left_index=True, right_index=True)\n",
    "casualties_and_vehicles"
   ]
  },
  {
   "cell_type": "code",
   "execution_count": null,
   "metadata": {
    "collapsed": true
   },
   "outputs": [],
   "source": []
  }
 ],
 "metadata": {
  "kernelspec": {
   "display_name": "Python 3",
   "language": "python",
   "name": "python3"
  },
  "language_info": {
   "codemirror_mode": {
    "name": "ipython",
    "version": 3
   },
   "file_extension": ".py",
   "mimetype": "text/x-python",
   "name": "python",
   "nbconvert_exporter": "python",
   "pygments_lexer": "ipython3",
   "version": "3.4.3"
  }
 },
 "nbformat": 4,
 "nbformat_minor": 0
}
