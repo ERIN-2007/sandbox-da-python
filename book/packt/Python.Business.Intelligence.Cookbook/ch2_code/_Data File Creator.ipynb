{
 "cells": [
  {
   "cell_type": "markdown",
   "metadata": {},
   "source": [
    "# Import the required libraries"
   ]
  },
  {
   "cell_type": "code",
   "execution_count": 59,
   "metadata": {
    "collapsed": true
   },
   "outputs": [],
   "source": [
    "import pandas as pd\n",
    "import numpy as np\n",
    "from datetime import datetime\n",
    "from faker import Factory\n",
    "import csv\n",
    "\n",
    "fake = Factory.create()"
   ]
  },
  {
   "cell_type": "markdown",
   "metadata": {},
   "source": [
    "# Use the faker library to create a csv of fake data"
   ]
  },
  {
   "cell_type": "code",
   "execution_count": null,
   "metadata": {
    "collapsed": false
   },
   "outputs": [],
   "source": [
    "with open('fake_dataset.csv', 'w',  newline='') as csvfile:\n",
    "    writer = csv.writer(csvfile, delimiter=',', quotechar='\"', quoting=csv.QUOTE_ALL)\n",
    "    writer.writerow([\"first_name\",\"last_name\",\"ssn\",\"date_of_birth\",\"street_address\",\"city\",\"state\",\"postcode\",\"company\",\"job\",\"work_phone\",\"work_street_address\",\"work_city\",\"work_state\",\"work_postcode\"])\n",
    "    for i in range(0,10000):\n",
    "        writer.writerow([fake.first_name(), \n",
    "                         fake.last_name(), \n",
    "                         fake.ssn(), \n",
    "                         fake.date_time_between(start_date=\"-70y\", end_date=\"-25y\").date(),\n",
    "                         fake.street_address(),\n",
    "                         fake.city(),\n",
    "                         fake.state(),\n",
    "                         fake.postcode(),\n",
    "                         fake.company(),\n",
    "                         fake.job(),\n",
    "                         fake.phone_number(),\n",
    "                         fake.street_address(),\n",
    "                         fake.city(),\n",
    "                         fake.state(),\n",
    "                         fake.postcode()])\n",
    "print(\"CSV created\")"
   ]
  },
  {
   "cell_type": "code",
   "execution_count": null,
   "metadata": {
    "collapsed": true
   },
   "outputs": [],
   "source": []
  }
 ],
 "metadata": {
  "kernelspec": {
   "display_name": "Python 3",
   "language": "python",
   "name": "python3"
  },
  "language_info": {
   "codemirror_mode": {
    "name": "ipython",
    "version": 3
   },
   "file_extension": ".py",
   "mimetype": "text/x-python",
   "name": "python",
   "nbconvert_exporter": "python",
   "pygments_lexer": "ipython3",
   "version": "3.3.5"
  }
 },
 "nbformat": 4,
 "nbformat_minor": 0
}
