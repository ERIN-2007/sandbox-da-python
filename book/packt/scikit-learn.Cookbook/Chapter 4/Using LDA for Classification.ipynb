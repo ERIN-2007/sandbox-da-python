{
 "metadata": {
  "name": "",
  "signature": "sha256:deb6f29d8637c04f3ed7d163e38a6ebc193c825e1369f05b786f54be6af0d2d7"
 },
 "nbformat": 3,
 "nbformat_minor": 0,
 "worksheets": [
  {
   "cells": [
    {
     "cell_type": "code",
     "collapsed": false,
     "input": [
      "%matplotlib inline"
     ],
     "language": "python",
     "metadata": {},
     "outputs": [],
     "prompt_number": 1
    },
    {
     "cell_type": "markdown",
     "metadata": {},
     "source": [
      "3 pages"
     ]
    },
    {
     "cell_type": "markdown",
     "metadata": {},
     "source": [
      "#Getting Ready"
     ]
    },
    {
     "cell_type": "markdown",
     "metadata": {},
     "source": [
      "Linear Discriminant Analysis attempts to fit a linear combination of features to predict the outcome variable.  LDA is often used as a preprocessing step.  We'll walk through both methods in this recipe."
     ]
    },
    {
     "cell_type": "markdown",
     "metadata": {},
     "source": [
      "# How to do it\n",
      "\n",
      "In this recipe we will\n",
      "\n",
      "1. Grab stock data from yahoo\n",
      "2. Re arrange it in a shape we're comfortable with\n",
      "3. Create an LDA object to fit and predict the class labels\n",
      "4. Give an example of how do use LDA for dimensionality reduction."
     ]
    },
    {
     "cell_type": "markdown",
     "metadata": {},
     "source": [
      "In this example we're going to perform an analysis similar to Altman's Z-score[1].  In that paper Altman looked at a company's likelihood of defaulting within two years based on the several financial metrics.\n",
      "\n",
      "> T1 = Working Capital / Total Assets. Measures liquid assets in relation to the size of the company.\n",
      "\n",
      "> T2 = Retained Earnings / Total Assets. Measures profitability that reflects the company's age and earning power.\n",
      "\n",
      "> T3 = Earnings Before Interest and Taxes / Total Assets. Measures operating efficiency apart from tax and leveraging factors. It recognizes operating earnings as being important to long-term viability.\n",
      "\n",
      "> T4 = Market Value of Equity / Book Value of Total Liabilities. Adds market dimension that can show up security price fluctuation as a possible red flag.\n",
      "\n",
      "> T5 = Sales/ Total Assets. Standard measure for total asset turnover (varies greatly from industry to industry).\n",
      "\n",
      "From wikipedia.\n",
      "\n",
      "[1]: Altman, Edward I. (September 1968). \"\"Financial Ratios, Discriminant Analysis and the Prediction of Corporate Bankruptcy\"\". Journal of Finance: 189\u2013209."
     ]
    },
    {
     "cell_type": "markdown",
     "metadata": {},
     "source": [
      "In this analysis we'll look at some financial data from yahoo via pandas.  We'll try to predict if a stock will be higher in exactly 6 months than it is today, based on the current attribute of the stock.  It's obviously nowhere near as refined as Altaman's score.  Let's use a basket of auto stocks."
     ]
    },
    {
     "cell_type": "code",
     "collapsed": false,
     "input": [
      "tickers = [\"F\", \"TM\", \"GM\", \"TSLA\"]\n",
      "from pandas.io import data as external_data\n",
      "stock_panel = external_data.DataReader(tickers, \"yahoo\")"
     ],
     "language": "python",
     "metadata": {},
     "outputs": [],
     "prompt_number": 2
    },
    {
     "cell_type": "markdown",
     "metadata": {},
     "source": [
      "This data structure is Panel from pandas.  It's similar to an OLAP cube, or a 3D DataFrame.  Let's take a look a the the data to get some familiarity with closes since that's what we care about comparing."
     ]
    },
    {
     "cell_type": "code",
     "collapsed": false,
     "input": [
      "stock_df = stock_panel.Close.dropna()\n",
      "stock_df.plot(figsize=(7, 5))\n",
      "\n",
      "import matplotlib.pyplot as plt\n",
      "plt.savefig(\"978-1-78398-948-5_05_13.png\")"
     ],
     "language": "python",
     "metadata": {},
     "outputs": [],
     "prompt_number": 5
    },
    {
     "cell_type": "markdown",
     "metadata": {},
     "source": [
      "Here's what the first few lines of the dataset looks like."
     ]
    },
    {
     "cell_type": "markdown",
     "metadata": {},
     "source": [
      "Ok, so now we need to compare each stock price with it's price in 6 months.  If it's higher, we'll code that with a 1, and if not, we'll code that with a 0.\n",
      "\n",
      "To do that we'll just shift the DataFrame back 180 days, and compare."
     ]
    },
    {
     "cell_type": "code",
     "collapsed": false,
     "input": [
      "#this dataframe indicates if the stock was higher in 180 days\n",
      "classes = (stock_df.shift(-180) > stock_df).astype(int)"
     ],
     "language": "python",
     "metadata": {},
     "outputs": [],
     "prompt_number": 7
    },
    {
     "cell_type": "markdown",
     "metadata": {},
     "source": [
      "The next thing we need to do is to flatten out the dataset."
     ]
    },
    {
     "cell_type": "code",
     "collapsed": false,
     "input": [
      "X = stock_panel.to_frame()\n",
      "classes = classes.unstack()\n",
      "classes = classes.swaplevel(0, 1).sort_index()"
     ],
     "language": "python",
     "metadata": {},
     "outputs": [],
     "prompt_number": 8
    },
    {
     "cell_type": "code",
     "collapsed": false,
     "input": [
      "classes = classes.to_frame()"
     ],
     "language": "python",
     "metadata": {},
     "outputs": [],
     "prompt_number": 9
    },
    {
     "cell_type": "code",
     "collapsed": false,
     "input": [
      "classes.index.names = ['Date', 'minor']"
     ],
     "language": "python",
     "metadata": {},
     "outputs": [],
     "prompt_number": 10
    },
    {
     "cell_type": "code",
     "collapsed": false,
     "input": [
      "data = X.join(classes).dropna()\n",
      "data.rename(columns={0: 'is_higher'}, inplace=True)"
     ],
     "language": "python",
     "metadata": {},
     "outputs": [],
     "prompt_number": 11
    },
    {
     "cell_type": "code",
     "collapsed": false,
     "input": [
      "data.head()"
     ],
     "language": "python",
     "metadata": {},
     "outputs": [
      {
       "html": [
        "<div style=\"max-height:1000px;max-width:1500px;overflow:auto;\">\n",
        "<table border=\"1\" class=\"dataframe\">\n",
        "  <thead>\n",
        "    <tr style=\"text-align: right;\">\n",
        "      <th></th>\n",
        "      <th></th>\n",
        "      <th>Open</th>\n",
        "      <th>High</th>\n",
        "      <th>Low</th>\n",
        "      <th>Close</th>\n",
        "      <th>Volume</th>\n",
        "      <th>Adj Close</th>\n",
        "      <th>is_higher</th>\n",
        "    </tr>\n",
        "    <tr>\n",
        "      <th>Date</th>\n",
        "      <th>minor</th>\n",
        "      <th></th>\n",
        "      <th></th>\n",
        "      <th></th>\n",
        "      <th></th>\n",
        "      <th></th>\n",
        "      <th></th>\n",
        "      <th></th>\n",
        "    </tr>\n",
        "  </thead>\n",
        "  <tbody>\n",
        "    <tr>\n",
        "      <th rowspan=\"4\" valign=\"top\">2010-11-18</th>\n",
        "      <th>F</th>\n",
        "      <td> 16.77</td>\n",
        "      <td> 16.87</td>\n",
        "      <td> 16.05</td>\n",
        "      <td> 16.12</td>\n",
        "      <td> 256937900</td>\n",
        "      <td> 15.07</td>\n",
        "      <td> 0</td>\n",
        "    </tr>\n",
        "    <tr>\n",
        "      <th>GM</th>\n",
        "      <td> 35.00</td>\n",
        "      <td> 35.99</td>\n",
        "      <td> 33.89</td>\n",
        "      <td> 34.19</td>\n",
        "      <td> 457044300</td>\n",
        "      <td> 33.61</td>\n",
        "      <td> 0</td>\n",
        "    </tr>\n",
        "    <tr>\n",
        "      <th>TM</th>\n",
        "      <td> 77.36</td>\n",
        "      <td> 77.51</td>\n",
        "      <td> 76.83</td>\n",
        "      <td> 77.29</td>\n",
        "      <td>    989100</td>\n",
        "      <td> 77.29</td>\n",
        "      <td> 0</td>\n",
        "    </tr>\n",
        "    <tr>\n",
        "      <th>TSLA</th>\n",
        "      <td> 30.67</td>\n",
        "      <td> 30.74</td>\n",
        "      <td> 28.92</td>\n",
        "      <td> 29.89</td>\n",
        "      <td>    956100</td>\n",
        "      <td> 29.89</td>\n",
        "      <td> 0</td>\n",
        "    </tr>\n",
        "    <tr>\n",
        "      <th>2010-11-19</th>\n",
        "      <th>F</th>\n",
        "      <td> 16.02</td>\n",
        "      <td> 16.38</td>\n",
        "      <td> 15.83</td>\n",
        "      <td> 16.28</td>\n",
        "      <td> 130323600</td>\n",
        "      <td> 15.22</td>\n",
        "      <td> 0</td>\n",
        "    </tr>\n",
        "  </tbody>\n",
        "</table>\n",
        "</div>"
       ],
       "metadata": {},
       "output_type": "pyout",
       "prompt_number": 12,
       "text": [
        "                   Open   High    Low  Close     Volume  Adj Close  is_higher\n",
        "Date       minor                                                             \n",
        "2010-11-18 F      16.77  16.87  16.05  16.12  256937900      15.07          0\n",
        "           GM     35.00  35.99  33.89  34.19  457044300      33.61          0\n",
        "           TM     77.36  77.51  76.83  77.29     989100      77.29          0\n",
        "           TSLA   30.67  30.74  28.92  29.89     956100      29.89          0\n",
        "2010-11-19 F      16.02  16.38  15.83  16.28  130323600      15.22          0"
       ]
      }
     ],
     "prompt_number": 12
    },
    {
     "cell_type": "markdown",
     "metadata": {},
     "source": [
      "Ok, so now we need to create matrices to Scipy.  To do that we'll use the patsy library.  This is a great library that can be used to create a design matrix in a similar fashion as R."
     ]
    },
    {
     "cell_type": "code",
     "collapsed": false,
     "input": [
      "import patsy"
     ],
     "language": "python",
     "metadata": {},
     "outputs": [],
     "prompt_number": 13
    },
    {
     "cell_type": "code",
     "collapsed": false,
     "input": [
      "X = patsy.dmatrix(\"Open + High + Low + Close + Volume + is_higher - 1\", data.reset_index(), return_type='dataframe')"
     ],
     "language": "python",
     "metadata": {},
     "outputs": [],
     "prompt_number": 14
    },
    {
     "cell_type": "code",
     "collapsed": false,
     "input": [
      "X.head()"
     ],
     "language": "python",
     "metadata": {},
     "outputs": [
      {
       "html": [
        "<div style=\"max-height:1000px;max-width:1500px;overflow:auto;\">\n",
        "<table border=\"1\" class=\"dataframe\">\n",
        "  <thead>\n",
        "    <tr style=\"text-align: right;\">\n",
        "      <th></th>\n",
        "      <th>Open</th>\n",
        "      <th>High</th>\n",
        "      <th>Low</th>\n",
        "      <th>Close</th>\n",
        "      <th>Volume</th>\n",
        "      <th>is_higher</th>\n",
        "    </tr>\n",
        "  </thead>\n",
        "  <tbody>\n",
        "    <tr>\n",
        "      <th>0</th>\n",
        "      <td> 16.77</td>\n",
        "      <td> 16.87</td>\n",
        "      <td> 16.05</td>\n",
        "      <td> 16.12</td>\n",
        "      <td> 256937900</td>\n",
        "      <td> 0</td>\n",
        "    </tr>\n",
        "    <tr>\n",
        "      <th>1</th>\n",
        "      <td> 35.00</td>\n",
        "      <td> 35.99</td>\n",
        "      <td> 33.89</td>\n",
        "      <td> 34.19</td>\n",
        "      <td> 457044300</td>\n",
        "      <td> 0</td>\n",
        "    </tr>\n",
        "    <tr>\n",
        "      <th>2</th>\n",
        "      <td> 77.36</td>\n",
        "      <td> 77.51</td>\n",
        "      <td> 76.83</td>\n",
        "      <td> 77.29</td>\n",
        "      <td>    989100</td>\n",
        "      <td> 0</td>\n",
        "    </tr>\n",
        "    <tr>\n",
        "      <th>3</th>\n",
        "      <td> 30.67</td>\n",
        "      <td> 30.74</td>\n",
        "      <td> 28.92</td>\n",
        "      <td> 29.89</td>\n",
        "      <td>    956100</td>\n",
        "      <td> 0</td>\n",
        "    </tr>\n",
        "    <tr>\n",
        "      <th>4</th>\n",
        "      <td> 16.02</td>\n",
        "      <td> 16.38</td>\n",
        "      <td> 15.83</td>\n",
        "      <td> 16.28</td>\n",
        "      <td> 130323600</td>\n",
        "      <td> 0</td>\n",
        "    </tr>\n",
        "  </tbody>\n",
        "</table>\n",
        "</div>"
       ],
       "metadata": {},
       "output_type": "pyout",
       "prompt_number": 15,
       "text": [
        "    Open   High    Low  Close     Volume  is_higher\n",
        "0  16.77  16.87  16.05  16.12  256937900          0\n",
        "1  35.00  35.99  33.89  34.19  457044300          0\n",
        "2  77.36  77.51  76.83  77.29     989100          0\n",
        "3  30.67  30.74  28.92  29.89     956100          0\n",
        "4  16.02  16.38  15.83  16.28  130323600          0"
       ]
      }
     ],
     "prompt_number": 15
    },
    {
     "cell_type": "markdown",
     "metadata": {},
     "source": [
      "Awesome, so now that we have our dataset, let's fit the LDA object."
     ]
    },
    {
     "cell_type": "code",
     "collapsed": false,
     "input": [
      "import pandas as pd\n",
      "from sklearn.lda import LDA\n",
      "lda = LDA()\n",
      "lda.fit(X.ix[:, :-1], X.ix[:, -1]);"
     ],
     "language": "python",
     "metadata": {},
     "outputs": [],
     "prompt_number": 16
    },
    {
     "cell_type": "markdown",
     "metadata": {},
     "source": [
      "So we can see that it's not too bad when predicting against the dataset.  Certainly we would want to improve this with other parameters and do more better testing of the model."
     ]
    },
    {
     "cell_type": "code",
     "collapsed": false,
     "input": [
      "from sklearn.metrics import classification_report"
     ],
     "language": "python",
     "metadata": {},
     "outputs": [],
     "prompt_number": 24
    },
    {
     "cell_type": "code",
     "collapsed": false,
     "input": [
      "print classification_report(X.ix[:, -1].values, lda.predict(X.ix[:, :-1]))"
     ],
     "language": "python",
     "metadata": {},
     "outputs": [
      {
       "output_type": "stream",
       "stream": "stdout",
       "text": [
        "             precision    recall  f1-score   support\n",
        "\n",
        "        0.0       0.63      0.59      0.61      1895\n",
        "        1.0       0.60      0.64      0.62      1833\n",
        "\n",
        "avg / total       0.61      0.61      0.61      3728\n",
        "\n"
       ]
      }
     ],
     "prompt_number": 25
    },
    {
     "cell_type": "markdown",
     "metadata": {},
     "source": [
      "# How it works"
     ]
    },
    {
     "cell_type": "markdown",
     "metadata": {},
     "source": [
      "LDA is actually fairly similar to the clustering we were doing.  We're fit a basic model from the data.  Then once we have that model, for each class we're trying to predict we just compare the likelihoods of the data given each class.  Whichever likelihood is the highest is what we'll choose.\n",
      "\n",
      "LDA is actually a simplification of QDA, which we'll talk about next chapter.  Here we're assuming that the covariances of each class is the same, but in QDA that assumption is relaxed.  Think about the connections between KNN and GMM's and the relationship there and here."
     ]
    }
   ],
   "metadata": {}
  }
 ]
}