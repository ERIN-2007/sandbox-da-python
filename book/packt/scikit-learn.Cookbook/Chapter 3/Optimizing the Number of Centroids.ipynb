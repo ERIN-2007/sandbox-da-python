{
 "metadata": {
  "name": "",
  "signature": "sha256:b20414dba847cab4df1fd5a9a37e2307ecb49c845e47cb3789f5032ce35a054b"
 },
 "nbformat": 3,
 "nbformat_minor": 0,
 "worksheets": [
  {
   "cells": [
    {
     "cell_type": "code",
     "collapsed": false,
     "input": [
      "import matplotlib.pyplot as plt\n",
      "%matplotlib inline"
     ],
     "language": "python",
     "metadata": {},
     "outputs": [],
     "prompt_number": 2
    },
    {
     "cell_type": "markdown",
     "metadata": {},
     "source": [
      "#Getting Ready\n",
      "\n",
      "Evaluating model performance for unsupervised techniques is a challenge.  Consequently, sklearn has several methods for evaluating clustering when a ground truth is known, and very few for when it isn't.\n",
      "\n",
      "We'll start with a single cluster model, evalute its similarity.  This is more for the mechanics, as measuring the similarity of one cluster count clearly isn't useful for trying to suss out the ground truth number of clusters."
     ]
    },
    {
     "cell_type": "code",
     "collapsed": false,
     "input": [
      "from sklearn.datasets import make_blobs\n",
      "blobs, classes = make_blobs(500, centers=3)\n",
      "\n",
      "from sklearn.cluster import KMeans\n",
      "kmean = KMeans(n_clusters=3)\n",
      "kmean.fit(blobs)"
     ],
     "language": "python",
     "metadata": {},
     "outputs": [
      {
       "metadata": {},
       "output_type": "pyout",
       "prompt_number": 3,
       "text": [
        "KMeans(copy_x=True, init='k-means++', max_iter=300, n_clusters=3, n_init=10,\n",
        "    n_jobs=1, precompute_distances=True, random_state=None, tol=0.0001,\n",
        "    verbose=0)"
       ]
      }
     ],
     "prompt_number": 3
    },
    {
     "cell_type": "markdown",
     "metadata": {},
     "source": [
      "#How it works\n",
      "\n",
      "First we'll look at silhouette distance.  Silhouette distance is the ratio of the difference between the in-cluster dissimilarity and closest out-of-cluster dissimilarity and the max of those two values.\n",
      "\n",
      "It can be thought of a measure of how seperate the clusters are.\n",
      "\n",
      "Let's look at the distribution of distances from the points to the cluster centers; it's useful in understanding silhouette distances."
     ]
    },
    {
     "cell_type": "code",
     "collapsed": false,
     "input": [
      "from sklearn import metrics\n",
      "silhouette_samples = metrics.silhouette_samples(blobs, kmean.labels_)\n",
      "np.column_stack((classes[:5], silhouette_samples[:5]))"
     ],
     "language": "python",
     "metadata": {},
     "outputs": [
      {
       "metadata": {},
       "output_type": "pyout",
       "prompt_number": 5,
       "text": [
        "array([[ 1.        ,  0.87617292],\n",
        "       [ 1.        ,  0.89082363],\n",
        "       [ 1.        ,  0.88544994],\n",
        "       [ 1.        ,  0.91478369],\n",
        "       [ 1.        ,  0.91308287]])"
       ]
      }
     ],
     "prompt_number": 5
    },
    {
     "cell_type": "code",
     "collapsed": false,
     "input": [
      "f, ax = plt.subplots(figsize=(10, 5))\n",
      "\n",
      "ax.set_title(\"Hist of Silhouette Samples\")\n",
      "ax.hist(silhouette_samples);\n",
      "f.savefig(\"978-1-78398-948-5_3.jpg\")"
     ],
     "language": "python",
     "metadata": {},
     "outputs": [
      {
       "metadata": {},
       "output_type": "display_data",
       "png": "[encoded data removed]",
       "text": [
        "<matplotlib.figure.Figure at 0x1150a2150>"
       ]
      }
     ],
     "prompt_number": 6
    },
    {
     "cell_type": "markdown",
     "metadata": {},
     "source": [
      "Notice the generally higher coefficients, which is good, the closer to one the score the better.\n",
      "\n",
      "The average of the silhouettes coefficients is often used to describe the entire models fit."
     ]
    },
    {
     "cell_type": "code",
     "collapsed": false,
     "input": [
      "silhouette_samples.mean()"
     ],
     "language": "python",
     "metadata": {},
     "outputs": [
      {
       "metadata": {},
       "output_type": "pyout",
       "prompt_number": 170,
       "text": [
        "0.57130462953339578"
       ]
      }
     ],
     "prompt_number": 170
    },
    {
     "cell_type": "markdown",
     "metadata": {},
     "source": [
      "It's so common, in fact, the metrics module exposes a function two arrive at the value we just did."
     ]
    },
    {
     "cell_type": "code",
     "collapsed": false,
     "input": [
      "metrics.silhouette_score(blobs, kmean.labels_)"
     ],
     "language": "python",
     "metadata": {},
     "outputs": [
      {
       "metadata": {},
       "output_type": "pyout",
       "prompt_number": 7,
       "text": [
        "0.8896486388763285"
       ]
      }
     ],
     "prompt_number": 7
    },
    {
     "cell_type": "markdown",
     "metadata": {},
     "source": [
      "Now let's fit models of several cluster counts and see what the average silhouette score looks like."
     ]
    },
    {
     "cell_type": "code",
     "collapsed": false,
     "input": [
      "# first new ground truth\n",
      "\n",
      "blobs, classes = make_blobs(500, centers=10)"
     ],
     "language": "python",
     "metadata": {},
     "outputs": [],
     "prompt_number": 8
    },
    {
     "cell_type": "code",
     "collapsed": false,
     "input": [
      "sillhouette_avgs = []\n",
      "\n",
      "# this could take a while\n",
      "for k in range(2, 60):\n",
      "    kmean = KMeans(n_clusters=k).fit(blobs)\n",
      "    \n",
      "    sillhouette_avgs.append(metrics.silhouette_score(blobs, kmean.labels_))"
     ],
     "language": "python",
     "metadata": {},
     "outputs": [
      {
       "output_type": "stream",
       "stream": "stderr",
       "text": [
        "/Users/trenthauck/.virtualenvs/zues/lib/python2.7/site-packages/numpy-1.9.0.dev_bd5894b-py2.7-macosx-10.9-intel.egg/numpy/core/_methods.py:55: RuntimeWarning: Mean of empty slice.\n",
        "  warnings.warn(\"Mean of empty slice.\", RuntimeWarning)\n",
        "/Users/trenthauck/.virtualenvs/zues/lib/python2.7/site-packages/numpy-1.9.0.dev_bd5894b-py2.7-macosx-10.9-intel.egg/numpy/core/_methods.py:67: RuntimeWarning: invalid value encountered in double_scalars\n",
        "  ret = ret.dtype.type(ret / rcount)\n"
       ]
      }
     ],
     "prompt_number": 9
    },
    {
     "cell_type": "code",
     "collapsed": false,
     "input": [
      "f, ax = plt.subplots(figsize=(7, 5))\n",
      "ax.plot(sillhouette_avgs)\n",
      "\n",
      "f.savefig(\"978-1-78398-948-5_4.jpg\")"
     ],
     "language": "python",
     "metadata": {},
     "outputs": [
      {
       "metadata": {},
       "output_type": "display_data",
       "png": "[encoded data removed]",
       "text": [
        "<matplotlib.figure.Figure at 0x1156f6bd0>"
       ]
      }
     ],
     "prompt_number": 11
    },
    {
     "cell_type": "markdown",
     "metadata": {},
     "source": [
      "#There's More"
     ]
    }
   ],
   "metadata": {}
  }
 ]
}