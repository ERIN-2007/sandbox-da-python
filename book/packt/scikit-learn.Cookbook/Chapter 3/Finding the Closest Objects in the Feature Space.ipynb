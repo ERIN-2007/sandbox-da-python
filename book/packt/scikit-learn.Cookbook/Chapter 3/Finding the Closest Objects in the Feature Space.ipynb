{
 "metadata": {
  "name": "",
  "signature": "sha256:0b4020c828c971520dbf85cf4339cdffc84cb733f543536f084bdbccf6dbde49"
 },
 "nbformat": 3,
 "nbformat_minor": 0,
 "worksheets": [
  {
   "cells": [
    {
     "cell_type": "code",
     "collapsed": false,
     "input": [
      "%matplotlib inline\n",
      "from matplotlib import pyplot as plt"
     ],
     "language": "python",
     "metadata": {},
     "outputs": [],
     "prompt_number": 17
    },
    {
     "cell_type": "markdown",
     "metadata": {},
     "source": [
      "#Getting Ready\n",
      "\n",
      "A lower level utility in Scikit Learn is sklearn.metrics.pairwise.  This contains sever functions for easily computing the distances between the vectors in a matrix, X, or the distances between the vecotrs in X and the vectors in Y.\n",
      "\n",
      "This could be useful in an information retreival sense.  For example, given a set of customers with attributes or X, we might want to take a reference customer and find the closest customers to that customer.  In fact, we might want to rank customers by the notion of similarity measured by the distance function.\n",
      "\n",
      "We'll walk through several different scenarios of measuring distance."
     ]
    },
    {
     "cell_type": "code",
     "collapsed": false,
     "input": [
      "from sklearn.metrics import pairwise\n",
      "from sklearn.datasets import make_blobs\n",
      "points, labels = make_blobs()"
     ],
     "language": "python",
     "metadata": {},
     "outputs": [],
     "prompt_number": 2
    },
    {
     "cell_type": "markdown",
     "metadata": {},
     "source": [
      "#How to do it"
     ]
    },
    {
     "cell_type": "markdown",
     "metadata": {},
     "source": [
      "This simplest way to check the distances is `pairwise_distances`. "
     ]
    },
    {
     "cell_type": "code",
     "collapsed": false,
     "input": [
      "distances = pairwise.pairwise_distances(points)"
     ],
     "language": "python",
     "metadata": {},
     "outputs": [],
     "prompt_number": 3
    },
    {
     "cell_type": "markdown",
     "metadata": {},
     "source": [
      "Distances is an NxN matrix with 0s along the diagional.  In the simplist case let's see the distances between each point and the first point."
     ]
    },
    {
     "cell_type": "code",
     "collapsed": false,
     "input": [
      "import numpy as np"
     ],
     "language": "python",
     "metadata": {},
     "outputs": [],
     "prompt_number": 5
    },
    {
     "cell_type": "code",
     "collapsed": false,
     "input": [
      "np.diag(distances)[:5]"
     ],
     "language": "python",
     "metadata": {},
     "outputs": [
      {
       "metadata": {},
       "output_type": "pyout",
       "prompt_number": 7,
       "text": [
        "array([ 0.,  0.,  0.,  0.,  0.])"
       ]
      }
     ],
     "prompt_number": 7
    },
    {
     "cell_type": "code",
     "collapsed": false,
     "input": [
      "distances[0][:5]"
     ],
     "language": "python",
     "metadata": {},
     "outputs": [
      {
       "metadata": {},
       "output_type": "pyout",
       "prompt_number": 9,
       "text": [
        "array([  0.        ,  11.82643041,   1.23751545,   1.17612135,  14.61927874])"
       ]
      }
     ],
     "prompt_number": 9
    },
    {
     "cell_type": "markdown",
     "metadata": {},
     "source": [
      "Ranking the the points by closes, is very easy with np.argsort."
     ]
    },
    {
     "cell_type": "code",
     "collapsed": false,
     "input": [
      "ranks = np.argsort(distances[0])"
     ],
     "language": "python",
     "metadata": {},
     "outputs": [],
     "prompt_number": 10
    },
    {
     "cell_type": "code",
     "collapsed": false,
     "input": [
      "ranks[:5]"
     ],
     "language": "python",
     "metadata": {},
     "outputs": [
      {
       "metadata": {},
       "output_type": "pyout",
       "prompt_number": 13,
       "text": [
        "array([ 0, 27, 98, 23, 67])"
       ]
      }
     ],
     "prompt_number": 13
    },
    {
     "cell_type": "markdown",
     "metadata": {},
     "source": [
      "We can see the the first several datapoints ren't very close.  The great thing about argsort is now we can sort our points matrix to get the actual points."
     ]
    },
    {
     "cell_type": "code",
     "collapsed": false,
     "input": [
      "points[ranks][:5]"
     ],
     "language": "python",
     "metadata": {},
     "outputs": [
      {
       "metadata": {},
       "output_type": "pyout",
       "prompt_number": 15,
       "text": [
        "array([[ 8.32260673,  4.10499982],\n",
        "       [ 8.37070943,  4.14955295],\n",
        "       [ 8.57572447,  4.27599933],\n",
        "       [ 8.04091659,  4.41409589],\n",
        "       [ 7.90497209,  4.17086075]])"
       ]
      }
     ],
     "prompt_number": 15
    },
    {
     "cell_type": "markdown",
     "metadata": {},
     "source": [
      "It's useful to see what the closes points look like.  If only for some assurances that this works as intendend."
     ]
    },
    {
     "cell_type": "code",
     "collapsed": false,
     "input": [
      "f, ax = plt.subplots(figsize=(9, 6))\n",
      "\n",
      "five_closest = points[ranks][:5]\n",
      "\n",
      "ax.set_title(\"Visualizing the Closest Points\")\n",
      "ax.scatter(points[:, 0], points[:, 1], label='All Points')\n",
      "ax.scatter(five_closest[:, 0], five_closest[:, 1], c='r', label='Closest')\n",
      "ax.legend()\n",
      "\n",
      "f.savefig(\"978-1-78398-948_5.jpg\")"
     ],
     "language": "python",
     "metadata": {},
     "outputs": [
      {
       "metadata": {},
       "output_type": "display_data",
       "png": "[encoded data removed]",
       "text": [
        "<matplotlib.figure.Figure at 0x10ac6d950>"
       ]
      }
     ],
     "prompt_number": 18
    },
    {
     "cell_type": "markdown",
     "metadata": {},
     "source": [
      "#How this works"
     ]
    },
    {
     "cell_type": "markdown",
     "metadata": {},
     "source": [
      "Given some distance function each point is measured in a pairwise function.  The default is euclidian distance which is\n",
      "\n",
      "$$d(x, y) = \\sqrt{\\sum_i (x_i - y_i)^2} $$"
     ]
    },
    {
     "cell_type": "code",
     "collapsed": false,
     "input": [
      "def euclid_distances(x, y):\n",
      "    return np.power(np.power(x - y, 2).sum(), .5)"
     ],
     "language": "python",
     "metadata": {},
     "outputs": [],
     "prompt_number": 20
    },
    {
     "cell_type": "code",
     "collapsed": false,
     "input": [
      "euclid_distances(points[0], points[1])"
     ],
     "language": "python",
     "metadata": {},
     "outputs": [
      {
       "metadata": {},
       "output_type": "pyout",
       "prompt_number": 21,
       "text": [
        "11.826430406213145"
       ]
      }
     ],
     "prompt_number": 21
    },
    {
     "cell_type": "markdown",
     "metadata": {},
     "source": [
      "Check this with the value directly from pairwise_distances.\n",
      "\n",
      "There are several distance functions accessable through pairwise_distances."
     ]
    },
    {
     "cell_type": "code",
     "collapsed": false,
     "input": [
      "l1_distances = pairwise.pairwise_distances(points, metric='l1')"
     ],
     "language": "python",
     "metadata": {},
     "outputs": [],
     "prompt_number": 22
    },
    {
     "cell_type": "code",
     "collapsed": false,
     "input": [
      "pairwise.pairwise_distances([[0, 0], [5, 5]], metric='cityblock')[0]"
     ],
     "language": "python",
     "metadata": {},
     "outputs": [
      {
       "metadata": {},
       "output_type": "pyout",
       "prompt_number": 25,
       "text": [
        "array([  0.,  10.])"
       ]
      }
     ],
     "prompt_number": 25
    },
    {
     "cell_type": "markdown",
     "metadata": {},
     "source": [
      "This is actually the same l1 we saw in the recipe about Lasso regression.  Other options include cosine, hamming, jaccard, among others.  Some of the the metrics come directly from sklearn, but some come from scipy.  Sci-kit Learn with override scipy's version in the event that the matrix is sparse."
     ]
    },
    {
     "cell_type": "markdown",
     "metadata": {},
     "source": [
      "#There's More\n",
      "\n",
      "Using pairwise distances we can find the similarity between bit vectors.  It's a matter of finding the hamming distance which is defined as\n",
      "\n",
      "$$\n",
      "\\sum_i I_{x_i \\neq y_i}\n",
      "$$\n",
      "\n",
      "However Sci-kit Learn with normalize this distance to the length of the vectors."
     ]
    },
    {
     "cell_type": "code",
     "collapsed": false,
     "input": [
      "X = np.random.binomial(1, .5, size=(2, 4)).astype(np.bool)"
     ],
     "language": "python",
     "metadata": {},
     "outputs": [],
     "prompt_number": 98
    },
    {
     "cell_type": "code",
     "collapsed": false,
     "input": [
      "X"
     ],
     "language": "python",
     "metadata": {},
     "outputs": [
      {
       "metadata": {},
       "output_type": "pyout",
       "prompt_number": 99,
       "text": [
        "array([[False,  True, False, False],\n",
        "       [False, False, False,  True]], dtype=bool)"
       ]
      }
     ],
     "prompt_number": 99
    },
    {
     "cell_type": "code",
     "collapsed": false,
     "input": [
      "pairwise.pairwise_distances(X, metric='hamming')"
     ],
     "language": "python",
     "metadata": {},
     "outputs": [
      {
       "metadata": {},
       "output_type": "pyout",
       "prompt_number": 100,
       "text": [
        "array([[ 0. ,  0.5],\n",
        "       [ 0.5,  0. ]])"
       ]
      }
     ],
     "prompt_number": 100
    }
   ],
   "metadata": {}
  }
 ]
}