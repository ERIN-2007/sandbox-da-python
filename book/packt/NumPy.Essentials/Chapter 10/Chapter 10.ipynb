{
 "cells": [
  {
   "cell_type": "markdown",
   "metadata": {
    "collapsed": true
   },
   "source": [
    "### Pandas"
   ]
  },
  {
   "cell_type": "code",
   "execution_count": 1,
   "metadata": {
    "collapsed": false
   },
   "outputs": [
    {
     "data": {
      "text/plain": [
       "0     3\n",
       "1     8\n",
       "2    15\n",
       "3    25\n",
       "4    11\n",
       "dtype: int64"
      ]
     },
     "execution_count": 1,
     "metadata": {},
     "output_type": "execute_result"
    }
   ],
   "source": [
    "#### Introducing Series ####\n",
    "import pandas as pd\n",
    "py_list = [3, 8, 15, 25, 11]\n",
    "series = pd.Series(py_list)\n",
    "series"
   ]
  },
  {
   "cell_type": "code",
   "execution_count": 2,
   "metadata": {
    "collapsed": false
   },
   "outputs": [
    {
     "data": {
      "text/plain": [
       "A     3\n",
       "B     8\n",
       "C    15\n",
       "D    25\n",
       "E    11\n",
       "dtype: int64"
      ]
     },
     "execution_count": 2,
     "metadata": {},
     "output_type": "execute_result"
    }
   ],
   "source": [
    "#### Change Indices ####\n",
    "indices = ['A', 'B', 'C', 'D', 'E']\n",
    "series = pd.Series(py_list, index = indices)\n",
    "series"
   ]
  },
  {
   "cell_type": "code",
   "execution_count": 3,
   "metadata": {
    "collapsed": false
   },
   "outputs": [
    {
     "data": {
      "text/html": [
       "<div>\n",
       "<table border=\"1\" class=\"dataframe\">\n",
       "  <thead>\n",
       "    <tr style=\"text-align: right;\">\n",
       "      <th></th>\n",
       "      <th>Age</th>\n",
       "      <th>Name</th>\n",
       "    </tr>\n",
       "  </thead>\n",
       "  <tbody>\n",
       "    <tr>\n",
       "      <th>0</th>\n",
       "      <td>23</td>\n",
       "      <td>Brian</td>\n",
       "    </tr>\n",
       "    <tr>\n",
       "      <th>1</th>\n",
       "      <td>41</td>\n",
       "      <td>George</td>\n",
       "    </tr>\n",
       "    <tr>\n",
       "      <th>2</th>\n",
       "      <td>26</td>\n",
       "      <td>Kate</td>\n",
       "    </tr>\n",
       "    <tr>\n",
       "      <th>3</th>\n",
       "      <td>19</td>\n",
       "      <td>Amy</td>\n",
       "    </tr>\n",
       "    <tr>\n",
       "      <th>4</th>\n",
       "      <td>35</td>\n",
       "      <td>Joe</td>\n",
       "    </tr>\n",
       "  </tbody>\n",
       "</table>\n",
       "</div>"
      ],
      "text/plain": [
       "   Age    Name\n",
       "0   23   Brian\n",
       "1   41  George\n",
       "2   26    Kate\n",
       "3   19     Amy\n",
       "4   35     Joe"
      ]
     },
     "execution_count": 3,
     "metadata": {},
     "output_type": "execute_result"
    }
   ],
   "source": [
    "#### Introducing DataFrame ####\n",
    "data = {'Name': ['Brian', 'George', 'Kate', 'Amy', 'Joe'], 'Age': [23, 41, 26, 19, 35]}\n",
    "data_frame = pd.DataFrame(data)\n",
    "data_frame"
   ]
  },
  {
   "cell_type": "code",
   "execution_count": 4,
   "metadata": {
    "collapsed": false
   },
   "outputs": [
    {
     "data": {
      "text/plain": [
       "0    23\n",
       "1    41\n",
       "2    26\n",
       "3    19\n",
       "4    35\n",
       "Name: Age, dtype: int64"
      ]
     },
     "execution_count": 4,
     "metadata": {},
     "output_type": "execute_result"
    }
   ],
   "source": [
    "#### Print by Column Name ####\n",
    "data_frame['Age']"
   ]
  },
  {
   "cell_type": "code",
   "execution_count": 5,
   "metadata": {
    "collapsed": false
   },
   "outputs": [
    {
     "name": "stderr",
     "output_type": "stream",
     "text": [
      "C:\\Anaconda3\\lib\\site-packages\\ipykernel\\__main__.py:2: FutureWarning: sort(columns=....) is deprecated, use sort_values(by=.....)\n",
      "  from ipykernel import kernelapp as app\n"
     ]
    },
    {
     "data": {
      "text/html": [
       "<div>\n",
       "<table border=\"1\" class=\"dataframe\">\n",
       "  <thead>\n",
       "    <tr style=\"text-align: right;\">\n",
       "      <th></th>\n",
       "      <th>Age</th>\n",
       "      <th>Name</th>\n",
       "    </tr>\n",
       "  </thead>\n",
       "  <tbody>\n",
       "    <tr>\n",
       "      <th>3</th>\n",
       "      <td>19</td>\n",
       "      <td>Amy</td>\n",
       "    </tr>\n",
       "    <tr>\n",
       "      <th>0</th>\n",
       "      <td>23</td>\n",
       "      <td>Brian</td>\n",
       "    </tr>\n",
       "    <tr>\n",
       "      <th>2</th>\n",
       "      <td>26</td>\n",
       "      <td>Kate</td>\n",
       "    </tr>\n",
       "    <tr>\n",
       "      <th>4</th>\n",
       "      <td>35</td>\n",
       "      <td>Joe</td>\n",
       "    </tr>\n",
       "    <tr>\n",
       "      <th>1</th>\n",
       "      <td>41</td>\n",
       "      <td>George</td>\n",
       "    </tr>\n",
       "  </tbody>\n",
       "</table>\n",
       "</div>"
      ],
      "text/plain": [
       "   Age    Name\n",
       "3   19     Amy\n",
       "0   23   Brian\n",
       "2   26    Kate\n",
       "4   35     Joe\n",
       "1   41  George"
      ]
     },
     "execution_count": 5,
     "metadata": {},
     "output_type": "execute_result"
    }
   ],
   "source": [
    "#### Sort by Column ####\n",
    "data_frame.sort(columns = 'Age')"
   ]
  },
  {
   "cell_type": "code",
   "execution_count": 6,
   "metadata": {
    "collapsed": false
   },
   "outputs": [
    {
     "data": {
      "text/html": [
       "<div>\n",
       "<table border=\"1\" class=\"dataframe\">\n",
       "  <thead>\n",
       "    <tr style=\"text-align: right;\">\n",
       "      <th></th>\n",
       "      <th>Age</th>\n",
       "    </tr>\n",
       "  </thead>\n",
       "  <tbody>\n",
       "    <tr>\n",
       "      <th>count</th>\n",
       "      <td>5.000000</td>\n",
       "    </tr>\n",
       "    <tr>\n",
       "      <th>mean</th>\n",
       "      <td>28.800000</td>\n",
       "    </tr>\n",
       "    <tr>\n",
       "      <th>std</th>\n",
       "      <td>9.011104</td>\n",
       "    </tr>\n",
       "    <tr>\n",
       "      <th>min</th>\n",
       "      <td>19.000000</td>\n",
       "    </tr>\n",
       "    <tr>\n",
       "      <th>25%</th>\n",
       "      <td>23.000000</td>\n",
       "    </tr>\n",
       "    <tr>\n",
       "      <th>50%</th>\n",
       "      <td>26.000000</td>\n",
       "    </tr>\n",
       "    <tr>\n",
       "      <th>75%</th>\n",
       "      <td>35.000000</td>\n",
       "    </tr>\n",
       "    <tr>\n",
       "      <th>max</th>\n",
       "      <td>41.000000</td>\n",
       "    </tr>\n",
       "  </tbody>\n",
       "</table>\n",
       "</div>"
      ],
      "text/plain": [
       "             Age\n",
       "count   5.000000\n",
       "mean   28.800000\n",
       "std     9.011104\n",
       "min    19.000000\n",
       "25%    23.000000\n",
       "50%    26.000000\n",
       "75%    35.000000\n",
       "max    41.000000"
      ]
     },
     "execution_count": 6,
     "metadata": {},
     "output_type": "execute_result"
    }
   ],
   "source": [
    "#### Describe Data Frame ####\n",
    "data_frame.describe()"
   ]
  },
  {
   "cell_type": "code",
   "execution_count": 7,
   "metadata": {
    "collapsed": false
   },
   "outputs": [
    {
     "name": "stdout",
     "output_type": "stream",
     "text": [
      "the shape of sale is (348, 97)\n",
      "First three columns are Index(['LA_Code', 'LA_Name', '1995_COUNT_ALL_TYPES'], dtype='object')\n",
      "Fist five rows are \n",
      "0    1,188\n",
      "1    1,652\n",
      "2    1,684\n",
      "3    2,314\n",
      "4    1,558\n",
      "Name: 1995_COUNT_ALL_TYPES, dtype: object\n"
     ]
    }
   ],
   "source": [
    "#### Read in From CSV ####\n",
    "sales = pd.read_csv('sales.csv')\n",
    "print(\"the shape of sale is {}\".format(sales.shape))\n",
    "print(\"First three columns are {}\".format(sales.columns[:3]))\n",
    "print(\"Fist five rows are \\n{}\".format(sales['1995_COUNT_ALL_TYPES'].head()))"
   ]
  },
  {
   "cell_type": "markdown",
   "metadata": {},
   "source": [
    "### Scikit-Learn"
   ]
  },
  {
   "cell_type": "code",
   "execution_count": 8,
   "metadata": {
    "collapsed": false
   },
   "outputs": [
    {
     "name": "stdout",
     "output_type": "stream",
     "text": [
      "The shape of diabetes data is (442, 10)\n"
     ]
    },
    {
     "data": {
      "text/plain": [
       "array([[ 0.03807591,  0.05068012,  0.06169621, ..., -0.00259226,\n",
       "         0.01990842, -0.01764613],\n",
       "       [-0.00188202, -0.04464164, -0.05147406, ..., -0.03949338,\n",
       "        -0.06832974, -0.09220405],\n",
       "       [ 0.08529891,  0.05068012,  0.04445121, ..., -0.00259226,\n",
       "         0.00286377, -0.02593034],\n",
       "       ..., \n",
       "       [ 0.04170844,  0.05068012, -0.01590626, ..., -0.01107952,\n",
       "        -0.04687948,  0.01549073],\n",
       "       [-0.04547248, -0.04464164,  0.03906215, ...,  0.02655962,\n",
       "         0.04452837, -0.02593034],\n",
       "       [-0.04547248, -0.04464164, -0.0730303 , ..., -0.03949338,\n",
       "        -0.00421986,  0.00306441]])"
      ]
     },
     "execution_count": 8,
     "metadata": {},
     "output_type": "execute_result"
    }
   ],
   "source": [
    "#### Load Dataset ####\n",
    "from sklearn.datasets import load_diabetes\n",
    "diabetes = load_diabetes()\n",
    "print(\"The shape of diabetes data is {}\".format(diabetes.data.shape))\n",
    "diabetes.data"
   ]
  },
  {
   "cell_type": "code",
   "execution_count": 9,
   "metadata": {
    "collapsed": false
   },
   "outputs": [
    {
     "data": {
      "text/plain": [
       "array([  80.73490856, -195.84197988,  474.68083473,  371.06688824,\n",
       "       -952.26675602,  611.63783483,  174.40777144,  159.78382579,\n",
       "        832.01569658,   12.04749505])"
      ]
     },
     "execution_count": 9,
     "metadata": {},
     "output_type": "execute_result"
    }
   ],
   "source": [
    "#### Model Evaluation ####\n",
    "from sklearn.cross_validation import train_test_split\n",
    "X_train, X_test, y_train, y_test  = train_test_split(diabetes.data, diabetes.target, random_state = 50)\n",
    "from sklearn.linear_model import LinearRegression\n",
    "lr = LinearRegression()\n",
    "lr.fit(X_train, y_train)\n",
    "LinearRegression(copy_X = True, fit_intercept = True, normalize = False)\n",
    "lr.coef_"
   ]
  },
  {
   "cell_type": "code",
   "execution_count": 10,
   "metadata": {
    "collapsed": false
   },
   "outputs": [
    {
     "data": {
      "text/plain": [
       "array([  71.96974998,   82.55916305,  265.71560021,   79.37396336,\n",
       "         72.48674613,   47.01580194,  149.11263906,  185.36563936,\n",
       "         94.88688296,  132.08984366])"
      ]
     },
     "execution_count": 10,
     "metadata": {},
     "output_type": "execute_result"
    }
   ],
   "source": [
    "#### Prediction ####\n",
    "y_pred = lr.predict(X_test)\n",
    "y_pred[:10]"
   ]
  },
  {
   "cell_type": "code",
   "execution_count": 11,
   "metadata": {
    "collapsed": false
   },
   "outputs": [
    {
     "data": {
      "text/plain": [
       "0.48699089712593369"
      ]
     },
     "execution_count": 11,
     "metadata": {},
     "output_type": "execute_result"
    }
   ],
   "source": [
    "#### R2 ####\n",
    "lr.score(X_test, y_test)"
   ]
  },
  {
   "cell_type": "markdown",
   "metadata": {},
   "source": [
    "### NetCDF4"
   ]
  },
  {
   "cell_type": "code",
   "execution_count": 12,
   "metadata": {
    "collapsed": false
   },
   "outputs": [
    {
     "data": {
      "text/plain": [
       "['area',\n",
       " 'lat',\n",
       " 'lat_bnds',\n",
       " 'lon',\n",
       " 'lon_bnds',\n",
       " 'msk_rgn',\n",
       " 'plev',\n",
       " 'pr',\n",
       " 'tas',\n",
       " 'time',\n",
       " 'time_bnds',\n",
       " 'ua']"
      ]
     },
     "execution_count": 12,
     "metadata": {},
     "output_type": "execute_result"
    }
   ],
   "source": [
    "#### Read in Dataset ####\n",
    "import netCDF4 as nc\n",
    "dataset = nc.Dataset('sresa1b_ncar_ccsm3-example.nc', 'r')\n",
    "variables = [var for var in dataset.variables]\n",
    "variables"
   ]
  },
  {
   "cell_type": "code",
   "execution_count": 13,
   "metadata": {
    "collapsed": false
   },
   "outputs": [
    {
     "name": "stdout",
     "output_type": "stream",
     "text": [
      "Standard Name: precipitation_flux\n",
      "Missing Value: 1.0000000200408773e+20\n",
      "Number of Dimensions: 3\n",
      "Shape of Precipitation: (1, 128, 256)\n"
     ]
    },
    {
     "data": {
      "text/plain": [
       "array([[  8.50919207e-07,   8.01471970e-07,   7.74396426e-07,\n",
       "          7.74230614e-07,   7.47181844e-07,   7.21426375e-07,\n",
       "          7.19294349e-07,   6.99790974e-07,   6.83397502e-07,\n",
       "          6.74683179e-07]], dtype=float32)"
      ]
     },
     "execution_count": 13,
     "metadata": {},
     "output_type": "execute_result"
    }
   ],
   "source": [
    "#### Attributes of netCDF4 ####\n",
    "precipitation = dataset.variables['pr']\n",
    "print(\"Standard Name: {}\".format(precipitation.standard_name))\n",
    "print(\"Missing Value: {}\".format(precipitation.missing_value))\n",
    "print(\"Number of Dimensions: {}\".format(precipitation.ndim))\n",
    "print(\"Shape of Precipitation: {}\".format(precipitation.shape))\n",
    "precipitation[:, 1, :10]"
   ]
  },
  {
   "cell_type": "code",
   "execution_count": 14,
   "metadata": {
    "collapsed": true
   },
   "outputs": [],
   "source": [
    "#### Create a netCDF4 File ####\n",
    "import numpy as np\n",
    "time = np.arange(10)\n",
    "lat = 54 + np.random.randn(8)\n",
    "lon = np.random.randn(6)\n",
    "data = np.random.randn(480).reshape(10, 8, 6)\n",
    "output = nc.Dataset('test_output.nc', 'w')\n",
    "#### Create Dimensions: time, latitude, longitude ####\n",
    "output.createDimension('time', 10)\n",
    "output.createDimension('lat', 8)\n",
    "output.createDimension('lon', 6)\n",
    "#### Declare Variable for Time ####\n",
    "time_var = output.createVariable('time', 'f4', ('time',))\n",
    "time_var[:] = time\n",
    "#### Declare Variable for Space_Y (Latitude)\n",
    "lat_var = output.createVariable('lat', 'f4', ('lat',))\n",
    "lat_var[:] = lat\n",
    "#### Declare Variable for Space_X (Longitude)\n",
    "lon_var = output.createVariable('lon', 'f4', ('lon',))\n",
    "lon_var[:] = lon\n",
    "#### Create Variable based on Declared Dimensions ####\n",
    "var = output.createVariable('test', 'f8', ('time', 'lat', 'lon'))\n",
    "var[:] = data\n",
    "#### Specify Time Variable Detail ####\n",
    "time_var.standard_name = 'Time'\n",
    "time_var.units = 'days since 2015-01-01 00:00:00'\n",
    "time_var.calendar = 'gregorian'"
   ]
  },
  {
   "cell_type": "code",
   "execution_count": 15,
   "metadata": {
    "collapsed": true
   },
   "outputs": [],
   "source": [
    "#### Close netCDF4 Dataset ####\n",
    "output.close()"
   ]
  },
  {
   "cell_type": "markdown",
   "metadata": {},
   "source": [
    "### SciPy"
   ]
  },
  {
   "cell_type": "code",
   "execution_count": 16,
   "metadata": {
    "collapsed": false,
    "scrolled": true
   },
   "outputs": [
    {
     "data": {
      "text/plain": [
       "(512, 512)"
      ]
     },
     "execution_count": 16,
     "metadata": {},
     "output_type": "execute_result"
    }
   ],
   "source": [
    "#### Load Image ####\n",
    "from scipy.misc import imread, imsave, ascent\n",
    "import matplotlib.pyplot as plt\n",
    "image_data = ascent()\n",
    "image_data.shape"
   ]
  },
  {
   "cell_type": "code",
   "execution_count": 17,
   "metadata": {
    "collapsed": false
   },
   "outputs": [],
   "source": [
    "#### Add Noise ####\n",
    "noise_img = image_data +  image_data.std() * np.random.random(image_data.shape)\n",
    "imsave('noise_img.png', noise_img)\n",
    "plt.imshow(noise_img)\n",
    "plt.show()"
   ]
  },
  {
   "cell_type": "code",
   "execution_count": 18,
   "metadata": {
    "collapsed": false
   },
   "outputs": [],
   "source": [
    "#### Apply Gaussian Filter ####\n",
    "from scipy import ndimage\n",
    "gaussian_denoised = ndimage.gaussian_filter(noise_img, 3)\n",
    "imsave('gaussian_denoised.png', gaussian_denoised )\n",
    "plt.imshow(gaussian_denoised)\n",
    "plt.show()"
   ]
  },
  {
   "cell_type": "code",
   "execution_count": 19,
   "metadata": {
    "collapsed": true
   },
   "outputs": [],
   "source": [
    "#### Apply Uniform Filter ####\n",
    "uniform_denoised = ndimage.uniform_filter(noise_img)\n",
    "imsave('uniform_denoised.png', uniform_denoised)\n",
    "plt.imshow(gaussian_denoised)\n",
    "plt.show()"
   ]
  }
 ],
 "metadata": {
  "kernelspec": {
   "display_name": "Python 3",
   "language": "python",
   "name": "python3"
  },
  "language_info": {
   "codemirror_mode": {
    "name": "ipython",
    "version": 3
   },
   "file_extension": ".py",
   "mimetype": "text/x-python",
   "name": "python",
   "nbconvert_exporter": "python",
   "pygments_lexer": "ipython3",
   "version": "3.5.1"
  }
 },
 "nbformat": 4,
 "nbformat_minor": 0
}
