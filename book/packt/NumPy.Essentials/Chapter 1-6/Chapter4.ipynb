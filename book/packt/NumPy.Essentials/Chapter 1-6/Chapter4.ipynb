{
 "cells": [
  {
   "cell_type": "markdown",
   "metadata": {},
   "source": [
    "### Strides"
   ]
  },
  {
   "cell_type": "code",
   "execution_count": 1,
   "metadata": {
    "collapsed": false
   },
   "outputs": [
    {
     "name": "stdout",
     "output_type": "stream",
     "text": [
      "x =  [0 1 2 3 4 5 6 7]\n",
      "x.strides =  (1,)\n",
      "<memory at 0x0000000004E79408>\n"
     ]
    }
   ],
   "source": [
    "import numpy as np\n",
    "#### Print out Strides ####\n",
    "x = np.arange(8, dtype = np.int8)\n",
    "print(\"x = \", x)\n",
    "print(\"x.strides = \", x.strides)\n",
    "print(str(x.data))"
   ]
  },
  {
   "cell_type": "code",
   "execution_count": 2,
   "metadata": {
    "collapsed": false
   },
   "outputs": [
    {
     "name": "stdout",
     "output_type": "stream",
     "text": [
      "x =  [[0 1 2 3]\n",
      " [4 5 6 7]]\n",
      "x.strides =  (4, 1)\n",
      "<memory at 0x0000000004E727E0>\n"
     ]
    }
   ],
   "source": [
    "#### Change the array shape ####\n",
    "x.shape = 2, 4\n",
    "print(\"x = \", x)\n",
    "print(\"x.strides = \", x.strides)\n",
    "print(str(x.data))"
   ]
  },
  {
   "cell_type": "code",
   "execution_count": 3,
   "metadata": {
    "collapsed": false
   },
   "outputs": [
    {
     "name": "stdout",
     "output_type": "stream",
     "text": [
      "x =  [[[0 1]\n",
      "  [2 3]\n",
      "  [4 5]\n",
      "  [6 7]]]\n",
      "x.strides =  (8, 2, 1)\n",
      "<memory at 0x000000000423F5E8>\n"
     ]
    }
   ],
   "source": [
    "#### Change the array shape again ####\n",
    "x.shape = 1,4,2\n",
    "print(\"x = \", x)\n",
    "print(\"x.strides = \", x.strides)\n",
    "print(str(x.data))"
   ]
  },
  {
   "cell_type": "code",
   "execution_count": 4,
   "metadata": {
    "collapsed": false
   },
   "outputs": [
    {
     "name": "stdout",
     "output_type": "stream",
     "text": [
      "x.shape:  (10000,) ; y.shape (10000,)\n",
      "x == y:  [ True  True  True ...,  True  True  True]\n"
     ]
    }
   ],
   "source": [
    "#### Create Two Arrays and Compare Shapes ####\n",
    "x = np.ones((10000,))\n",
    "y = np.ones((10000 * 100, ))[::100]\n",
    "print(\"x.shape: \", x.shape, \"; y.shape\", y.shape)\n",
    "print(\"x == y: \", x == y)"
   ]
  },
  {
   "cell_type": "code",
   "execution_count": 5,
   "metadata": {
    "collapsed": false
   },
   "outputs": [
    {
     "data": {
      "text/plain": [
       "  C_CONTIGUOUS : True\n",
       "  F_CONTIGUOUS : True\n",
       "  OWNDATA : True\n",
       "  WRITEABLE : True\n",
       "  ALIGNED : True\n",
       "  UPDATEIFCOPY : False"
      ]
     },
     "execution_count": 5,
     "metadata": {},
     "output_type": "execute_result"
    }
   ],
   "source": [
    "#### Print Memory Layout of x ####\n",
    "x.flags"
   ]
  },
  {
   "cell_type": "code",
   "execution_count": 6,
   "metadata": {
    "collapsed": false
   },
   "outputs": [
    {
     "data": {
      "text/plain": [
       "  C_CONTIGUOUS : False\n",
       "  F_CONTIGUOUS : False\n",
       "  OWNDATA : False\n",
       "  WRITEABLE : True\n",
       "  ALIGNED : True\n",
       "  UPDATEIFCOPY : False"
      ]
     },
     "execution_count": 6,
     "metadata": {},
     "output_type": "execute_result"
    }
   ],
   "source": [
    "#### Print Memory Layout of y ####\n",
    "y.flags"
   ]
  },
  {
   "cell_type": "code",
   "execution_count": 7,
   "metadata": {
    "collapsed": false
   },
   "outputs": [
    {
     "name": "stdout",
     "output_type": "stream",
     "text": [
      "x.strides:  (8,) y.strides:  (800,)\n"
     ]
    }
   ],
   "source": [
    "#### Print out the Strides ####\n",
    "print(\"x.strides: \", x.strides, \"y.strides: \", y.strides)"
   ]
  },
  {
   "cell_type": "code",
   "execution_count": 8,
   "metadata": {
    "collapsed": false
   },
   "outputs": [
    {
     "name": "stdout",
     "output_type": "stream",
     "text": [
      "The slowest run took 7.65 times longer than the fastest. This could mean that an intermediate result is being cached \n",
      "100000 loops, best of 3: 6.88 µs per loop\n",
      "10000 loops, best of 3: 27.7 µs per loop\n"
     ]
    }
   ],
   "source": [
    "#### Compare Performance between Arrays with Different Strides ####\n",
    "%timeit x.sum()\n",
    "%timeit y.sum()"
   ]
  },
  {
   "cell_type": "markdown",
   "metadata": {},
   "source": [
    "### Structure Array"
   ]
  },
  {
   "cell_type": "code",
   "execution_count": 9,
   "metadata": {
    "collapsed": false
   },
   "outputs": [
    {
     "data": {
      "text/plain": [
       "array([(1, 0.5, b'NumPy'), (10, -0.5, b'Essential')], \n",
       "      dtype=[('f0', '<i4'), ('f1', '<f4'), ('f2', 'S10')])"
      ]
     },
     "execution_count": 9,
     "metadata": {},
     "output_type": "execute_result"
    }
   ],
   "source": [
    "#### Initialize a Structure Array ####\n",
    "x = np.empty((2,), dtype = ('i4  ,f4,a10'))\n",
    "x[:] = [(1,0.5, 'NumPy'), (10,-0.5, 'Essential')]\n",
    "x"
   ]
  },
  {
   "cell_type": "code",
   "execution_count": 10,
   "metadata": {
    "collapsed": false
   },
   "outputs": [
    {
     "name": "stdout",
     "output_type": "stream",
     "text": [
      "(1, 0.5, b'NumPy')\n",
      "[b'NumPy' b'Essential']\n"
     ]
    }
   ],
   "source": [
    "#### Retrieve the Values from Structure Array ####\n",
    "print(x[0])\n",
    "print(x['f2'])"
   ]
  },
  {
   "cell_type": "code",
   "execution_count": 11,
   "metadata": {
    "collapsed": false
   },
   "outputs": [
    {
     "name": "stdout",
     "output_type": "stream",
     "text": [
      "y is [ 1 10]\n",
      "y times 10: [ 10 100]\n",
      "y add 0.5: [ 10 100]\n",
      "the original x change to [(10, 0.5, b'NumPy') (100, -0.5, b'Essential')]\n"
     ]
    }
   ],
   "source": [
    "#### How Change View Affect Original Structure Array ####\n",
    "y = x['f0']  \n",
    "print(\"y is {}\".format(y))\n",
    "y[:] = y * 10\n",
    "print(\"y times 10: {}\".format(y))\n",
    "y[:] = y + 0.5\n",
    "print(\"y add 0.5: {}\".format(y))\n",
    "print(\"the original x change to {}\".format(x))"
   ]
  },
  {
   "cell_type": "code",
   "execution_count": 12,
   "metadata": {
    "collapsed": false
   },
   "outputs": [
    {
     "data": {
      "text/plain": [
       "array([([1, 1, 1], [[1.0, 1.0, 1.0], [1.0, 1.0, 1.0]]),\n",
       "       ([1, 1, 1], [[1.0, 1.0, 1.0], [1.0, 1.0, 1.0]])], \n",
       "      dtype=[('f0', '<i4', (3,)), ('f1', '<f4', (2, 3))])"
      ]
     },
     "execution_count": 12,
     "metadata": {},
     "output_type": "execute_result"
    }
   ],
   "source": [
    "#### Structure Contains Multi-Dimension Array ####\n",
    "z = np.ones((2,), dtype = ('3i4, (2,3)f4'))\n",
    "z"
   ]
  },
  {
   "cell_type": "code",
   "execution_count": 13,
   "metadata": {
    "collapsed": false
   },
   "outputs": [
    {
     "name": "stdout",
     "output_type": "stream",
     "text": [
      "Original field names are: ('f0', 'f1', 'f2')\n",
      "After alter field names, x: [(10, 0.5, b'NumPy') (100, -0.5, b'Essential')]\n"
     ]
    }
   ],
   "source": [
    "#### Specify Field Name ####\n",
    "print(\"Original field names are: {}\".format(x.dtype.names))\n",
    "x.dtype.names = ('id', 'value', 'note')\n",
    "print(\"After alter field names, x: {}\".format(x))"
   ]
  },
  {
   "cell_type": "code",
   "execution_count": 14,
   "metadata": {
    "collapsed": false
   },
   "outputs": [
    {
     "name": "stdout",
     "output_type": "stream",
     "text": [
      "[(0, [0.0, 0.0]) (0, [0.0, 0.0])] [('id', '<i4'), ('value', '<f4', (2,))]\n",
      "[(0, [0.0, 0.0]) (0, [0.0, 0.0])] [('id', '<i4'), ('value', '<f4', (2,))]\n"
     ]
    }
   ],
   "source": [
    "#### Two Ways to Define dtype in Structure Array ####\n",
    "list_ex = np.zeros((2,), dtype = [('id', 'i4'), ('value', 'f4', (2,))])\n",
    "print(list_ex, list_ex.dtype)\n",
    "dict_ex = np.zeros((2,), dtype = {'names':['id',  'value'  ], 'formats':['i4', '2f4']})\n",
    "print(dict_ex, dict_ex.dtype)                    "
   ]
  },
  {
   "cell_type": "code",
   "execution_count": 15,
   "metadata": {
    "collapsed": false
   },
   "outputs": [
    {
     "data": {
      "text/plain": [
       "array([(10, b'NumPy'), (100, b'Essential')], \n",
       "      dtype=[('id', '<i4'), ('note', 'S10')])"
      ]
     },
     "execution_count": 15,
     "metadata": {},
     "output_type": "execute_result"
    }
   ],
   "source": [
    "#### Access Multiple Fields ####\n",
    "x[['id', 'note']]"
   ]
  },
  {
   "cell_type": "markdown",
   "metadata": {},
   "source": [
    "### Dates and time in NumPy"
   ]
  },
  {
   "cell_type": "code",
   "execution_count": 16,
   "metadata": {
    "collapsed": false
   },
   "outputs": [
    {
     "name": "stdout",
     "output_type": "stream",
     "text": [
      "datetime64[D] datetime64[M]\n"
     ]
    }
   ],
   "source": [
    "#### dype with numpy.datetime64 ####\n",
    "x = np.datetime64('2015-04-01')\n",
    "y = np.datetime64('2015-04')\n",
    "print(x.dtype, y.dtype)"
   ]
  },
  {
   "cell_type": "code",
   "execution_count": 17,
   "metadata": {
    "collapsed": false
   },
   "outputs": [
    {
     "name": "stdout",
     "output_type": "stream",
     "text": [
      "2015-04-01 datetime64[D]\n"
     ]
    }
   ],
   "source": [
    "#### Change the Time Unit ####\n",
    "y = np.datetime64('2015-04', 'D')\n",
    "print(y, y.dtype)"
   ]
  },
  {
   "cell_type": "code",
   "execution_count": 18,
   "metadata": {
    "collapsed": false
   },
   "outputs": [
    {
     "data": {
      "text/plain": [
       "array(['2015-01', '2015-02', '2015-03'], dtype='datetime64[M]')"
      ]
     },
     "execution_count": 18,
     "metadata": {},
     "output_type": "execute_result"
    }
   ],
   "source": [
    "#### np.arange with datetime64 ####\n",
    "x = np.arange('2015-01', '2015-04', dtype = 'datetime64[M]')\n",
    "x"
   ]
  },
  {
   "cell_type": "code",
   "execution_count": 19,
   "metadata": {
    "collapsed": false
   },
   "outputs": [
    {
     "ename": "TypeError",
     "evalue": "Cannot parse \"2015-04-01\" as unit 's' using casting rule 'same_kind'",
     "output_type": "error",
     "traceback": [
      "\u001b[1;31m---------------------------------------------------------------------------\u001b[0m",
      "\u001b[1;31mTypeError\u001b[0m                                 Traceback (most recent call last)",
      "\u001b[1;32m<ipython-input-19-548c78b8ea17>\u001b[0m in \u001b[0;36m<module>\u001b[1;34m()\u001b[0m\n\u001b[0;32m      1\u001b[0m \u001b[1;31m#### Inpropriate Unit Conversion ####\u001b[0m\u001b[1;33m\u001b[0m\u001b[1;33m\u001b[0m\u001b[0m\n\u001b[1;32m----> 2\u001b[1;33m \u001b[0my\u001b[0m \u001b[1;33m=\u001b[0m \u001b[0mnp\u001b[0m\u001b[1;33m.\u001b[0m\u001b[0mdatetime64\u001b[0m\u001b[1;33m(\u001b[0m\u001b[1;34m'2015-04-01'\u001b[0m\u001b[1;33m,\u001b[0m \u001b[1;34m's'\u001b[0m\u001b[1;33m)\u001b[0m\u001b[1;33m\u001b[0m\u001b[0m\n\u001b[0m",
      "\u001b[1;31mTypeError\u001b[0m: Cannot parse \"2015-04-01\" as unit 's' using casting rule 'same_kind'"
     ]
    }
   ],
   "source": [
    "#### Inpropriate Unit Conversion, Should Fail ####\n",
    "y = np.datetime64('2015-04-01', 's') "
   ]
  },
  {
   "cell_type": "code",
   "execution_count": 20,
   "metadata": {
    "collapsed": false
   },
   "outputs": [
    {
     "data": {
      "text/plain": [
       "array([ 0, 31, 59], dtype='timedelta64[D]')"
      ]
     },
     "execution_count": 20,
     "metadata": {},
     "output_type": "execute_result"
    }
   ],
   "source": [
    "#### Arithmetic Operations ####\n",
    "y = np.datetime64('2015-01-01')\n",
    "x - y"
   ]
  },
  {
   "cell_type": "code",
   "execution_count": 21,
   "metadata": {
    "collapsed": false
   },
   "outputs": [
    {
     "name": "stdout",
     "output_type": "stream",
     "text": [
      "2016-01\n",
      "7.0\n"
     ]
    }
   ],
   "source": [
    "#### datetime64 an timedelta64 ####\n",
    "print(np.datetime64('2015') + np.timedelta64(12, 'M'))\n",
    "print(np.timedelta64(1, 'W') / np.timedelta64(1, 'D'))"
   ]
  },
  {
   "cell_type": "code",
   "execution_count": 22,
   "metadata": {
    "collapsed": false
   },
   "outputs": [
    {
     "data": {
      "text/plain": [
       "[datetime.date(2015, 1, 1),\n",
       " datetime.date(2015, 2, 1),\n",
       " datetime.date(2015, 3, 1)]"
      ]
     },
     "execution_count": 22,
     "metadata": {},
     "output_type": "execute_result"
    }
   ],
   "source": [
    "#### numpy.datetime64 to Python Datetime List ####\n",
    "x.tolist()\n",
    "#### Use List Conprehension ####\n",
    "[element.item() for element in x]"
   ]
  },
  {
   "cell_type": "markdown",
   "metadata": {},
   "source": [
    "### File I/O"
   ]
  },
  {
   "cell_type": "code",
   "execution_count": 23,
   "metadata": {
    "collapsed": false
   },
   "outputs": [
    {
     "data": {
      "text/plain": [
       "rec.array([(0, 0.5922898650169373, b'2014-06-20'),\n",
       " (1, 0.9857735633850098, b'2014-03-30'),\n",
       " (2, 0.6873448491096497, b'2014-12-15'),\n",
       " (3, 0.19049392640590668, b'2014-02-05'),\n",
       " (4, 0.24652297794818878, b'2014-12-01')], \n",
       "          dtype=[('id', '<i4'), ('value', '<f4'), ('date', '|S10')])"
      ]
     },
     "execution_count": 23,
     "metadata": {},
     "output_type": "execute_result"
    }
   ],
   "source": [
    "#### Initialize a Structure Array ####\n",
    "id = np.arange(1000)\n",
    "value = np.random.random(1000)\n",
    "day = np.random.random_integers(0, 365, 1000) * np.timedelta64(1,'D')\n",
    "date = np.datetime64('2014-01-01') + day\n",
    "rec_array = np.core.records.fromarrays([id, value, date], names='id, value, date', formats='i4, f4, a10')\n",
    "rec_array[:5]"
   ]
  },
  {
   "cell_type": "code",
   "execution_count": 24,
   "metadata": {
    "collapsed": true
   },
   "outputs": [],
   "source": [
    "#### Save it to Disc ####\n",
    "np.savetxt('./record.csv', rec_array, fmt='%i,%.4f,%s')"
   ]
  },
  {
   "cell_type": "code",
   "execution_count": 25,
   "metadata": {
    "collapsed": false
   },
   "outputs": [
    {
     "data": {
      "text/plain": [
       "array([(0, 0.5922999978065491, b\"b'2014-06-\"),\n",
       "       (1, 0.98580002784729, b\"b'2014-03-\"),\n",
       "       (2, 0.6873000264167786, b\"b'2014-12-\"),\n",
       "       (3, 0.19050000607967377, b\"b'2014-02-\"),\n",
       "       (4, 0.24650000035762787, b\"b'2014-12-\")], \n",
       "      dtype=[('f0', '<i4'), ('f1', '<f4'), ('f2', 'S10')])"
      ]
     },
     "execution_count": 25,
     "metadata": {},
     "output_type": "execute_result"
    }
   ],
   "source": [
    "#### Read from File ####\n",
    "read_array = np.genfromtxt('./record.csv', dtype='i4,f4,a10',  delimiter=',', skip_header=0)\n",
    "read_array[:5]"
   ]
  },
  {
   "cell_type": "code",
   "execution_count": 26,
   "metadata": {
    "collapsed": false
   },
   "outputs": [
    {
     "data": {
      "text/plain": [
       "masked_array(data = [(0, 0.5922999978065491, b\"b'2014-06-\", 0)\n",
       " (1, 0.98580002784729, b\"b'2014-03-\", 1)\n",
       " (2, 0.6873000264167786, b\"b'2014-12-\", 0)\n",
       " (3, 0.19050000607967377, b\"b'2014-02-\", 0)\n",
       " (4, 0.24650000035762787, b\"b'2014-12-\", 0)],\n",
       "             mask = [(False, False, False, False) (False, False, False, False)\n",
       " (False, False, False, False) (False, False, False, False)\n",
       " (False, False, False, False)],\n",
       "       fill_value = (999999, 1.0000000200408773e+20, b'N/A', 63),\n",
       "            dtype = [('id', '<i4'), ('value', '<f4'), ('date', 'S10'), ('mask', 'i1')])"
      ]
     },
     "execution_count": 26,
     "metadata": {},
     "output_type": "execute_result"
    }
   ],
   "source": [
    "#### Apply Mask ####\n",
    "from numpy.lib.recfunctions import append_fields \n",
    "read_array.dtype.names = ('id', 'value', 'date')\n",
    "mask = read_array['value'] >= 0.75\n",
    "read_array = append_fields (read_array, 'mask', data=mask, dtypes='i1')\n",
    "read_array[:5]"
   ]
  }
 ],
 "metadata": {
  "kernelspec": {
   "display_name": "Python 3",
   "language": "python",
   "name": "python3"
  },
  "language_info": {
   "codemirror_mode": {
    "name": "ipython",
    "version": 3
   },
   "file_extension": ".py",
   "mimetype": "text/x-python",
   "name": "python",
   "nbconvert_exporter": "python",
   "pygments_lexer": "ipython3",
   "version": "3.5.0"
  }
 },
 "nbformat": 4,
 "nbformat_minor": 0
}
