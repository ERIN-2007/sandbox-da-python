{
 "cells": [
  {
   "cell_type": "markdown",
   "metadata": {},
   "source": [
    "### NumPy ndaray intro"
   ]
  },
  {
   "cell_type": "code",
   "execution_count": 1,
   "metadata": {
    "collapsed": false
   },
   "outputs": [
    {
     "name": "stdout",
     "output_type": "stream",
     "text": [
      "x is [[1 2 3]\n",
      " [2 3 4]]\n",
      "The ndim of x is 2\n",
      "The shape of x is (2, 3)\n",
      "First element of x is 1\n",
      "The element in second row, third column of x is 4\n"
     ]
    }
   ],
   "source": [
    "#### Create A Simple NumPy Array ####\n",
    "import numpy as np\n",
    "x = np.array([[1,2,3],[2,3,4]])\n",
    "print(\"x is {}\".format(x))\n",
    "print(\"The ndim of x is {}\".format(x.ndim))\n",
    "print(\"The shape of x is {}\".format(x.shape))\n",
    "print(\"First element of x is {}\".format(x[0,0]))\n",
    "print(\"The element in second row, third column of x is {}\".format(x[1,2]))"
   ]
  },
  {
   "cell_type": "markdown",
   "metadata": {},
   "source": [
    "### Array indexing and slicing"
   ]
  },
  {
   "cell_type": "code",
   "execution_count": 2,
   "metadata": {
    "collapsed": false
   },
   "outputs": [
    {
     "name": "stdout",
     "output_type": "stream",
     "text": [
      "[  5.03471995e-01   8.91749865e-01   1.02883798e-01   1.64560742e-01\n",
      "   8.76963197e-01   2.03611053e-01   1.28733747e-01   8.41128165e-01\n",
      "   8.35835525e-01   5.20045252e-01   8.86228257e-01   5.03290114e-01\n",
      "   1.16633215e-01   2.71372766e-02   3.20686639e-01   7.23655052e-01\n",
      "   4.83934130e-01   5.40094830e-01   9.37639361e-01   3.49679277e-01\n",
      "   8.72526658e-01   6.32972876e-01   3.40425022e-01   8.62455618e-01\n",
      "   2.72425316e-01   2.11632942e-01   4.32971044e-02   2.19284321e-01\n",
      "   5.17195581e-01   2.74741769e-01   3.02931424e-01   4.72919554e-01\n",
      "   7.29650494e-01   2.21911520e-01   9.49367548e-01   4.38092839e-01\n",
      "   9.44657423e-01   7.34242053e-01   4.90064050e-02   3.57876262e-01\n",
      "   8.92879194e-01   8.48565235e-02   9.08106760e-01   4.59695128e-01\n",
      "   7.31239004e-01   1.66499450e-02   7.11984045e-01   7.56830214e-01\n",
      "   3.08339927e-01   7.04939474e-01   8.41253144e-02   1.91830037e-01\n",
      "   7.19777409e-02   5.13268706e-01   3.11356422e-01   7.42183252e-01\n",
      "   9.60852563e-01   3.01094327e-01   2.85180384e-01   9.01558414e-01\n",
      "   3.19610043e-01   8.57120427e-01   3.76609170e-01   2.02250651e-01\n",
      "   2.31309681e-01   6.83357444e-01   1.26048434e-01   1.11095787e-01\n",
      "   8.64597111e-01   6.97447070e-04   9.42503510e-01   5.35164863e-01\n",
      "   3.71105148e-01   1.66462212e-01   8.32760552e-02   7.19254561e-01\n",
      "   8.30530438e-01   8.29587347e-01   8.64543795e-01   8.21986322e-01\n",
      "   7.53982566e-01   4.27660234e-01   1.61725609e-01   2.97514062e-02\n",
      "   8.74273610e-01   9.78588424e-01   3.10954358e-01   3.41711526e-01\n",
      "   1.51548699e-01   9.15079508e-01   6.81006857e-01   2.68853152e-01\n",
      "   2.26320764e-01   8.99092609e-01   8.25817356e-02   7.25620508e-01\n",
      "   9.26635302e-01   4.44421118e-01   8.63541056e-01   7.30579928e-02]\n"
     ]
    }
   ],
   "source": [
    "#### Create Random Array ####\n",
    "x = np.random.random((100, 100))\n",
    "y = x[42, 87]\n",
    "k = 3\n",
    "print(x[k, :])"
   ]
  },
  {
   "cell_type": "code",
   "execution_count": 3,
   "metadata": {
    "collapsed": false
   },
   "outputs": [
    {
     "name": "stdout",
     "output_type": "stream",
     "text": [
      "  C_CONTIGUOUS : True\n",
      "  F_CONTIGUOUS : False\n",
      "  OWNDATA : True\n",
      "  WRITEABLE : True\n",
      "  ALIGNED : True\n",
      "  UPDATEIFCOPY : False\n"
     ]
    }
   ],
   "source": [
    "#### Print out Flag ####\n",
    "print(x.flags)"
   ]
  },
  {
   "cell_type": "code",
   "execution_count": 4,
   "metadata": {
    "collapsed": false
   },
   "outputs": [
    {
     "name": "stdout",
     "output_type": "stream",
     "text": [
      "c_array in Sum by Row: \n",
      "The slowest run took 5.81 times longer than the fastest. This could mean that an intermediate result is being cached \n",
      "100000 loops, best of 3: 9.13 µs per loop\n",
      "f_array in Sum by Row: \n",
      "1000 loops, best of 3: 214 µs per loop\n",
      "c_array in Sum by Column: \n",
      "The slowest run took 4.28 times longer than the fastest. This could mean that an intermediate result is being cached \n",
      "1000 loops, best of 3: 207 µs per loop\n",
      "f_array in Sum by Column: \n",
      "The slowest run took 5.86 times longer than the fastest. This could mean that an intermediate result is being cached \n",
      "100000 loops, best of 3: 8.83 µs per loop\n"
     ]
    }
   ],
   "source": [
    "#### Compare Performance ####\n",
    "c_array = np.random.rand(10000, 10000)\n",
    "f_array = np.asfortranarray(c_array)\n",
    "\n",
    "#### Customized Sum Function over Row/ Column ####\n",
    "def sum_row(x):\n",
    "    '''\n",
    "    Given an array `x`, return the sum of its zeroth row.\n",
    "    '''\n",
    "    return np.sum(x[0, :])\n",
    "\n",
    "def sum_col(x):\n",
    "    '''\n",
    "    Given an array `x`, return the sum of its zeroth column.\n",
    "    '''\n",
    "    return np.sum(x[:, 0] )\n",
    "\n",
    "#### Time it ####\n",
    "print(\"c_array in Sum by Row: \")\n",
    "%timeit sum_row(c_array)\n",
    "print(\"f_array in Sum by Row: \")\n",
    "%timeit sum_row(f_array)\n",
    "print(\"c_array in Sum by Column: \")\n",
    "%timeit sum_col(c_array)\n",
    "print(\"f_array in Sum by Column: \")\n",
    "%timeit sum_col(f_array)"
   ]
  },
  {
   "cell_type": "markdown",
   "metadata": {},
   "source": [
    "### Views and copies"
   ]
  },
  {
   "cell_type": "code",
   "execution_count": 5,
   "metadata": {
    "collapsed": false
   },
   "outputs": [
    {
     "name": "stdout",
     "output_type": "stream",
     "text": [
      "x and y share memory: \n",
      "x[:5, :] after y changed: \n",
      "[[ 0.  0.  0.  0.  0.  0.  0.  0.  0.  0.]\n",
      " [ 0.  0.  0.  0.  0.  0.  0.  0.  0.  0.]\n",
      " [ 0.  0.  0.  0.  0.  0.  0.  0.  0.  0.]\n",
      " [ 0.  0.  0.  0.  0.  0.  0.  0.  0.  0.]\n",
      " [ 0.  0.  0.  0.  0.  0.  0.  0.  0.  0.]]\n"
     ]
    }
   ],
   "source": [
    "#### Views ####\n",
    "x = np.random.rand(100,10)\n",
    "y = x[:5, :]\n",
    "print(\"x and y share memory: \".format(np.may_share_memory(x, y)))\n",
    "y[:] = 0\n",
    "print(\"x[:5, :] after y changed: \\n{}\".format(x[:5, :]))"
   ]
  },
  {
   "cell_type": "code",
   "execution_count": 6,
   "metadata": {
    "collapsed": false
   },
   "outputs": [
    {
     "name": "stdout",
     "output_type": "stream",
     "text": [
      "x and y share memory: \n",
      "x[:5, :] after y changed: \n",
      "[[ 0.47463425  0.8031529   0.18785074  0.62460599  0.17458518  0.46597905\n",
      "   0.84235506  0.95786611  0.05266277  0.72085896]\n",
      " [ 0.98322978  0.09909741  0.6492113   0.00672211  0.4343628   0.3269407\n",
      "   0.56942013  0.05229945  0.92501493  0.51901632]\n",
      " [ 0.82607589  0.66593375  0.58481412  0.80602185  0.20825399  0.56315108\n",
      "   0.81324281  0.74051972  0.38744286  0.43563824]\n",
      " [ 0.47629267  0.99664824  0.06389294  0.94004147  0.24364743  0.42506208\n",
      "   0.72606552  0.94755477  0.67568164  0.69948541]\n",
      " [ 0.50769081  0.57476308  0.47230866  0.13160279  0.0289507   0.05201885\n",
      "   0.33690584  0.85233071  0.44960669  0.70500077]]\n"
     ]
    }
   ],
   "source": [
    "#### Copies ####\n",
    "x = np.random.rand(100,10)\n",
    "y = np.empty([5, 10])\n",
    "y[:] = x[:5, :]\n",
    "print(\"x and y share memory: \".format(np.may_share_memory(x, y)))\n",
    "y[:] = 0\n",
    "print(\"x[:5, :] after y changed: \\n{}\".format(x[:5, :]))"
   ]
  },
  {
   "cell_type": "markdown",
   "metadata": {},
   "source": [
    "### Creating arrays"
   ]
  },
  {
   "cell_type": "code",
   "execution_count": 7,
   "metadata": {
    "collapsed": false
   },
   "outputs": [
    {
     "name": "stdout",
     "output_type": "stream",
     "text": [
      "x1 is [1 2 3]\n",
      "y1 is ['hello' 'world']\n",
      "x2 is range(0, 5)\n",
      "y2 is [0 1 2 3 4]\n",
      "x3 is [0 1 2 3 4]\n",
      "ndim of x4 is 2\n",
      "shape of x4 is (2, 3)\n"
     ]
    }
   ],
   "source": [
    "#### Creating arrays from lists ####\n",
    "x1 = np.array([1, 2, 3])\n",
    "y1 = np.array(['hello', 'world'])\n",
    "print(\"x1 is {}\".format(x1))\n",
    "print(\"y1 is {}\".format(y1))\n",
    "\n",
    "#### Creating arrays from range ####\n",
    "x2 = range(5)\n",
    "y2 = np.array(x2)\n",
    "print(\"x2 is {}\".format(x2))\n",
    "print(\"y2 is {}\".format(y2))\n",
    "x3 = np.arange(5)\n",
    "print(\"x3 is {}\".format(x3))\n",
    "\n",
    "#### Multi-dimension Array ####\n",
    "x4 = np.array([[1, 2, 3],[4, 5, 6]])\n",
    "print(\"ndim of x4 is {}\".format(x4.ndim))\n",
    "print(\"shape of x4 is {}\".format(x4.shape))"
   ]
  },
  {
   "cell_type": "code",
   "execution_count": 8,
   "metadata": {
    "collapsed": false
   },
   "outputs": [
    {
     "name": "stdout",
     "output_type": "stream",
     "text": [
      "Shape of x is (2, 2, 2)\n",
      "Shape of y is (2, 3, 4)\n",
      "[ 8  4  6  3  3  2  2 10 10  7]\n"
     ]
    }
   ],
   "source": [
    "#### Creating random arrays ####\n",
    "x = np.random.rand(2, 2, 2)\n",
    "print(\"Shape of x is {}\".format(x.shape))\n",
    "shape_tuple = (2, 3, 4)\n",
    "y = np.random.random(shape_tuple)\n",
    "print(\"Shape of y is {}\".format(y.shape))\n",
    "\n",
    "#### Optional Parameter for Random ####\n",
    "LOW, HIGH = 1, 11\n",
    "SIZE = 10\n",
    "x = np.random.randint(LOW, HIGH, size=SIZE) \n",
    "print(x)"
   ]
  },
  {
   "cell_type": "markdown",
   "metadata": {},
   "source": [
    "### Array dtypes"
   ]
  },
  {
   "cell_type": "code",
   "execution_count": 9,
   "metadata": {
    "collapsed": false
   },
   "outputs": [
    {
     "data": {
      "text/plain": [
       "dtype('float64')"
      ]
     },
     "execution_count": 9,
     "metadata": {},
     "output_type": "execute_result"
    }
   ],
   "source": [
    "#### Random Array ####\n",
    "x = np.random.random((10,10)) \n",
    "x.dtype "
   ]
  },
  {
   "cell_type": "code",
   "execution_count": 10,
   "metadata": {
    "collapsed": false
   },
   "outputs": [
    {
     "data": {
      "text/plain": [
       "dtype('int32')"
      ]
     },
     "execution_count": 10,
     "metadata": {},
     "output_type": "execute_result"
    }
   ],
   "source": [
    "#### Array from Range ####\n",
    "x = np.array(range(10))\n",
    "x.dtype "
   ]
  },
  {
   "cell_type": "code",
   "execution_count": 11,
   "metadata": {
    "collapsed": false
   },
   "outputs": [
    {
     "data": {
      "text/plain": [
       "dtype('<U5')"
      ]
     },
     "execution_count": 11,
     "metadata": {},
     "output_type": "execute_result"
    }
   ],
   "source": [
    "#### String Arra ####\n",
    "x = np.array(['hello', 'world'])\n",
    "x.dtype "
   ]
  },
  {
   "cell_type": "code",
   "execution_count": 12,
   "metadata": {
    "collapsed": false
   },
   "outputs": [
    {
     "data": {
      "text/plain": [
       "dtype('int32')"
      ]
     },
     "execution_count": 12,
     "metadata": {},
     "output_type": "execute_result"
    }
   ],
   "source": [
    "#### numpy.ones() with int ####\n",
    "x = np.ones((10, 10), dtype=np.int)\n",
    "x.dtype"
   ]
  },
  {
   "cell_type": "code",
   "execution_count": 13,
   "metadata": {
    "collapsed": false
   },
   "outputs": [
    {
     "data": {
      "text/plain": [
       "dtype('S1')"
      ]
     },
     "execution_count": 13,
     "metadata": {},
     "output_type": "execute_result"
    }
   ],
   "source": [
    "#### numpy.zeros() with string ####\n",
    "x = np.zeros((10, 10), dtype='|S1')\n",
    "x.dtype"
   ]
  }
 ],
 "metadata": {
  "kernelspec": {
   "display_name": "Python 3",
   "language": "python",
   "name": "python3"
  },
  "language_info": {
   "codemirror_mode": {
    "name": "ipython",
    "version": 3
   },
   "file_extension": ".py",
   "mimetype": "text/x-python",
   "name": "python",
   "nbconvert_exporter": "python",
   "pygments_lexer": "ipython3",
   "version": "3.5.0"
  }
 },
 "nbformat": 4,
 "nbformat_minor": 0
}
