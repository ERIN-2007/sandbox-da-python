{
 "cells": [
  {
   "cell_type": "markdown",
   "metadata": {},
   "source": [
    "### Before Start: Plotting Function: show()"
   ]
  },
  {
   "cell_type": "code",
   "execution_count": 1,
   "metadata": {
    "collapsed": false
   },
   "outputs": [],
   "source": [
    "#### The Plotting Functions ####\n",
    "import matplotlib.pyplot as plt\n",
    "import numpy as np\n",
    "def show(ori_func, ft, sampling_period = 5):\n",
    "    n = len(ori_func)\n",
    "    interval = sampling_period / n\n",
    "    plt.subplot(2, 1, 1)\n",
    "    plt.plot(np.arange(0, sampling_period, interval), ori_func, 'black')\n",
    "    plt.xlabel('Time'), plt.ylabel('Amplitude')\n",
    "    plt.subplot(2,1,2)\n",
    "    frequency = np.arange(n / 2) / (n * interval)\n",
    "    nfft = abs(ft[range(int(n / 2))] / n )\n",
    "    plt.plot(frequency, nfft, 'red')\n",
    "    plt.xlabel('Freq (Hz)'), plt.ylabel('Amp. Spectrum')\n",
    "    plt.show()  "
   ]
  },
  {
   "cell_type": "markdown",
   "metadata": {},
   "source": [
    "### Signal Processing"
   ]
  },
  {
   "cell_type": "code",
   "execution_count": 2,
   "metadata": {
    "collapsed": false
   },
   "outputs": [],
   "source": [
    "#### Sine Signal ####\n",
    "time = np.arange(0, 5, .005)\n",
    "x = np.sin(2 * np.pi * 1 * time)\n",
    "y = np.fft.fft(x)\n",
    "show(x, y)  "
   ]
  },
  {
   "cell_type": "code",
   "execution_count": 3,
   "metadata": {
    "collapsed": true
   },
   "outputs": [],
   "source": [
    "#### Sine Signal with Different Frequency ####\n",
    "x2 = np.sin(2 * np.pi * 20 * time)\n",
    "x3 = np.sin(2 * np.pi * 60 * time)\n",
    "x += x2 + x3\n",
    "y = np.fft.fft(x)\n",
    "show(x, y)"
   ]
  },
  {
   "cell_type": "code",
   "execution_count": 4,
   "metadata": {
    "collapsed": true
   },
   "outputs": [],
   "source": [
    "#### Square Signal ####\n",
    "x = np.zeros(len(time))\n",
    "x[::20] = 1\n",
    "y = np.fft.fft(x)\n",
    "show(x, y)"
   ]
  },
  {
   "cell_type": "code",
   "execution_count": 5,
   "metadata": {
    "collapsed": true
   },
   "outputs": [],
   "source": [
    "#### Pulse Signal ####\n",
    "x = np.zeros(len(time))\n",
    "x[380:400] = np.arange(0, 1, .05)\n",
    "x[400:420] = np.arange(1, 0, -.05)\n",
    "y = np.fft.fft(x)\n",
    "show(x, y)"
   ]
  },
  {
   "cell_type": "code",
   "execution_count": 6,
   "metadata": {
    "collapsed": true
   },
   "outputs": [],
   "source": [
    "#### Random Signal ####\n",
    "x = np.random.random(100)\n",
    "y = np.fft.fft(x)\n",
    "show(x, y)"
   ]
  },
  {
   "cell_type": "markdown",
   "metadata": {},
   "source": [
    "### Fourier Transformation"
   ]
  },
  {
   "cell_type": "code",
   "execution_count": 7,
   "metadata": {
    "collapsed": false
   },
   "outputs": [
    {
     "data": {
      "text/plain": [
       "True"
      ]
     },
     "execution_count": 7,
     "metadata": {},
     "output_type": "execute_result"
    }
   ],
   "source": [
    "#### Fourier Equation ####\n",
    "x = np.random.random(500)\n",
    "n = len(x)\n",
    "m = np.arange(n)\n",
    "k = m.reshape((n, 1))\n",
    "M = np.exp(-2j * np.pi * k * m / n)\n",
    "y = np.dot(M, x)\n",
    "np.allclose(y, np.fft.fft(x))"
   ]
  },
  {
   "cell_type": "code",
   "execution_count": 8,
   "metadata": {
    "collapsed": false
   },
   "outputs": [
    {
     "name": "stdout",
     "output_type": "stream",
     "text": [
      "10 loops, best of 3: 32.1 ms per loop\n",
      "100000 loops, best of 3: 13 µs per loop\n"
     ]
    }
   ],
   "source": [
    "#### Compare Performance between Manual Calculation and np.fft ####\n",
    "%timeit np.dot(np.exp(-2j * np.pi * np.arange(n).reshape((n, 1)) * np.arange(n) / n), x)\n",
    "%timeit np.fft.fft(x)"
   ]
  },
  {
   "cell_type": "code",
   "execution_count": 9,
   "metadata": {
    "collapsed": false
   },
   "outputs": [
    {
     "name": "stdout",
     "output_type": "stream",
     "text": [
      "True\n",
      "True\n"
     ]
    }
   ],
   "source": [
    "#### iDFT Calculation ####\n",
    "M2 = np.exp(2j * np.pi * k * m / n)\n",
    "x2 = np.dot(y, M2) / n\n",
    "print(np.allclose(x, x2))\n",
    "print(np.allclose(x, np.fft.ifft(y)))"
   ]
  },
  {
   "cell_type": "code",
   "execution_count": 10,
   "metadata": {
    "collapsed": false
   },
   "outputs": [
    {
     "name": "stdout",
     "output_type": "stream",
     "text": [
      "a = [0 4 9 9 1 0 3 7 6 7], mean of a is 4.6\n",
      "A[0] / length = (4.6+0j)\n",
      "Both Positive and Negative terms of A: (-7.999999999999997+1.1546319456101628e-14j)\n"
     ]
    }
   ],
   "source": [
    "#### Components in numpy.fft ####\n",
    "a = np.random.randint(10, size = 10)\n",
    "print(\"a = {}, mean of a is {}\".format(a, a.mean()))\n",
    "A = np.fft.fft(a)\n",
    "print(\"A[0] / length = {}\".format(A[0] / 10))\n",
    "print(\"Both Positive and Negative terms of A: {}\".format(A[int(10 / 2)]))"
   ]
  },
  {
   "cell_type": "code",
   "execution_count": 11,
   "metadata": {
    "collapsed": false
   },
   "outputs": [
    {
     "data": {
      "text/plain": [
       "array([ -8.00000000 +1.15463195e-14j,  -2.55572809 -1.53884177e+00j,\n",
       "        -1.35410197 -7.69420884e+00j, -20.44427191 -3.63271264e-01j,\n",
       "         5.35410197 +1.81635632e+00j,  46.00000000 +0.00000000e+00j,\n",
       "         5.35410197 -1.81635632e+00j, -20.44427191 +3.63271264e-01j,\n",
       "        -1.35410197 +7.69420884e+00j,  -2.55572809 +1.53884177e+00j])"
      ]
     },
     "execution_count": 11,
     "metadata": {},
     "output_type": "execute_result"
    }
   ],
   "source": [
    "#### Shift Zero-frequency ####\n",
    "np.fft.fftshift(A)"
   ]
  },
  {
   "cell_type": "code",
   "execution_count": 12,
   "metadata": {
    "collapsed": false
   },
   "outputs": [
    {
     "name": "stdout",
     "output_type": "stream",
     "text": [
      "True\n"
     ]
    }
   ],
   "source": [
    "#### Two-dimensional Fourier Transform ####\n",
    "x = np.random.random(24)\n",
    "x.shape = 2,12\n",
    "y2 = np.fft.fft2(x)\n",
    "x.shape = 1,2,12\n",
    "y3 = np.fft.fftn(x, axes = (1, 2))\n",
    "print(np.allclose(y2, y3))"
   ]
  },
  {
   "cell_type": "markdown",
   "metadata": {},
   "source": [
    "### Application: Interpolation"
   ]
  },
  {
   "cell_type": "code",
   "execution_count": 13,
   "metadata": {
    "collapsed": false
   },
   "outputs": [
    {
     "name": "stdout",
     "output_type": "stream",
     "text": [
      "(317, 661)\n"
     ]
    }
   ],
   "source": [
    "#### Original Image ####\n",
    "from matplotlib import image\n",
    "img = image.imread('./scientist.png')\n",
    "gray_img = np.dot(img[:,:,:3], [.21, .72, .07])\n",
    "print(gray_img.shape)\n",
    "plt.imshow(gray_img, cmap = plt.get_cmap('gray'))\n",
    "plt.show()"
   ]
  },
  {
   "cell_type": "code",
   "execution_count": 14,
   "metadata": {
    "collapsed": true
   },
   "outputs": [],
   "source": [
    "#### Image Spectrum ####\n",
    "fft = np.fft.fft2(gray_img)\n",
    "amp_spectrum = np.abs(fft)\n",
    "plt.imshow(np.log(amp_spectrum))\n",
    "plt.show()"
   ]
  },
  {
   "cell_type": "code",
   "execution_count": 15,
   "metadata": {
    "collapsed": true
   },
   "outputs": [],
   "source": [
    "#### Replace the Zero-frequency Component to the Center ####\n",
    "fft_shift = np.fft.fftshift(fft)\n",
    "plt.imshow(np.log(np.abs(fft_shift)))\n",
    "plt.show()"
   ]
  },
  {
   "cell_type": "code",
   "execution_count": 20,
   "metadata": {
    "collapsed": false
   },
   "outputs": [],
   "source": [
    "#### Created Interpolated/ Enlarged Image ####\n",
    "m, n = fft_shift.shape\n",
    "b = np.zeros((int(m / 2), n))\n",
    "c = np.zeros((2 * m - 1, int(n / 2)))\n",
    "fft_shift = np.concatenate((b, fft_shift, b), axis = 0)\n",
    "fft_shift = np.concatenate((c, fft_shift, c), axis = 1)\n",
    "ifft = np.fft.ifft2(np.fft.ifftshift(fft_shift))\n",
    "ifft.shape\n",
    "ifft = np.real(ifft)\n",
    "plt.imshow(ifft, cmap = plt.get_cmap('gray'))\n",
    "plt.show()"
   ]
  }
 ],
 "metadata": {
  "kernelspec": {
   "display_name": "Python 3",
   "language": "python",
   "name": "python3"
  },
  "language_info": {
   "codemirror_mode": {
    "name": "ipython",
    "version": 3
   },
   "file_extension": ".py",
   "mimetype": "text/x-python",
   "name": "python",
   "nbconvert_exporter": "python",
   "pygments_lexer": "ipython3",
   "version": "3.5.0"
  }
 },
 "nbformat": 4,
 "nbformat_minor": 0
}
