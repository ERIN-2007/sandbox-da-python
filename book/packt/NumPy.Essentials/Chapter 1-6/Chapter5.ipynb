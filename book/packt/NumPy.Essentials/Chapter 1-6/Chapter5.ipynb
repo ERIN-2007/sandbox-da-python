{
 "cells": [
  {
   "cell_type": "markdown",
   "metadata": {},
   "source": [
    "### NumPy Matrix"
   ]
  },
  {
   "cell_type": "code",
   "execution_count": 1,
   "metadata": {
    "collapsed": false
   },
   "outputs": [
    {
     "name": "stdout",
     "output_type": "stream",
     "text": [
      "[[0 1 2]\n",
      " [3 4 5]\n",
      " [6 7 8]]\n",
      "[[ 1.  0.  0.]\n",
      " [ 0.  1.  0.]\n",
      " [ 0.  0.  1.]]\n",
      "[[ 1.  1.  2.]\n",
      " [ 3.  5.  5.]\n",
      " [ 6.  7.  9.]]\n"
     ]
    }
   ],
   "source": [
    "import numpy as np\n",
    "#### Create NumPy Matrix ####\n",
    "ndArray = np.arange(9).reshape(3,3)\n",
    "x = np.matrix(ndArray)\n",
    "y = np.mat(np.identity(3))\n",
    "print(x)\n",
    "print(y)\n",
    "print(x + y)"
   ]
  },
  {
   "cell_type": "code",
   "execution_count": 2,
   "metadata": {
    "collapsed": false
   },
   "outputs": [
    {
     "name": "stdout",
     "output_type": "stream",
     "text": [
      "[[ 15  18  21]\n",
      " [ 42  54  66]\n",
      " [ 69  90 111]]\n",
      "[[ 15  18  21]\n",
      " [ 42  54  66]\n",
      " [ 69  90 111]]\n"
     ]
    }
   ],
   "source": [
    "#### Comparison between Matrix and numpy.dot() ####\n",
    "print(x * x)\n",
    "print(np.dot(ndArray, ndArray))"
   ]
  },
  {
   "cell_type": "code",
   "execution_count": 3,
   "metadata": {
    "collapsed": false
   },
   "outputs": [
    {
     "name": "stdout",
     "output_type": "stream",
     "text": [
      "[[ 180  234  288]\n",
      " [ 558  720  882]\n",
      " [ 936 1206 1476]]\n"
     ]
    }
   ],
   "source": [
    "#### Power Notation in NumPy Matrix ####\n",
    "print(x**3)"
   ]
  },
  {
   "cell_type": "code",
   "execution_count": 4,
   "metadata": {
    "collapsed": false
   },
   "outputs": [
    {
     "name": "stdout",
     "output_type": "stream",
     "text": [
      "[[ -3.01594597e-02   3.03008875e-02  -8.13209348e-04]\n",
      " [  6.60113849e-02  -1.59106177e-02  -3.80794117e-02]\n",
      " [ -4.73782838e-03   7.07138564e-05   2.68359085e-02]]\n",
      "[[12 45  2]\n",
      " [23 23  4]\n",
      " [33 34 43]]\n"
     ]
    }
   ],
   "source": [
    "#### Matrix Inverse and Transpose\n",
    "z = np.matrix(np.random.random_integers(1, 50, 9).reshape(3,3))\n",
    "print(z.I)\n",
    "print(z.H)"
   ]
  },
  {
   "cell_type": "code",
   "execution_count": 5,
   "metadata": {
    "collapsed": false
   },
   "outputs": [
    {
     "name": "stdout",
     "output_type": "stream",
     "text": [
      "[[ 0.26666667]\n",
      " [ 0.46666667]\n",
      " [-0.06666667]]\n"
     ]
    },
    {
     "data": {
      "text/plain": [
       "True"
      ]
     },
     "execution_count": 5,
     "metadata": {},
     "output_type": "execute_result"
    }
   ],
   "source": [
    "#### x = A.I * b ####\n",
    "A = np.mat('3 1 4; 1 5 9; 2 6 5')\n",
    "b = np.mat([[1],[2],[3]])\n",
    "x = A.I * b\n",
    "print(x)\n",
    "np.allclose(A * x, b)"
   ]
  },
  {
   "cell_type": "code",
   "execution_count": 6,
   "metadata": {
    "collapsed": false
   },
   "outputs": [
    {
     "name": "stdout",
     "output_type": "stream",
     "text": [
      "The slowest run took 13.63 times longer than the fastest. This could mean that an intermediate result is being cached \n",
      "1000000 loops, best of 3: 220 ns per loop\n",
      "The slowest run took 6.65 times longer than the fastest. This could mean that an intermediate result is being cached \n",
      "1000000 loops, best of 3: 1.16 µs per loop\n"
     ]
    }
   ],
   "source": [
    "#### Performance Comparison between ndarray and matrix ####\n",
    "x = np.arange(25000000).reshape(5000,5000)\n",
    "y = np.mat(x)\n",
    "%timeit x.T\n",
    "%timeit y.T"
   ]
  },
  {
   "cell_type": "code",
   "execution_count": 7,
   "metadata": {
    "collapsed": false
   },
   "outputs": [
    {
     "name": "stdout",
     "output_type": "stream",
     "text": [
      "[[3 1 4]\n",
      " [1 5 9]\n",
      " [2 6 5]]\n",
      "[3 1 4 1 5 9 2 6 5]\n"
     ]
    }
   ],
   "source": [
    "#### Convert matrix to ndarray ####\n",
    "A = np.mat('3 1 4; 1 5 9; 2 6 5')\n",
    "print(A.A)\n",
    "print(A.A1)"
   ]
  },
  {
   "cell_type": "markdown",
   "metadata": {},
   "source": [
    "### Linear Algebra"
   ]
  },
  {
   "cell_type": "code",
   "execution_count": 8,
   "metadata": {
    "collapsed": false
   },
   "outputs": [
    {
     "data": {
      "text/plain": [
       "array([[ 70, 100],\n",
       "       [150, 220]])"
      ]
     },
     "execution_count": 8,
     "metadata": {},
     "output_type": "execute_result"
    }
   ],
   "source": [
    "#### Dot Product ####\n",
    "x = np.array([[1, 2], [3, 4]])\n",
    "y = np.array([[10, 20], [30, 40]])\n",
    "np.dot(x, y)"
   ]
  },
  {
   "cell_type": "code",
   "execution_count": 9,
   "metadata": {
    "collapsed": false
   },
   "outputs": [
    {
     "data": {
      "text/plain": [
       "300"
      ]
     },
     "execution_count": 9,
     "metadata": {},
     "output_type": "execute_result"
    }
   ],
   "source": [
    "#### Vdot Product ####\n",
    "np.vdot(x, y)"
   ]
  },
  {
   "cell_type": "code",
   "execution_count": 10,
   "metadata": {
    "collapsed": false
   },
   "outputs": [
    {
     "data": {
      "text/plain": [
       "array([[ 10,  20,  30,  40],\n",
       "       [ 20,  40,  60,  80],\n",
       "       [ 30,  60,  90, 120],\n",
       "       [ 40,  80, 120, 160]])"
      ]
     },
     "execution_count": 10,
     "metadata": {},
     "output_type": "execute_result"
    }
   ],
   "source": [
    "#### Outer Product ####\n",
    "np.outer(x,y)"
   ]
  },
  {
   "cell_type": "code",
   "execution_count": 11,
   "metadata": {
    "collapsed": false
   },
   "outputs": [
    {
     "name": "stdout",
     "output_type": "stream",
     "text": [
      "[0 0 1]\n",
      "[ 0  0 -1]\n"
     ]
    }
   ],
   "source": [
    "#### Cross Product ####\n",
    "a = np.array([1,0,0])\n",
    "b = np.array([0,1,0])\n",
    "print(np.cross(a,b))\n",
    "print(np.cross(b,a))"
   ]
  },
  {
   "cell_type": "code",
   "execution_count": 12,
   "metadata": {
    "collapsed": false
   },
   "outputs": [
    {
     "data": {
      "text/plain": [
       "-20.000000000000007"
      ]
     },
     "execution_count": 12,
     "metadata": {},
     "output_type": "execute_result"
    }
   ],
   "source": [
    "#### Determinant of Array ####\n",
    "x = np.array([[4,8],[7,9]])\n",
    "np.linalg.det(x)"
   ]
  },
  {
   "cell_type": "code",
   "execution_count": 13,
   "metadata": {
    "collapsed": false
   },
   "outputs": [
    {
     "data": {
      "text/plain": [
       "array([[-0.45,  0.4 ],\n",
       "       [ 0.35, -0.2 ]])"
      ]
     },
     "execution_count": 13,
     "metadata": {},
     "output_type": "execute_result"
    }
   ],
   "source": [
    "#### Inverse of Array ####\n",
    "np.linalg.inv(x)"
   ]
  },
  {
   "cell_type": "code",
   "execution_count": 14,
   "metadata": {
    "collapsed": false
   },
   "outputs": [
    {
     "name": "stdout",
     "output_type": "stream",
     "text": [
      "[-0.21111111 -0.07777778  0.17777778]\n"
     ]
    }
   ],
   "source": [
    "#### Solve Equation Ax = b ####\n",
    "x = np.linalg.solve(A,b)\n",
    "print(x)"
   ]
  },
  {
   "cell_type": "markdown",
   "metadata": {},
   "source": [
    "### Decomposition"
   ]
  },
  {
   "cell_type": "code",
   "execution_count": 15,
   "metadata": {
    "collapsed": false
   },
   "outputs": [
    {
     "name": "stdout",
     "output_type": "stream",
     "text": [
      "[ 12.95599897+0.j          -0.47799948+0.39678471j  -0.47799948-0.39678471j]\n",
      "[[-0.66556035+0.j         -0.41114382-0.16265109j -0.41114382+0.16265109j]\n",
      " [-0.15902487+0.j         -0.18547846+0.5265846j  -0.18547846-0.5265846j ]\n",
      " [-0.72920540+0.j          0.70200554+0.j          0.70200554-0.j        ]]\n"
     ]
    }
   ],
   "source": [
    "#### Eigenvalues and Eigenvectors ####\n",
    "x = np.random.randint(0, 10, 9).reshape(3,3)\n",
    "w, v = np.linalg.eig(x)\n",
    "print(w)\n",
    "print(v)"
   ]
  },
  {
   "cell_type": "code",
   "execution_count": 16,
   "metadata": {
    "collapsed": false
   },
   "outputs": [
    {
     "data": {
      "text/plain": [
       "(array([-0.37228132+0.j,  5.37228132+0.j]),\n",
       " array([[ 0.82456484+0.j        ,  0.00000000+0.41597356j],\n",
       "        [-0.00000000+0.56576746j,  0.90937671+0.j        ]]))"
      ]
     },
     "execution_count": 16,
     "metadata": {},
     "output_type": "execute_result"
    }
   ],
   "source": [
    "#### Eigenvalues and Eigenvectors with Complex-value ####\n",
    "y = np.array([[1, 2j],[-3j, 4]])\n",
    "np.linalg.eig(y)"
   ]
  },
  {
   "cell_type": "code",
   "execution_count": 17,
   "metadata": {
    "collapsed": false
   },
   "outputs": [
    {
     "data": {
      "text/plain": [
       "(array([ 1.,  1.]), array([[ 0.70710678,  0.707106  ],\n",
       "        [ 0.70710678,  0.70710757]]))"
      ]
     },
     "execution_count": 17,
     "metadata": {},
     "output_type": "execute_result"
    }
   ],
   "source": [
    "#### Rounding Error ####\n",
    "z = np.array([[1 + 1e-10, -1e-10],[1e-10, 1 - 1e-10]])\n",
    "np.linalg.eig(z)"
   ]
  },
  {
   "cell_type": "code",
   "execution_count": 18,
   "metadata": {
    "collapsed": false
   },
   "outputs": [
    {
     "name": "stdout",
     "output_type": "stream",
     "text": [
      "[[-0.3246  0.799   0.5062]\n",
      " [-0.7531  0.1055 -0.6494]\n",
      " [-0.5723 -0.592   0.5675]]\n",
      "[ 13.5824   2.8455   2.3287]\n",
      "[[-0.2114 -0.5539 -0.8053]\n",
      " [ 0.4633 -0.7822  0.4164]\n",
      " [ 0.8606  0.2851 -0.422 ]]\n"
     ]
    }
   ],
   "source": [
    "#### Singular Value Decomposition (SVD) ####\n",
    "np.set_printoptions(precision = 4)\n",
    "A = np.array([3,1,4,1,5,9,2,6,5]).reshape(3,3)\n",
    "u, sigma, vh = np.linalg.svd(A)\n",
    "print(u)\n",
    "print(sigma)\n",
    "print(vh)"
   ]
  },
  {
   "cell_type": "code",
   "execution_count": 19,
   "metadata": {
    "collapsed": false
   },
   "outputs": [
    {
     "name": "stdout",
     "output_type": "stream",
     "text": [
      "[[ 3.  1.  4.]\n",
      " [ 1.  5.  9.]\n",
      " [ 2.  6.  5.]]\n",
      "Is A equal to B: True\n"
     ]
    }
   ],
   "source": [
    "#### Verify SVD ####\n",
    "diag_sigma = np.diag(sigma)\n",
    "Av = u.dot(diag_sigma).dot(vh)\n",
    "print(Av)\n",
    "print(\"Is A equal to B: {}\".format(np.allclose(A, Av)))"
   ]
  },
  {
   "cell_type": "code",
   "execution_count": 20,
   "metadata": {
    "collapsed": false
   },
   "outputs": [
    {
     "name": "stdout",
     "output_type": "stream",
     "text": [
      "[[-0.8018  0.5683 -0.1849]\n",
      " [-0.2673 -0.6177 -0.7396]\n",
      " [-0.5345 -0.5436  0.6472]]\n",
      "[[-3.7417 -5.3452 -8.2851]\n",
      " [ 0.     -5.7817 -6.0041]\n",
      " [ 0.      0.     -4.1603]]\n",
      "x from np.dot(q.T, b) is: [[ 0.2667]\n",
      " [ 0.4667]\n",
      " [-0.0667]]\n"
     ]
    }
   ],
   "source": [
    "#### QR Decomposition ####\n",
    "b = np.array([1,2,3]).reshape(3,1)\n",
    "q, r = np.linalg.qr(A)\n",
    "print(q)\n",
    "print(r)\n",
    "x = np.dot(np.linalg.inv(r), np.dot(q.T, b))\n",
    "print(\"x from np.dot(q.T, b) is: {}\".format(x))"
   ]
  },
  {
   "cell_type": "markdown",
   "metadata": {},
   "source": [
    "### Mathematics of Polynomial"
   ]
  },
  {
   "cell_type": "code",
   "execution_count": 21,
   "metadata": {
    "collapsed": false
   },
   "outputs": [
    {
     "data": {
      "text/plain": [
       "array([  1., -10.,  35., -50.,  24.])"
      ]
     },
     "execution_count": 21,
     "metadata": {},
     "output_type": "execute_result"
    }
   ],
   "source": [
    "#### Coefficients of a Polynomial ####\n",
    "root = np.array([1,2,3,4])\n",
    "np.poly(root)"
   ]
  },
  {
   "cell_type": "code",
   "execution_count": 22,
   "metadata": {
    "collapsed": false
   },
   "outputs": [
    {
     "data": {
      "text/plain": [
       "array([ 4.,  3.,  2.,  1.])"
      ]
     },
     "execution_count": 22,
     "metadata": {},
     "output_type": "execute_result"
    }
   ],
   "source": [
    "#### Roots from Coefficients ####\n",
    "np.roots([1,-10,35,-50,24])"
   ]
  },
  {
   "cell_type": "code",
   "execution_count": 23,
   "metadata": {
    "collapsed": false
   },
   "outputs": [
    {
     "data": {
      "text/plain": [
       "24"
      ]
     },
     "execution_count": 23,
     "metadata": {},
     "output_type": "execute_result"
    }
   ],
   "source": [
    "#### Calculate y when x = 5 from above Polynomial ####\n",
    "np.polyval([1,-10,35,-50,24], 5)"
   ]
  },
  {
   "cell_type": "code",
   "execution_count": 24,
   "metadata": {
    "collapsed": false
   },
   "outputs": [
    {
     "name": "stdout",
     "output_type": "stream",
     "text": [
      "[  0.2     -2.5     11.6667 -25.      24.       0.    ]\n",
      "[ True  True  True  True  True]\n"
     ]
    },
    {
     "data": {
      "text/plain": [
       "array([], dtype=int32)"
      ]
     },
     "execution_count": 24,
     "metadata": {},
     "output_type": "execute_result"
    }
   ],
   "source": [
    "#### Integrals and Derivatives ####\n",
    "coef = np.array([1,-10,35,-50,24])\n",
    "integral = np.polyint(coef)\n",
    "print(integral)\n",
    "print(np.polyder(integral) == coef)\n",
    "np.polyder(coef, 5)"
   ]
  },
  {
   "cell_type": "code",
   "execution_count": 25,
   "metadata": {
    "collapsed": false
   },
   "outputs": [
    {
     "name": "stdout",
     "output_type": "stream",
     "text": [
      "poly([  1. -10.  35. -50.  24.])\n",
      "[  1. -10.  35. -50.  24.]\n",
      "[ 0.25    0.3333  0.5     1.    ]\n"
     ]
    }
   ],
   "source": [
    "#### Using numpy.polynomial ####\n",
    "from numpy.polynomial import polynomial\n",
    "p = polynomial.Polynomial(coef)\n",
    "print(p)\n",
    "print(p.coef)\n",
    "print(p.roots())"
   ]
  },
  {
   "cell_type": "code",
   "execution_count": 26,
   "metadata": {
    "collapsed": false
   },
   "outputs": [
    {
     "data": {
      "text/plain": [
       "Polynomial([ 5.], [-1.,  1.], [-1.,  1.])"
      ]
     },
     "execution_count": 26,
     "metadata": {},
     "output_type": "execute_result"
    }
   ],
   "source": [
    "#### Using numpy.polynomial to obtain y when x = 5 ####\n",
    "polynomial.polyval(p, 5)"
   ]
  },
  {
   "cell_type": "code",
   "execution_count": 27,
   "metadata": {
    "collapsed": false
   },
   "outputs": [
    {
     "name": "stdout",
     "output_type": "stream",
     "text": [
      "poly([  0.       1.      -5.      11.6667 -12.5      4.8   ])\n",
      "poly([  1. -10.  35. -50.  24.])\n"
     ]
    }
   ],
   "source": [
    "### Using numpy.polynomial to calculate integrals and derivatives ####\n",
    "print(p.integ())\n",
    "print(p.integ().deriv())"
   ]
  },
  {
   "cell_type": "markdown",
   "metadata": {},
   "source": [
    "### Application: Regression"
   ]
  },
  {
   "cell_type": "code",
   "execution_count": 28,
   "metadata": {
    "collapsed": false,
    "scrolled": true
   },
   "outputs": [
    {
     "name": "stdout",
     "output_type": "stream",
     "text": [
      "Age: [19 15 15 18 13 11 16 26 21 25 29 23 21 20 27 26 22 23 23 21 23 22 29 21 26\n",
      " 24 27 24 22 29 24 31 39 37 37 30 35 34 38 37 38 31 34 30 30 39 34 39 32 32\n",
      " 38 39 47 49 49 48 49 44 40 47 48 40 43 49 48 43 41 44 46 44 45 52 57 57 52\n",
      " 57 56 56 57 55 59 54 55 52 52 53 57 55 69 64 61 63 64 69 64 60 62 66 63 69]\n",
      "Sleeping Scores: [ 5.5011  5.5019  5.5045  5.5095  5.5066  5.506   5.5015  5.7021  5.7048\n",
      "  5.7031  5.7034  5.7002  5.7067  5.7008  5.7053  5.7041  5.7067  5.7074\n",
      "  5.7009  5.7019  5.7098  5.7067  5.7039  5.7074  5.7017  5.7034  5.705\n",
      "  5.7059  5.7031  5.7065  5.7087  5.4096  5.4049  5.4001  5.4029  5.4041\n",
      "  5.404   5.4077  5.4056  5.4099  5.4058  5.4045  5.4044  5.4061  5.4029\n",
      "  5.4058  5.4089  5.4089  5.4049  5.4004  5.407   5.4069  4.9098  4.905\n",
      "  4.9077  4.9036  4.9028  4.9015  4.9038  4.9019  4.9015  4.9098  4.9043\n",
      "  4.9052  4.9094  4.908   4.9028  4.9058  4.9041  4.9096  4.9065  4.6082\n",
      "  4.6014  4.604   4.6024  4.6097  4.6084  4.602   4.6023  4.6079  4.6034\n",
      "  4.6034  4.6002  4.6065  4.6061  4.6064  4.6005  4.6082  4.4088  4.4029\n",
      "  4.4025  4.4042  4.4008  4.4096  4.4005  4.403   4.4062  4.4011  4.4096\n",
      "  4.4079]\n"
     ]
    }
   ],
   "source": [
    "#### Simulate Age and Sleeping Scores Data ####\n",
    "## Source: https://www.sleepio.com/2012report/ ##\n",
    "groups = [7, 24, 21, 19, 17, 12]\n",
    "age = np.concatenate([np.random.randint((ind + 1)*10, (ind + 2)*10, group) for ind, group in enumerate(groups)])\n",
    "print(\"Age: {}\".format(age))\n",
    "scores = [5.5, 5.7, 5.4, 4.9, 4.6, 4.4]\n",
    "sim_scores = np.concatenate([.01 * np.random.rand(group) + scores[ind] for ind, group in enumerate(groups)] )\n",
    "print(\"Sleeping Scores: {}\".format(sim_scores))"
   ]
  },
  {
   "cell_type": "code",
   "execution_count": 29,
   "metadata": {
    "collapsed": false
   },
   "outputs": [
    {
     "name": "stdout",
     "output_type": "stream",
     "text": [
      "-0.0293423624391\n",
      "6.3046101649\n"
     ]
    }
   ],
   "source": [
    "#### Assuming the Regression Line is y = mx + c #### \n",
    "## Source: Office for National Statistics, http://ons.gov.uk/ons/taxonomy/index.html?nscl=House+Price+Indices#tab-data-tables ##\n",
    "AGE = np.vstack([age, np.ones(len(age))]).T\n",
    "m, c = np.linalg.lstsq(AGE, sim_scores)[0]\n",
    "print(m)\n",
    "print(c)"
   ]
  },
  {
   "cell_type": "markdown",
   "metadata": {},
   "source": [
    "### Application: Curve Fitting"
   ]
  },
  {
   "cell_type": "code",
   "execution_count": 30,
   "metadata": {
    "collapsed": false
   },
   "outputs": [
    {
     "name": "stdout",
     "output_type": "stream",
     "text": [
      "year: [ 1  2  3  4  5  6  7  8  9 10]\n",
      "price: [129000 133000 138000 144000 142000 141000 150000 135000 134000 139000]\n"
     ]
    }
   ],
   "source": [
    "#### Year and Average Hosing Price ####\n",
    "year = np.arange(1,11)\n",
    "price = np.array([129000, 133000, 138000, 144000, 142000, 141000, 150000, 135000, 134000, 139000])\n",
    "print(\"year: {}\".format(year))\n",
    "print(\"price: {}\".format(price))"
   ]
  },
  {
   "cell_type": "code",
   "execution_count": 31,
   "metadata": {
    "collapsed": false
   },
   "outputs": [
    {
     "name": "stdout",
     "output_type": "stream",
     "text": [
      "129716.666667\n"
     ]
    }
   ],
   "source": [
    "#### Calculate the Price at Year = 11 ####\n",
    "a, b, c = np.polyfit(year, price, 2)\n",
    "price = a*11**2 + b*11 + c\n",
    "print(price)"
   ]
  }
 ],
 "metadata": {
  "kernelspec": {
   "display_name": "Python 3",
   "language": "python",
   "name": "python3"
  },
  "language_info": {
   "codemirror_mode": {
    "name": "ipython",
    "version": 3
   },
   "file_extension": ".py",
   "mimetype": "text/x-python",
   "name": "python",
   "nbconvert_exporter": "python",
   "pygments_lexer": "ipython3",
   "version": "3.5.0"
  }
 },
 "nbformat": 4,
 "nbformat_minor": 0
}
